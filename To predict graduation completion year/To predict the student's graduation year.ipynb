{
  "cells": [
    {
      "cell_type": "markdown",
      "id": "5856ba84",
      "metadata": {
        "id": "5856ba84"
      },
      "source": [
        "## 1. Importing the necessary Python Modules / Libraries"
      ]
    },
    {
      "cell_type": "code",
      "execution_count": 4,
      "id": "2b27a01b",
      "metadata": {
        "id": "2b27a01b"
      },
      "outputs": [],
      "source": [
        "import pandas as pd\n",
        "import matplotlib.pyplot as plt\n",
        "import numpy as np\n",
        "import seaborn as sns\n",
        "import plotly.express as px\n",
        "import plotly.graph_objects as go"
      ]
    },
    {
      "cell_type": "markdown",
      "id": "a91155d4",
      "metadata": {
        "id": "a91155d4"
      },
      "source": [
        "## 2. Reading the data set using the 'pandas' module"
      ]
    },
    {
      "cell_type": "code",
      "execution_count": 5,
      "id": "6089424a",
      "metadata": {
        "id": "6089424a"
      },
      "outputs": [],
      "source": [
        "df = pd.read_excel('/content/drive/MyDrive/Final Lead Data.xlsx')"
      ]
    },
    {
      "cell_type": "code",
      "execution_count": 6,
      "id": "RsWwhQI2vdft",
      "metadata": {
        "colab": {
          "base_uri": "https://localhost:8080/"
        },
        "id": "RsWwhQI2vdft",
        "outputId": "40452c5c-f7cc-4600-ce6b-fc4e84eba017"
      },
      "outputs": [
        {
          "name": "stdout",
          "output_type": "stream",
          "text": [
            "Drive already mounted at /content/drive; to attempt to forcibly remount, call drive.mount(\"/content/drive\", force_remount=True).\n"
          ]
        }
      ],
      "source": [
        "from google.colab import drive\n",
        "drive.mount('/content/drive')"
      ]
    },
    {
      "cell_type": "code",
      "execution_count": 7,
      "id": "fa4914ec",
      "metadata": {
        "colab": {
          "base_uri": "https://localhost:8080/",
          "height": 538
        },
        "id": "fa4914ec",
        "outputId": "7dd24717-0f1d-4118-eb50-4aa1618c85c3"
      },
      "outputs": [
        {
          "data": {
            "application/vnd.google.colaboratory.intrinsic+json": {
              "summary": "{\n  \"name\": \"df\",\n  \"rows\": 5303,\n  \"fields\": [\n    {\n      \"column\": \"ID\",\n      \"properties\": {\n        \"dtype\": \"number\",\n        \"std\": 14540,\n        \"min\": 25826,\n        \"max\": 68112,\n        \"num_unique_values\": 5303,\n        \"samples\": [\n          66360,\n          34742,\n          35680\n        ],\n        \"semantic_type\": \"\",\n        \"description\": \"\"\n      }\n    },\n    {\n      \"column\": \"First Name\",\n      \"properties\": {\n        \"dtype\": \"string\",\n        \"num_unique_values\": 3265,\n        \"samples\": [\n          \"Maureen\",\n          \"Apurva\",\n          \"Abhishek\"\n        ],\n        \"semantic_type\": \"\",\n        \"description\": \"\"\n      }\n    },\n    {\n      \"column\": \"Email\",\n      \"properties\": {\n        \"dtype\": \"string\",\n        \"num_unique_values\": 2808,\n        \"samples\": [\n          \"jordan@xyz.com\",\n          \"madhukar@xyz.com\",\n          \"rahmatullah@xyz.com\"\n        ],\n        \"semantic_type\": \"\",\n        \"description\": \"\"\n      }\n    },\n    {\n      \"column\": \"Gender\",\n      \"properties\": {\n        \"dtype\": \"category\",\n        \"num_unique_values\": 2,\n        \"samples\": [\n          \"Male\",\n          \"Female\"\n        ],\n        \"semantic_type\": \"\",\n        \"description\": \"\"\n      }\n    },\n    {\n      \"column\": \"City\",\n      \"properties\": {\n        \"dtype\": \"category\",\n        \"num_unique_values\": 20,\n        \"samples\": [\n          \"Frankfurt\",\n          \"Ulhasnagar\"\n        ],\n        \"semantic_type\": \"\",\n        \"description\": \"\"\n      }\n    },\n    {\n      \"column\": \"Created\",\n      \"properties\": {\n        \"dtype\": \"object\",\n        \"num_unique_values\": 5265,\n        \"samples\": [\n          \"05/29/2020 08:07:14 am\",\n          \"12/17/2019 06:18:08 pm\"\n        ],\n        \"semantic_type\": \"\",\n        \"description\": \"\"\n      }\n    },\n    {\n      \"column\": \"Position\",\n      \"properties\": {\n        \"dtype\": \"category\",\n        \"num_unique_values\": 6,\n        \"samples\": [\n          \"S.E.(C.E.)\",\n          \"S.Y(COMPUTER ENGG)\"\n        ],\n        \"semantic_type\": \"\",\n        \"description\": \"\"\n      }\n    },\n    {\n      \"column\": \"New College Name\",\n      \"properties\": {\n        \"dtype\": \"category\",\n        \"num_unique_values\": 1412,\n        \"samples\": [\n          \"Lokmanya Tilak College of Engineering, Koparkhairane.\",\n          \"DAVV School of Data Science\"\n        ],\n        \"semantic_type\": \"\",\n        \"description\": \"\"\n      }\n    },\n    {\n      \"column\": \"Colleges\",\n      \"properties\": {\n        \"dtype\": \"category\",\n        \"num_unique_values\": 208,\n        \"samples\": [\n          \"Shri Vithal Education and Research Institute College of Engineering - SVERI\",\n          \"Rajarshi Shahu College of Engineering - RSCE\"\n        ],\n        \"semantic_type\": \"\",\n        \"description\": \"\"\n      }\n    },\n    {\n      \"column\": \"Academic Year\",\n      \"properties\": {\n        \"dtype\": \"number\",\n        \"std\": 0.8170870186413388,\n        \"min\": 1.0,\n        \"max\": 4.0,\n        \"num_unique_values\": 4,\n        \"samples\": [\n          2.0,\n          4.0\n        ],\n        \"semantic_type\": \"\",\n        \"description\": \"\"\n      }\n    },\n    {\n      \"column\": \"Branch/ Specialisation\",\n      \"properties\": {\n        \"dtype\": \"category\",\n        \"num_unique_values\": 3,\n        \"samples\": [\n          \"Information Technology (IT)\",\n          \"Other\"\n        ],\n        \"semantic_type\": \"\",\n        \"description\": \"\"\n      }\n    },\n    {\n      \"column\": \"Other Branch\",\n      \"properties\": {\n        \"dtype\": \"category\",\n        \"num_unique_values\": 210,\n        \"samples\": [\n          \"Electronics and Telecommunication\",\n          \"Electronics and Communication\"\n        ],\n        \"semantic_type\": \"\",\n        \"description\": \"\"\n      }\n    },\n    {\n      \"column\": \"What is your current academic year?\",\n      \"properties\": {\n        \"dtype\": \"category\",\n        \"num_unique_values\": 4,\n        \"samples\": [\n          \"1st Year\",\n          \"3rd Year\"\n        ],\n        \"semantic_type\": \"\",\n        \"description\": \"\"\n      }\n    },\n    {\n      \"column\": \"Company Name/ College Name\",\n      \"properties\": {\n        \"dtype\": \"category\",\n        \"num_unique_values\": 215,\n        \"samples\": [\n          \"IIT Kanpur\",\n          \"Model College, kalyan\"\n        ],\n        \"semantic_type\": \"\",\n        \"description\": \"\"\n      }\n    },\n    {\n      \"column\": \"Would you like to know more about us and our programs?\",\n      \"properties\": {\n        \"dtype\": \"category\",\n        \"num_unique_values\": 2,\n        \"samples\": [\n          \"no\",\n          \"yes\"\n        ],\n        \"semantic_type\": \"\",\n        \"description\": \"\"\n      }\n    },\n    {\n      \"column\": \"Are you interested in knowing more about our events?\",\n      \"properties\": {\n        \"dtype\": \"category\",\n        \"num_unique_values\": 2,\n        \"samples\": [\n          \"no\",\n          \"yes\"\n        ],\n        \"semantic_type\": \"\",\n        \"description\": \"\"\n      }\n    },\n    {\n      \"column\": \"Have you recommended Cloud Counselage to anyone?\",\n      \"properties\": {\n        \"dtype\": \"category\",\n        \"num_unique_values\": 2,\n        \"samples\": [\n          \"yes\",\n          \"no\"\n        ],\n        \"semantic_type\": \"\",\n        \"description\": \"\"\n      }\n    },\n    {\n      \"column\": \"How did you come to know about this event?\",\n      \"properties\": {\n        \"dtype\": \"category\",\n        \"num_unique_values\": 5,\n        \"samples\": [\n          \"Instagram\",\n          \"Facebook\"\n        ],\n        \"semantic_type\": \"\",\n        \"description\": \"\"\n      }\n    }\n  ]\n}",
              "type": "dataframe",
              "variable_name": "df"
            },
            "text/html": [
              "\n",
              "  <div id=\"df-33873ac7-352c-4284-a4af-de59b388e6e1\" class=\"colab-df-container\">\n",
              "    <div>\n",
              "<style scoped>\n",
              "    .dataframe tbody tr th:only-of-type {\n",
              "        vertical-align: middle;\n",
              "    }\n",
              "\n",
              "    .dataframe tbody tr th {\n",
              "        vertical-align: top;\n",
              "    }\n",
              "\n",
              "    .dataframe thead th {\n",
              "        text-align: right;\n",
              "    }\n",
              "</style>\n",
              "<table border=\"1\" class=\"dataframe\">\n",
              "  <thead>\n",
              "    <tr style=\"text-align: right;\">\n",
              "      <th></th>\n",
              "      <th>ID</th>\n",
              "      <th>First Name</th>\n",
              "      <th>Email</th>\n",
              "      <th>Gender</th>\n",
              "      <th>City</th>\n",
              "      <th>Created</th>\n",
              "      <th>Position</th>\n",
              "      <th>New College Name</th>\n",
              "      <th>Colleges</th>\n",
              "      <th>Academic Year</th>\n",
              "      <th>Branch/ Specialisation</th>\n",
              "      <th>Other Branch</th>\n",
              "      <th>What is your current academic year?</th>\n",
              "      <th>Company Name/ College Name</th>\n",
              "      <th>Would you like to know more about us and our programs?</th>\n",
              "      <th>Are you interested in knowing more about our events?</th>\n",
              "      <th>Have you recommended Cloud Counselage to anyone?</th>\n",
              "      <th>How did you come to know about this event?</th>\n",
              "    </tr>\n",
              "  </thead>\n",
              "  <tbody>\n",
              "    <tr>\n",
              "      <th>0</th>\n",
              "      <td>68112</td>\n",
              "      <td>ANIKET</td>\n",
              "      <td>aniket@xyz.com</td>\n",
              "      <td>NaN</td>\n",
              "      <td>NaN</td>\n",
              "      <td>04/27/2022 01:41:38 pm</td>\n",
              "      <td>NaN</td>\n",
              "      <td>NaN</td>\n",
              "      <td>NaN</td>\n",
              "      <td>NaN</td>\n",
              "      <td>NaN</td>\n",
              "      <td>NaN</td>\n",
              "      <td>NaN</td>\n",
              "      <td>NaN</td>\n",
              "      <td>yes</td>\n",
              "      <td>yes</td>\n",
              "      <td>no</td>\n",
              "      <td>NaN</td>\n",
              "    </tr>\n",
              "    <tr>\n",
              "      <th>1</th>\n",
              "      <td>68110</td>\n",
              "      <td>Dhanshree</td>\n",
              "      <td>dhanshree@xyz.com</td>\n",
              "      <td>NaN</td>\n",
              "      <td>NaN</td>\n",
              "      <td>04/22/2022 04:08:38 pm</td>\n",
              "      <td>NaN</td>\n",
              "      <td>Lords Universal College</td>\n",
              "      <td>NaN</td>\n",
              "      <td>NaN</td>\n",
              "      <td>NaN</td>\n",
              "      <td>NaN</td>\n",
              "      <td>NaN</td>\n",
              "      <td>NaN</td>\n",
              "      <td>yes</td>\n",
              "      <td>yes</td>\n",
              "      <td>no</td>\n",
              "      <td>NaN</td>\n",
              "    </tr>\n",
              "    <tr>\n",
              "      <th>2</th>\n",
              "      <td>68108</td>\n",
              "      <td>Dhiraj</td>\n",
              "      <td>dhiraj@xyz.com</td>\n",
              "      <td>NaN</td>\n",
              "      <td>NaN</td>\n",
              "      <td>04/16/2022 10:31:59 pm</td>\n",
              "      <td>NaN</td>\n",
              "      <td>NaN</td>\n",
              "      <td>NaN</td>\n",
              "      <td>NaN</td>\n",
              "      <td>NaN</td>\n",
              "      <td>NaN</td>\n",
              "      <td>NaN</td>\n",
              "      <td>NaN</td>\n",
              "      <td>yes</td>\n",
              "      <td>yes</td>\n",
              "      <td>no</td>\n",
              "      <td>NaN</td>\n",
              "    </tr>\n",
              "    <tr>\n",
              "      <th>3</th>\n",
              "      <td>68106</td>\n",
              "      <td>Pooja</td>\n",
              "      <td>pooja@xyz.com</td>\n",
              "      <td>NaN</td>\n",
              "      <td>NaN</td>\n",
              "      <td>04/13/2022 10:05:15 pm</td>\n",
              "      <td>NaN</td>\n",
              "      <td>NaN</td>\n",
              "      <td>NaN</td>\n",
              "      <td>NaN</td>\n",
              "      <td>NaN</td>\n",
              "      <td>NaN</td>\n",
              "      <td>NaN</td>\n",
              "      <td>NaN</td>\n",
              "      <td>yes</td>\n",
              "      <td>yes</td>\n",
              "      <td>no</td>\n",
              "      <td>NaN</td>\n",
              "    </tr>\n",
              "    <tr>\n",
              "      <th>4</th>\n",
              "      <td>68090</td>\n",
              "      <td>Aayush</td>\n",
              "      <td>aayush@xyz.com</td>\n",
              "      <td>NaN</td>\n",
              "      <td>NaN</td>\n",
              "      <td>03/26/2022 07:02:48 pm</td>\n",
              "      <td>NaN</td>\n",
              "      <td>B.k Birla college</td>\n",
              "      <td>NaN</td>\n",
              "      <td>NaN</td>\n",
              "      <td>NaN</td>\n",
              "      <td>NaN</td>\n",
              "      <td>NaN</td>\n",
              "      <td>NaN</td>\n",
              "      <td>yes</td>\n",
              "      <td>yes</td>\n",
              "      <td>no</td>\n",
              "      <td>NaN</td>\n",
              "    </tr>\n",
              "  </tbody>\n",
              "</table>\n",
              "</div>\n",
              "    <div class=\"colab-df-buttons\">\n",
              "\n",
              "  <div class=\"colab-df-container\">\n",
              "    <button class=\"colab-df-convert\" onclick=\"convertToInteractive('df-33873ac7-352c-4284-a4af-de59b388e6e1')\"\n",
              "            title=\"Convert this dataframe to an interactive table.\"\n",
              "            style=\"display:none;\">\n",
              "\n",
              "  <svg xmlns=\"http://www.w3.org/2000/svg\" height=\"24px\" viewBox=\"0 -960 960 960\">\n",
              "    <path d=\"M120-120v-720h720v720H120Zm60-500h600v-160H180v160Zm220 220h160v-160H400v160Zm0 220h160v-160H400v160ZM180-400h160v-160H180v160Zm440 0h160v-160H620v160ZM180-180h160v-160H180v160Zm440 0h160v-160H620v160Z\"/>\n",
              "  </svg>\n",
              "    </button>\n",
              "\n",
              "  <style>\n",
              "    .colab-df-container {\n",
              "      display:flex;\n",
              "      gap: 12px;\n",
              "    }\n",
              "\n",
              "    .colab-df-convert {\n",
              "      background-color: #E8F0FE;\n",
              "      border: none;\n",
              "      border-radius: 50%;\n",
              "      cursor: pointer;\n",
              "      display: none;\n",
              "      fill: #1967D2;\n",
              "      height: 32px;\n",
              "      padding: 0 0 0 0;\n",
              "      width: 32px;\n",
              "    }\n",
              "\n",
              "    .colab-df-convert:hover {\n",
              "      background-color: #E2EBFA;\n",
              "      box-shadow: 0px 1px 2px rgba(60, 64, 67, 0.3), 0px 1px 3px 1px rgba(60, 64, 67, 0.15);\n",
              "      fill: #174EA6;\n",
              "    }\n",
              "\n",
              "    .colab-df-buttons div {\n",
              "      margin-bottom: 4px;\n",
              "    }\n",
              "\n",
              "    [theme=dark] .colab-df-convert {\n",
              "      background-color: #3B4455;\n",
              "      fill: #D2E3FC;\n",
              "    }\n",
              "\n",
              "    [theme=dark] .colab-df-convert:hover {\n",
              "      background-color: #434B5C;\n",
              "      box-shadow: 0px 1px 3px 1px rgba(0, 0, 0, 0.15);\n",
              "      filter: drop-shadow(0px 1px 2px rgba(0, 0, 0, 0.3));\n",
              "      fill: #FFFFFF;\n",
              "    }\n",
              "  </style>\n",
              "\n",
              "    <script>\n",
              "      const buttonEl =\n",
              "        document.querySelector('#df-33873ac7-352c-4284-a4af-de59b388e6e1 button.colab-df-convert');\n",
              "      buttonEl.style.display =\n",
              "        google.colab.kernel.accessAllowed ? 'block' : 'none';\n",
              "\n",
              "      async function convertToInteractive(key) {\n",
              "        const element = document.querySelector('#df-33873ac7-352c-4284-a4af-de59b388e6e1');\n",
              "        const dataTable =\n",
              "          await google.colab.kernel.invokeFunction('convertToInteractive',\n",
              "                                                    [key], {});\n",
              "        if (!dataTable) return;\n",
              "\n",
              "        const docLinkHtml = 'Like what you see? Visit the ' +\n",
              "          '<a target=\"_blank\" href=https://colab.research.google.com/notebooks/data_table.ipynb>data table notebook</a>'\n",
              "          + ' to learn more about interactive tables.';\n",
              "        element.innerHTML = '';\n",
              "        dataTable['output_type'] = 'display_data';\n",
              "        await google.colab.output.renderOutput(dataTable, element);\n",
              "        const docLink = document.createElement('div');\n",
              "        docLink.innerHTML = docLinkHtml;\n",
              "        element.appendChild(docLink);\n",
              "      }\n",
              "    </script>\n",
              "  </div>\n",
              "\n",
              "\n",
              "<div id=\"df-67ae5392-cdd7-49f2-b873-a9676be4d5ce\">\n",
              "  <button class=\"colab-df-quickchart\" onclick=\"quickchart('df-67ae5392-cdd7-49f2-b873-a9676be4d5ce')\"\n",
              "            title=\"Suggest charts\"\n",
              "            style=\"display:none;\">\n",
              "\n",
              "<svg xmlns=\"http://www.w3.org/2000/svg\" height=\"24px\"viewBox=\"0 0 24 24\"\n",
              "     width=\"24px\">\n",
              "    <g>\n",
              "        <path d=\"M19 3H5c-1.1 0-2 .9-2 2v14c0 1.1.9 2 2 2h14c1.1 0 2-.9 2-2V5c0-1.1-.9-2-2-2zM9 17H7v-7h2v7zm4 0h-2V7h2v10zm4 0h-2v-4h2v4z\"/>\n",
              "    </g>\n",
              "</svg>\n",
              "  </button>\n",
              "\n",
              "<style>\n",
              "  .colab-df-quickchart {\n",
              "      --bg-color: #E8F0FE;\n",
              "      --fill-color: #1967D2;\n",
              "      --hover-bg-color: #E2EBFA;\n",
              "      --hover-fill-color: #174EA6;\n",
              "      --disabled-fill-color: #AAA;\n",
              "      --disabled-bg-color: #DDD;\n",
              "  }\n",
              "\n",
              "  [theme=dark] .colab-df-quickchart {\n",
              "      --bg-color: #3B4455;\n",
              "      --fill-color: #D2E3FC;\n",
              "      --hover-bg-color: #434B5C;\n",
              "      --hover-fill-color: #FFFFFF;\n",
              "      --disabled-bg-color: #3B4455;\n",
              "      --disabled-fill-color: #666;\n",
              "  }\n",
              "\n",
              "  .colab-df-quickchart {\n",
              "    background-color: var(--bg-color);\n",
              "    border: none;\n",
              "    border-radius: 50%;\n",
              "    cursor: pointer;\n",
              "    display: none;\n",
              "    fill: var(--fill-color);\n",
              "    height: 32px;\n",
              "    padding: 0;\n",
              "    width: 32px;\n",
              "  }\n",
              "\n",
              "  .colab-df-quickchart:hover {\n",
              "    background-color: var(--hover-bg-color);\n",
              "    box-shadow: 0 1px 2px rgba(60, 64, 67, 0.3), 0 1px 3px 1px rgba(60, 64, 67, 0.15);\n",
              "    fill: var(--button-hover-fill-color);\n",
              "  }\n",
              "\n",
              "  .colab-df-quickchart-complete:disabled,\n",
              "  .colab-df-quickchart-complete:disabled:hover {\n",
              "    background-color: var(--disabled-bg-color);\n",
              "    fill: var(--disabled-fill-color);\n",
              "    box-shadow: none;\n",
              "  }\n",
              "\n",
              "  .colab-df-spinner {\n",
              "    border: 2px solid var(--fill-color);\n",
              "    border-color: transparent;\n",
              "    border-bottom-color: var(--fill-color);\n",
              "    animation:\n",
              "      spin 1s steps(1) infinite;\n",
              "  }\n",
              "\n",
              "  @keyframes spin {\n",
              "    0% {\n",
              "      border-color: transparent;\n",
              "      border-bottom-color: var(--fill-color);\n",
              "      border-left-color: var(--fill-color);\n",
              "    }\n",
              "    20% {\n",
              "      border-color: transparent;\n",
              "      border-left-color: var(--fill-color);\n",
              "      border-top-color: var(--fill-color);\n",
              "    }\n",
              "    30% {\n",
              "      border-color: transparent;\n",
              "      border-left-color: var(--fill-color);\n",
              "      border-top-color: var(--fill-color);\n",
              "      border-right-color: var(--fill-color);\n",
              "    }\n",
              "    40% {\n",
              "      border-color: transparent;\n",
              "      border-right-color: var(--fill-color);\n",
              "      border-top-color: var(--fill-color);\n",
              "    }\n",
              "    60% {\n",
              "      border-color: transparent;\n",
              "      border-right-color: var(--fill-color);\n",
              "    }\n",
              "    80% {\n",
              "      border-color: transparent;\n",
              "      border-right-color: var(--fill-color);\n",
              "      border-bottom-color: var(--fill-color);\n",
              "    }\n",
              "    90% {\n",
              "      border-color: transparent;\n",
              "      border-bottom-color: var(--fill-color);\n",
              "    }\n",
              "  }\n",
              "</style>\n",
              "\n",
              "  <script>\n",
              "    async function quickchart(key) {\n",
              "      const quickchartButtonEl =\n",
              "        document.querySelector('#' + key + ' button');\n",
              "      quickchartButtonEl.disabled = true;  // To prevent multiple clicks.\n",
              "      quickchartButtonEl.classList.add('colab-df-spinner');\n",
              "      try {\n",
              "        const charts = await google.colab.kernel.invokeFunction(\n",
              "            'suggestCharts', [key], {});\n",
              "      } catch (error) {\n",
              "        console.error('Error during call to suggestCharts:', error);\n",
              "      }\n",
              "      quickchartButtonEl.classList.remove('colab-df-spinner');\n",
              "      quickchartButtonEl.classList.add('colab-df-quickchart-complete');\n",
              "    }\n",
              "    (() => {\n",
              "      let quickchartButtonEl =\n",
              "        document.querySelector('#df-67ae5392-cdd7-49f2-b873-a9676be4d5ce button');\n",
              "      quickchartButtonEl.style.display =\n",
              "        google.colab.kernel.accessAllowed ? 'block' : 'none';\n",
              "    })();\n",
              "  </script>\n",
              "</div>\n",
              "\n",
              "    </div>\n",
              "  </div>\n"
            ],
            "text/plain": [
              "      ID First Name              Email Gender City                 Created  \\\n",
              "0  68112     ANIKET     aniket@xyz.com    NaN  NaN  04/27/2022 01:41:38 pm   \n",
              "1  68110  Dhanshree  dhanshree@xyz.com    NaN  NaN  04/22/2022 04:08:38 pm   \n",
              "2  68108     Dhiraj     dhiraj@xyz.com    NaN  NaN  04/16/2022 10:31:59 pm   \n",
              "3  68106      Pooja      pooja@xyz.com    NaN  NaN  04/13/2022 10:05:15 pm   \n",
              "4  68090     Aayush     aayush@xyz.com    NaN  NaN  03/26/2022 07:02:48 pm   \n",
              "\n",
              "  Position         New College Name Colleges  Academic Year  \\\n",
              "0      NaN                      NaN      NaN            NaN   \n",
              "1      NaN  Lords Universal College      NaN            NaN   \n",
              "2      NaN                      NaN      NaN            NaN   \n",
              "3      NaN                      NaN      NaN            NaN   \n",
              "4      NaN        B.k Birla college      NaN            NaN   \n",
              "\n",
              "  Branch/ Specialisation Other Branch What is your current academic year?  \\\n",
              "0                    NaN          NaN                                 NaN   \n",
              "1                    NaN          NaN                                 NaN   \n",
              "2                    NaN          NaN                                 NaN   \n",
              "3                    NaN          NaN                                 NaN   \n",
              "4                    NaN          NaN                                 NaN   \n",
              "\n",
              "  Company Name/ College Name  \\\n",
              "0                        NaN   \n",
              "1                        NaN   \n",
              "2                        NaN   \n",
              "3                        NaN   \n",
              "4                        NaN   \n",
              "\n",
              "  Would you like to know more about us and our programs?  \\\n",
              "0                                                yes       \n",
              "1                                                yes       \n",
              "2                                                yes       \n",
              "3                                                yes       \n",
              "4                                                yes       \n",
              "\n",
              "  Are you interested in knowing more about our events?  \\\n",
              "0                                                yes     \n",
              "1                                                yes     \n",
              "2                                                yes     \n",
              "3                                                yes     \n",
              "4                                                yes     \n",
              "\n",
              "  Have you recommended Cloud Counselage to anyone?  \\\n",
              "0                                               no   \n",
              "1                                               no   \n",
              "2                                               no   \n",
              "3                                               no   \n",
              "4                                               no   \n",
              "\n",
              "  How did you come to know about this event?  \n",
              "0                                        NaN  \n",
              "1                                        NaN  \n",
              "2                                        NaN  \n",
              "3                                        NaN  \n",
              "4                                        NaN  "
            ]
          },
          "execution_count": 7,
          "metadata": {},
          "output_type": "execute_result"
        }
      ],
      "source": [
        "df.head()"
      ]
    },
    {
      "cell_type": "code",
      "execution_count": 8,
      "id": "bcbabccb",
      "metadata": {
        "colab": {
          "base_uri": "https://localhost:8080/"
        },
        "id": "bcbabccb",
        "outputId": "4c376246-5528-43ed-c19d-a6164c0e04a3"
      },
      "outputs": [
        {
          "name": "stdout",
          "output_type": "stream",
          "text": [
            "<class 'pandas.core.frame.DataFrame'>\n",
            "RangeIndex: 5303 entries, 0 to 5302\n",
            "Data columns (total 18 columns):\n",
            " #   Column                                                  Non-Null Count  Dtype  \n",
            "---  ------                                                  --------------  -----  \n",
            " 0   ID                                                      5303 non-null   int64  \n",
            " 1   First Name                                              5303 non-null   object \n",
            " 2   Email                                                   5303 non-null   object \n",
            " 3   Gender                                                  200 non-null    object \n",
            " 4   City                                                    55 non-null     object \n",
            " 5   Created                                                 5303 non-null   object \n",
            " 6   Position                                                6 non-null      object \n",
            " 7   New College Name                                        1818 non-null   object \n",
            " 8   Colleges                                                1681 non-null   object \n",
            " 9   Academic Year                                           2518 non-null   float64\n",
            " 10  Branch/ Specialisation                                  2520 non-null   object \n",
            " 11  Other Branch                                            644 non-null    object \n",
            " 12  What is your current academic year?                     131 non-null    object \n",
            " 13  Company Name/ College Name                              238 non-null    object \n",
            " 14  Would you like to know more about us and our programs?  5303 non-null   object \n",
            " 15  Are you interested in knowing more about our events?    5303 non-null   object \n",
            " 16  Have you recommended Cloud Counselage to anyone?        5303 non-null   object \n",
            " 17  How did you come to know about this event?              155 non-null    object \n",
            "dtypes: float64(1), int64(1), object(16)\n",
            "memory usage: 745.9+ KB\n"
          ]
        }
      ],
      "source": [
        "df.info()"
      ]
    },
    {
      "cell_type": "markdown",
      "id": "233c26eb",
      "metadata": {
        "id": "233c26eb"
      },
      "source": [
        "## 3. Creating a copy of raw data so as to keep the main data as it as and doing further operations on the copy of the main data"
      ]
    },
    {
      "cell_type": "code",
      "execution_count": 9,
      "id": "b3274fe6",
      "metadata": {
        "id": "b3274fe6"
      },
      "outputs": [],
      "source": [
        "final_df = df.copy()"
      ]
    },
    {
      "cell_type": "code",
      "execution_count": 10,
      "id": "4d097e1d",
      "metadata": {
        "colab": {
          "base_uri": "https://localhost:8080/"
        },
        "id": "4d097e1d",
        "outputId": "c1bc9c22-4213-4094-f875-cd794480d718"
      },
      "outputs": [
        {
          "data": {
            "text/plain": [
              "Email\n",
              "vaishnavi@xyz.com    37\n",
              "shubham@xyz.com      35\n",
              "yash@xyz.com         32\n",
              "abhishek@xyz.com     29\n",
              "sakshi@xyz.com       28\n",
              "                     ..\n",
              "julia@xyz.com         1\n",
              "darrell@xyz.com       1\n",
              "edie@xyz.com          1\n",
              "kimberley@xyz.com     1\n",
              "utkarsha@xyz.com      1\n",
              "Name: count, Length: 2808, dtype: int64"
            ]
          },
          "execution_count": 10,
          "metadata": {},
          "output_type": "execute_result"
        }
      ],
      "source": [
        "final_df['Email'].value_counts()"
      ]
    },
    {
      "cell_type": "markdown",
      "id": "65c6f13b",
      "metadata": {
        "id": "65c6f13b"
      },
      "source": [
        "## 4. Dropping duplicates if any using the 'Email' column from the dataset"
      ]
    },
    {
      "cell_type": "code",
      "execution_count": 11,
      "id": "d303da79",
      "metadata": {
        "id": "d303da79"
      },
      "outputs": [],
      "source": [
        "final_df = final_df.drop_duplicates(subset='Email', keep='first')"
      ]
    },
    {
      "cell_type": "code",
      "execution_count": 12,
      "id": "a8257916",
      "metadata": {
        "colab": {
          "base_uri": "https://localhost:8080/"
        },
        "id": "a8257916",
        "outputId": "ccdcacc5-1b94-46b2-8622-514ce9bb74ef"
      },
      "outputs": [
        {
          "name": "stdout",
          "output_type": "stream",
          "text": [
            "<class 'pandas.core.frame.DataFrame'>\n",
            "Index: 2808 entries, 0 to 5260\n",
            "Data columns (total 18 columns):\n",
            " #   Column                                                  Non-Null Count  Dtype  \n",
            "---  ------                                                  --------------  -----  \n",
            " 0   ID                                                      2808 non-null   int64  \n",
            " 1   First Name                                              2808 non-null   object \n",
            " 2   Email                                                   2808 non-null   object \n",
            " 3   Gender                                                  115 non-null    object \n",
            " 4   City                                                    54 non-null     object \n",
            " 5   Created                                                 2808 non-null   object \n",
            " 6   Position                                                1 non-null      object \n",
            " 7   New College Name                                        831 non-null    object \n",
            " 8   Colleges                                                662 non-null    object \n",
            " 9   Academic Year                                           1083 non-null   float64\n",
            " 10  Branch/ Specialisation                                  1085 non-null   object \n",
            " 11  Other Branch                                            306 non-null    object \n",
            " 12  What is your current academic year?                     54 non-null     object \n",
            " 13  Company Name/ College Name                              140 non-null    object \n",
            " 14  Would you like to know more about us and our programs?  2808 non-null   object \n",
            " 15  Are you interested in knowing more about our events?    2808 non-null   object \n",
            " 16  Have you recommended Cloud Counselage to anyone?        2808 non-null   object \n",
            " 17  How did you come to know about this event?              101 non-null    object \n",
            "dtypes: float64(1), int64(1), object(16)\n",
            "memory usage: 416.8+ KB\n"
          ]
        }
      ],
      "source": [
        "final_df.info()"
      ]
    },
    {
      "cell_type": "markdown",
      "id": "40862065",
      "metadata": {
        "id": "40862065"
      },
      "source": [
        "#### Let's drop the 'Position' column from the dataset as it contains only 1 non-null (Non-Blank) value"
      ]
    },
    {
      "cell_type": "code",
      "execution_count": 13,
      "id": "8722c8c6",
      "metadata": {
        "id": "8722c8c6"
      },
      "outputs": [],
      "source": [
        "final_df = final_df.drop('Position', axis=1)"
      ]
    },
    {
      "cell_type": "code",
      "execution_count": 14,
      "id": "4ff95e04",
      "metadata": {
        "colab": {
          "base_uri": "https://localhost:8080/"
        },
        "id": "4ff95e04",
        "outputId": "3e21989b-ed0e-4b0e-f3db-b3e58de2bfd1"
      },
      "outputs": [
        {
          "name": "stdout",
          "output_type": "stream",
          "text": [
            "<class 'pandas.core.frame.DataFrame'>\n",
            "Index: 2808 entries, 0 to 5260\n",
            "Data columns (total 17 columns):\n",
            " #   Column                                                  Non-Null Count  Dtype  \n",
            "---  ------                                                  --------------  -----  \n",
            " 0   ID                                                      2808 non-null   int64  \n",
            " 1   First Name                                              2808 non-null   object \n",
            " 2   Email                                                   2808 non-null   object \n",
            " 3   Gender                                                  115 non-null    object \n",
            " 4   City                                                    54 non-null     object \n",
            " 5   Created                                                 2808 non-null   object \n",
            " 6   New College Name                                        831 non-null    object \n",
            " 7   Colleges                                                662 non-null    object \n",
            " 8   Academic Year                                           1083 non-null   float64\n",
            " 9   Branch/ Specialisation                                  1085 non-null   object \n",
            " 10  Other Branch                                            306 non-null    object \n",
            " 11  What is your current academic year?                     54 non-null     object \n",
            " 12  Company Name/ College Name                              140 non-null    object \n",
            " 13  Would you like to know more about us and our programs?  2808 non-null   object \n",
            " 14  Are you interested in knowing more about our events?    2808 non-null   object \n",
            " 15  Have you recommended Cloud Counselage to anyone?        2808 non-null   object \n",
            " 16  How did you come to know about this event?              101 non-null    object \n",
            "dtypes: float64(1), int64(1), object(15)\n",
            "memory usage: 394.9+ KB\n"
          ]
        }
      ],
      "source": [
        "final_df.info()"
      ]
    },
    {
      "cell_type": "markdown",
      "id": "0ca8af70",
      "metadata": {
        "id": "0ca8af70"
      },
      "source": [
        "### So, there are 2808 unique rows in the dataset provided"
      ]
    },
    {
      "cell_type": "code",
      "execution_count": 15,
      "id": "5eb5f688",
      "metadata": {
        "colab": {
          "base_uri": "https://localhost:8080/"
        },
        "id": "5eb5f688",
        "outputId": "2ad34a81-d7f7-4f78-8270-31176322cf07"
      },
      "outputs": [
        {
          "data": {
            "text/plain": [
              "New College Name\n",
              "Government Polytechnic Mumbai                                                    20\n",
              "Datta Meghe College of Engineering                                               11\n",
              "Sri Manakula Vinayagar Engineering College                                        9\n",
              "Government polytechnic mumbai                                                     9\n",
              "St. Francis Institute of Technology                                               8\n",
              "                                                                                 ..\n",
              "D.Y. Patil Institute of Master of Computer Applications and Management            1\n",
              "Dr. D.Y. Patil Institute of MCA and Management                                    1\n",
              "Dy Patil Institute of MCA and Management Akurdi pune                              1\n",
              "D Y Patil Institute of Master of Computer Applications and Management, Akurdi     1\n",
              "Don Bosco College Of Engineering Goa                                              1\n",
              "Name: count, Length: 682, dtype: int64"
            ]
          },
          "execution_count": 15,
          "metadata": {},
          "output_type": "execute_result"
        }
      ],
      "source": [
        "final_df['New College Name'].value_counts()"
      ]
    },
    {
      "cell_type": "code",
      "execution_count": 16,
      "id": "85469e21",
      "metadata": {
        "colab": {
          "base_uri": "https://localhost:8080/"
        },
        "id": "85469e21",
        "outputId": "4d0bca50-adb5-4df2-c6d4-081e69dc4f10"
      },
      "outputs": [
        {
          "data": {
            "text/plain": [
              "Colleges\n",
              "Others                                                                          168\n",
              "Maharashtra Institute of Technology - MIT                                        18\n",
              "Pimpri Chinchwad College of Engineering - PCCE                                   16\n",
              "St. Francis Institute of Technology                                              15\n",
              "KJ Somaiya College of Engineering                                                13\n",
              "                                                                               ... \n",
              "Shrama Sadhana Bombay Trust's College of Engineering and Technology - SSCOET      1\n",
              "North Maharashtra University                                                      1\n",
              "Marathwada Mitra Mandal's Institute of Technology - MMIT                          1\n",
              "Amrutvahini College of Engineering                                                1\n",
              "Smt. Indira Gandhi College of Engineering - SIGCE                                 1\n",
              "Name: count, Length: 165, dtype: int64"
            ]
          },
          "execution_count": 16,
          "metadata": {},
          "output_type": "execute_result"
        }
      ],
      "source": [
        "final_df['Colleges'].value_counts()"
      ]
    },
    {
      "cell_type": "code",
      "execution_count": 17,
      "id": "e83851c9",
      "metadata": {
        "colab": {
          "base_uri": "https://localhost:8080/"
        },
        "id": "e83851c9",
        "outputId": "65d8914f-7604-4c14-fa97-a912a27cc4a1"
      },
      "outputs": [
        {
          "data": {
            "text/plain": [
              "Branch/ Specialisation\n",
              "Computer Science               473\n",
              "Information Technology (IT)    307\n",
              "Other                          305\n",
              "Name: count, dtype: int64"
            ]
          },
          "execution_count": 17,
          "metadata": {},
          "output_type": "execute_result"
        }
      ],
      "source": [
        "final_df['Branch/ Specialisation'].value_counts()"
      ]
    },
    {
      "cell_type": "code",
      "execution_count": 18,
      "id": "a62be0a6",
      "metadata": {
        "colab": {
          "base_uri": "https://localhost:8080/"
        },
        "id": "a62be0a6",
        "outputId": "c4257e2f-8199-4568-a6f8-e2802df0614d",
        "scrolled": true
      },
      "outputs": [
        {
          "data": {
            "text/plain": [
              "Other Branch\n",
              "Electronics and telecommunication              28\n",
              "Electronics and Telecommunication              17\n",
              "Mechanical                                     14\n",
              "Electronics                                    11\n",
              "Mechanical Engineering                         11\n",
              "                                               ..\n",
              "information security and cloud computing        1\n",
              "Electronics & Telecommunication Engineering     1\n",
              "Electronic and Telecommunications               1\n",
              "Mechanical Engg                                 1\n",
              "Electrical & Electronics                        1\n",
              "Name: count, Length: 131, dtype: int64"
            ]
          },
          "execution_count": 18,
          "metadata": {},
          "output_type": "execute_result"
        }
      ],
      "source": [
        "final_df['Other Branch'].value_counts()"
      ]
    },
    {
      "cell_type": "markdown",
      "id": "14cb7b31",
      "metadata": {
        "id": "14cb7b31"
      },
      "source": [
        "#### Let's combine the 'Branch / Specialisation' and 'Other Branch' columns to a new column named 'Branch' and then drop these two columns from the dataset"
      ]
    },
    {
      "cell_type": "code",
      "execution_count": 19,
      "id": "3c93a7ee",
      "metadata": {
        "id": "3c93a7ee"
      },
      "outputs": [],
      "source": [
        "final_df['Branch'] = final_df['Branch/ Specialisation'] + ' ' + final_df['Other Branch']"
      ]
    },
    {
      "cell_type": "code",
      "execution_count": 20,
      "id": "3ca49353",
      "metadata": {
        "id": "3ca49353"
      },
      "outputs": [],
      "source": [
        "columns = ['Branch/ Specialisation','Other Branch']\n",
        "final_df = final_df.drop(columns, axis=1)"
      ]
    },
    {
      "cell_type": "markdown",
      "id": "de3b8240",
      "metadata": {
        "id": "de3b8240"
      },
      "source": [
        "#### Let's combine the 'New College Name' and 'Colleges' columns to a new column named 'College' and then drop these two columns from the dataset"
      ]
    },
    {
      "cell_type": "code",
      "execution_count": 21,
      "id": "6bfa415c",
      "metadata": {
        "id": "6bfa415c"
      },
      "outputs": [],
      "source": [
        "final_df['College'] = final_df['Colleges'] + ' ' + final_df['New College Name']"
      ]
    },
    {
      "cell_type": "code",
      "execution_count": 22,
      "id": "2807e4b5",
      "metadata": {
        "id": "2807e4b5"
      },
      "outputs": [],
      "source": [
        "columns = ['Colleges','New College Name']\n",
        "final_df = final_df.drop(columns, axis=1)"
      ]
    },
    {
      "cell_type": "code",
      "execution_count": 23,
      "id": "8b781cc5",
      "metadata": {
        "colab": {
          "base_uri": "https://localhost:8080/",
          "height": 484
        },
        "id": "8b781cc5",
        "outputId": "166ab2da-9627-4ade-f661-6b6b0cb6cd88"
      },
      "outputs": [
        {
          "data": {
            "application/vnd.google.colaboratory.intrinsic+json": {
              "summary": "{\n  \"name\": \"final_df\",\n  \"rows\": 2808,\n  \"fields\": [\n    {\n      \"column\": \"ID\",\n      \"properties\": {\n        \"dtype\": \"number\",\n        \"std\": 14440,\n        \"min\": 25910,\n        \"max\": 68112,\n        \"num_unique_values\": 2808,\n        \"samples\": [\n          38986,\n          32150,\n          31996\n        ],\n        \"semantic_type\": \"\",\n        \"description\": \"\"\n      }\n    },\n    {\n      \"column\": \"First Name\",\n      \"properties\": {\n        \"dtype\": \"string\",\n        \"num_unique_values\": 2808,\n        \"samples\": [\n          \"Jordan\",\n          \"MADHUKAR\",\n          \"Rahmatullah\"\n        ],\n        \"semantic_type\": \"\",\n        \"description\": \"\"\n      }\n    },\n    {\n      \"column\": \"Email\",\n      \"properties\": {\n        \"dtype\": \"string\",\n        \"num_unique_values\": 2808,\n        \"samples\": [\n          \"jordan@xyz.com\",\n          \"madhukar@xyz.com\",\n          \"rahmatullah@xyz.com\"\n        ],\n        \"semantic_type\": \"\",\n        \"description\": \"\"\n      }\n    },\n    {\n      \"column\": \"Gender\",\n      \"properties\": {\n        \"dtype\": \"category\",\n        \"num_unique_values\": 2,\n        \"samples\": [\n          \"Male\",\n          \"Female\"\n        ],\n        \"semantic_type\": \"\",\n        \"description\": \"\"\n      }\n    },\n    {\n      \"column\": \"City\",\n      \"properties\": {\n        \"dtype\": \"category\",\n        \"num_unique_values\": 19,\n        \"samples\": [\n          \"Frankfurt\",\n          \"Nagpur\"\n        ],\n        \"semantic_type\": \"\",\n        \"description\": \"\"\n      }\n    },\n    {\n      \"column\": \"Created\",\n      \"properties\": {\n        \"dtype\": \"object\",\n        \"num_unique_values\": 2798,\n        \"samples\": [\n          \"04/29/2020 11:06:40 am\",\n          \"02/26/2020 08:16:02 pm\"\n        ],\n        \"semantic_type\": \"\",\n        \"description\": \"\"\n      }\n    },\n    {\n      \"column\": \"Academic Year\",\n      \"properties\": {\n        \"dtype\": \"number\",\n        \"std\": 0.8147188897159122,\n        \"min\": 1.0,\n        \"max\": 4.0,\n        \"num_unique_values\": 4,\n        \"samples\": [\n          2.0,\n          4.0\n        ],\n        \"semantic_type\": \"\",\n        \"description\": \"\"\n      }\n    },\n    {\n      \"column\": \"What is your current academic year?\",\n      \"properties\": {\n        \"dtype\": \"category\",\n        \"num_unique_values\": 4,\n        \"samples\": [\n          \"1st Year\",\n          \"3rd Year\"\n        ],\n        \"semantic_type\": \"\",\n        \"description\": \"\"\n      }\n    },\n    {\n      \"column\": \"Company Name/ College Name\",\n      \"properties\": {\n        \"dtype\": \"category\",\n        \"num_unique_values\": 129,\n        \"samples\": [\n          \"Swami Keshvanand Institute of Technology\",\n          \"Welingkar Institute of Management, Mumbai\"\n        ],\n        \"semantic_type\": \"\",\n        \"description\": \"\"\n      }\n    },\n    {\n      \"column\": \"Would you like to know more about us and our programs?\",\n      \"properties\": {\n        \"dtype\": \"category\",\n        \"num_unique_values\": 2,\n        \"samples\": [\n          \"no\",\n          \"yes\"\n        ],\n        \"semantic_type\": \"\",\n        \"description\": \"\"\n      }\n    },\n    {\n      \"column\": \"Are you interested in knowing more about our events?\",\n      \"properties\": {\n        \"dtype\": \"category\",\n        \"num_unique_values\": 2,\n        \"samples\": [\n          \"no\",\n          \"yes\"\n        ],\n        \"semantic_type\": \"\",\n        \"description\": \"\"\n      }\n    },\n    {\n      \"column\": \"Have you recommended Cloud Counselage to anyone?\",\n      \"properties\": {\n        \"dtype\": \"category\",\n        \"num_unique_values\": 2,\n        \"samples\": [\n          \"yes\",\n          \"no\"\n        ],\n        \"semantic_type\": \"\",\n        \"description\": \"\"\n      }\n    },\n    {\n      \"column\": \"How did you come to know about this event?\",\n      \"properties\": {\n        \"dtype\": \"category\",\n        \"num_unique_values\": 5,\n        \"samples\": [\n          \"Instagram\",\n          \"Facebook\"\n        ],\n        \"semantic_type\": \"\",\n        \"description\": \"\"\n      }\n    },\n    {\n      \"column\": \"Branch\",\n      \"properties\": {\n        \"dtype\": \"category\",\n        \"num_unique_values\": 133,\n        \"samples\": [\n          \"Other Computer Technology\",\n          \"Other electronics engineering\"\n        ],\n        \"semantic_type\": \"\",\n        \"description\": \"\"\n      }\n    },\n    {\n      \"column\": \"College\",\n      \"properties\": {\n        \"dtype\": \"category\",\n        \"num_unique_values\": 410,\n        \"samples\": [\n          \"Others Pune Vidya Bhawan\",\n          \"Veermata Jijabai Technological Institute Veermata Jijabai Technological Institute\"\n        ],\n        \"semantic_type\": \"\",\n        \"description\": \"\"\n      }\n    }\n  ]\n}",
              "type": "dataframe",
              "variable_name": "final_df"
            },
            "text/html": [
              "\n",
              "  <div id=\"df-0ce2388a-04bc-4c3a-bd4c-0d41bcb7ae79\" class=\"colab-df-container\">\n",
              "    <div>\n",
              "<style scoped>\n",
              "    .dataframe tbody tr th:only-of-type {\n",
              "        vertical-align: middle;\n",
              "    }\n",
              "\n",
              "    .dataframe tbody tr th {\n",
              "        vertical-align: top;\n",
              "    }\n",
              "\n",
              "    .dataframe thead th {\n",
              "        text-align: right;\n",
              "    }\n",
              "</style>\n",
              "<table border=\"1\" class=\"dataframe\">\n",
              "  <thead>\n",
              "    <tr style=\"text-align: right;\">\n",
              "      <th></th>\n",
              "      <th>ID</th>\n",
              "      <th>First Name</th>\n",
              "      <th>Email</th>\n",
              "      <th>Gender</th>\n",
              "      <th>City</th>\n",
              "      <th>Created</th>\n",
              "      <th>Academic Year</th>\n",
              "      <th>What is your current academic year?</th>\n",
              "      <th>Company Name/ College Name</th>\n",
              "      <th>Would you like to know more about us and our programs?</th>\n",
              "      <th>Are you interested in knowing more about our events?</th>\n",
              "      <th>Have you recommended Cloud Counselage to anyone?</th>\n",
              "      <th>How did you come to know about this event?</th>\n",
              "      <th>Branch</th>\n",
              "      <th>College</th>\n",
              "    </tr>\n",
              "  </thead>\n",
              "  <tbody>\n",
              "    <tr>\n",
              "      <th>0</th>\n",
              "      <td>68112</td>\n",
              "      <td>ANIKET</td>\n",
              "      <td>aniket@xyz.com</td>\n",
              "      <td>NaN</td>\n",
              "      <td>NaN</td>\n",
              "      <td>04/27/2022 01:41:38 pm</td>\n",
              "      <td>NaN</td>\n",
              "      <td>NaN</td>\n",
              "      <td>NaN</td>\n",
              "      <td>yes</td>\n",
              "      <td>yes</td>\n",
              "      <td>no</td>\n",
              "      <td>NaN</td>\n",
              "      <td>NaN</td>\n",
              "      <td>NaN</td>\n",
              "    </tr>\n",
              "    <tr>\n",
              "      <th>1</th>\n",
              "      <td>68110</td>\n",
              "      <td>Dhanshree</td>\n",
              "      <td>dhanshree@xyz.com</td>\n",
              "      <td>NaN</td>\n",
              "      <td>NaN</td>\n",
              "      <td>04/22/2022 04:08:38 pm</td>\n",
              "      <td>NaN</td>\n",
              "      <td>NaN</td>\n",
              "      <td>NaN</td>\n",
              "      <td>yes</td>\n",
              "      <td>yes</td>\n",
              "      <td>no</td>\n",
              "      <td>NaN</td>\n",
              "      <td>NaN</td>\n",
              "      <td>NaN</td>\n",
              "    </tr>\n",
              "    <tr>\n",
              "      <th>2</th>\n",
              "      <td>68108</td>\n",
              "      <td>Dhiraj</td>\n",
              "      <td>dhiraj@xyz.com</td>\n",
              "      <td>NaN</td>\n",
              "      <td>NaN</td>\n",
              "      <td>04/16/2022 10:31:59 pm</td>\n",
              "      <td>NaN</td>\n",
              "      <td>NaN</td>\n",
              "      <td>NaN</td>\n",
              "      <td>yes</td>\n",
              "      <td>yes</td>\n",
              "      <td>no</td>\n",
              "      <td>NaN</td>\n",
              "      <td>NaN</td>\n",
              "      <td>NaN</td>\n",
              "    </tr>\n",
              "    <tr>\n",
              "      <th>3</th>\n",
              "      <td>68106</td>\n",
              "      <td>Pooja</td>\n",
              "      <td>pooja@xyz.com</td>\n",
              "      <td>NaN</td>\n",
              "      <td>NaN</td>\n",
              "      <td>04/13/2022 10:05:15 pm</td>\n",
              "      <td>NaN</td>\n",
              "      <td>NaN</td>\n",
              "      <td>NaN</td>\n",
              "      <td>yes</td>\n",
              "      <td>yes</td>\n",
              "      <td>no</td>\n",
              "      <td>NaN</td>\n",
              "      <td>NaN</td>\n",
              "      <td>NaN</td>\n",
              "    </tr>\n",
              "    <tr>\n",
              "      <th>4</th>\n",
              "      <td>68090</td>\n",
              "      <td>Aayush</td>\n",
              "      <td>aayush@xyz.com</td>\n",
              "      <td>NaN</td>\n",
              "      <td>NaN</td>\n",
              "      <td>03/26/2022 07:02:48 pm</td>\n",
              "      <td>NaN</td>\n",
              "      <td>NaN</td>\n",
              "      <td>NaN</td>\n",
              "      <td>yes</td>\n",
              "      <td>yes</td>\n",
              "      <td>no</td>\n",
              "      <td>NaN</td>\n",
              "      <td>NaN</td>\n",
              "      <td>NaN</td>\n",
              "    </tr>\n",
              "  </tbody>\n",
              "</table>\n",
              "</div>\n",
              "    <div class=\"colab-df-buttons\">\n",
              "\n",
              "  <div class=\"colab-df-container\">\n",
              "    <button class=\"colab-df-convert\" onclick=\"convertToInteractive('df-0ce2388a-04bc-4c3a-bd4c-0d41bcb7ae79')\"\n",
              "            title=\"Convert this dataframe to an interactive table.\"\n",
              "            style=\"display:none;\">\n",
              "\n",
              "  <svg xmlns=\"http://www.w3.org/2000/svg\" height=\"24px\" viewBox=\"0 -960 960 960\">\n",
              "    <path d=\"M120-120v-720h720v720H120Zm60-500h600v-160H180v160Zm220 220h160v-160H400v160Zm0 220h160v-160H400v160ZM180-400h160v-160H180v160Zm440 0h160v-160H620v160ZM180-180h160v-160H180v160Zm440 0h160v-160H620v160Z\"/>\n",
              "  </svg>\n",
              "    </button>\n",
              "\n",
              "  <style>\n",
              "    .colab-df-container {\n",
              "      display:flex;\n",
              "      gap: 12px;\n",
              "    }\n",
              "\n",
              "    .colab-df-convert {\n",
              "      background-color: #E8F0FE;\n",
              "      border: none;\n",
              "      border-radius: 50%;\n",
              "      cursor: pointer;\n",
              "      display: none;\n",
              "      fill: #1967D2;\n",
              "      height: 32px;\n",
              "      padding: 0 0 0 0;\n",
              "      width: 32px;\n",
              "    }\n",
              "\n",
              "    .colab-df-convert:hover {\n",
              "      background-color: #E2EBFA;\n",
              "      box-shadow: 0px 1px 2px rgba(60, 64, 67, 0.3), 0px 1px 3px 1px rgba(60, 64, 67, 0.15);\n",
              "      fill: #174EA6;\n",
              "    }\n",
              "\n",
              "    .colab-df-buttons div {\n",
              "      margin-bottom: 4px;\n",
              "    }\n",
              "\n",
              "    [theme=dark] .colab-df-convert {\n",
              "      background-color: #3B4455;\n",
              "      fill: #D2E3FC;\n",
              "    }\n",
              "\n",
              "    [theme=dark] .colab-df-convert:hover {\n",
              "      background-color: #434B5C;\n",
              "      box-shadow: 0px 1px 3px 1px rgba(0, 0, 0, 0.15);\n",
              "      filter: drop-shadow(0px 1px 2px rgba(0, 0, 0, 0.3));\n",
              "      fill: #FFFFFF;\n",
              "    }\n",
              "  </style>\n",
              "\n",
              "    <script>\n",
              "      const buttonEl =\n",
              "        document.querySelector('#df-0ce2388a-04bc-4c3a-bd4c-0d41bcb7ae79 button.colab-df-convert');\n",
              "      buttonEl.style.display =\n",
              "        google.colab.kernel.accessAllowed ? 'block' : 'none';\n",
              "\n",
              "      async function convertToInteractive(key) {\n",
              "        const element = document.querySelector('#df-0ce2388a-04bc-4c3a-bd4c-0d41bcb7ae79');\n",
              "        const dataTable =\n",
              "          await google.colab.kernel.invokeFunction('convertToInteractive',\n",
              "                                                    [key], {});\n",
              "        if (!dataTable) return;\n",
              "\n",
              "        const docLinkHtml = 'Like what you see? Visit the ' +\n",
              "          '<a target=\"_blank\" href=https://colab.research.google.com/notebooks/data_table.ipynb>data table notebook</a>'\n",
              "          + ' to learn more about interactive tables.';\n",
              "        element.innerHTML = '';\n",
              "        dataTable['output_type'] = 'display_data';\n",
              "        await google.colab.output.renderOutput(dataTable, element);\n",
              "        const docLink = document.createElement('div');\n",
              "        docLink.innerHTML = docLinkHtml;\n",
              "        element.appendChild(docLink);\n",
              "      }\n",
              "    </script>\n",
              "  </div>\n",
              "\n",
              "\n",
              "<div id=\"df-2c4c2f54-bee4-4c4b-a57c-be3ac2369f8e\">\n",
              "  <button class=\"colab-df-quickchart\" onclick=\"quickchart('df-2c4c2f54-bee4-4c4b-a57c-be3ac2369f8e')\"\n",
              "            title=\"Suggest charts\"\n",
              "            style=\"display:none;\">\n",
              "\n",
              "<svg xmlns=\"http://www.w3.org/2000/svg\" height=\"24px\"viewBox=\"0 0 24 24\"\n",
              "     width=\"24px\">\n",
              "    <g>\n",
              "        <path d=\"M19 3H5c-1.1 0-2 .9-2 2v14c0 1.1.9 2 2 2h14c1.1 0 2-.9 2-2V5c0-1.1-.9-2-2-2zM9 17H7v-7h2v7zm4 0h-2V7h2v10zm4 0h-2v-4h2v4z\"/>\n",
              "    </g>\n",
              "</svg>\n",
              "  </button>\n",
              "\n",
              "<style>\n",
              "  .colab-df-quickchart {\n",
              "      --bg-color: #E8F0FE;\n",
              "      --fill-color: #1967D2;\n",
              "      --hover-bg-color: #E2EBFA;\n",
              "      --hover-fill-color: #174EA6;\n",
              "      --disabled-fill-color: #AAA;\n",
              "      --disabled-bg-color: #DDD;\n",
              "  }\n",
              "\n",
              "  [theme=dark] .colab-df-quickchart {\n",
              "      --bg-color: #3B4455;\n",
              "      --fill-color: #D2E3FC;\n",
              "      --hover-bg-color: #434B5C;\n",
              "      --hover-fill-color: #FFFFFF;\n",
              "      --disabled-bg-color: #3B4455;\n",
              "      --disabled-fill-color: #666;\n",
              "  }\n",
              "\n",
              "  .colab-df-quickchart {\n",
              "    background-color: var(--bg-color);\n",
              "    border: none;\n",
              "    border-radius: 50%;\n",
              "    cursor: pointer;\n",
              "    display: none;\n",
              "    fill: var(--fill-color);\n",
              "    height: 32px;\n",
              "    padding: 0;\n",
              "    width: 32px;\n",
              "  }\n",
              "\n",
              "  .colab-df-quickchart:hover {\n",
              "    background-color: var(--hover-bg-color);\n",
              "    box-shadow: 0 1px 2px rgba(60, 64, 67, 0.3), 0 1px 3px 1px rgba(60, 64, 67, 0.15);\n",
              "    fill: var(--button-hover-fill-color);\n",
              "  }\n",
              "\n",
              "  .colab-df-quickchart-complete:disabled,\n",
              "  .colab-df-quickchart-complete:disabled:hover {\n",
              "    background-color: var(--disabled-bg-color);\n",
              "    fill: var(--disabled-fill-color);\n",
              "    box-shadow: none;\n",
              "  }\n",
              "\n",
              "  .colab-df-spinner {\n",
              "    border: 2px solid var(--fill-color);\n",
              "    border-color: transparent;\n",
              "    border-bottom-color: var(--fill-color);\n",
              "    animation:\n",
              "      spin 1s steps(1) infinite;\n",
              "  }\n",
              "\n",
              "  @keyframes spin {\n",
              "    0% {\n",
              "      border-color: transparent;\n",
              "      border-bottom-color: var(--fill-color);\n",
              "      border-left-color: var(--fill-color);\n",
              "    }\n",
              "    20% {\n",
              "      border-color: transparent;\n",
              "      border-left-color: var(--fill-color);\n",
              "      border-top-color: var(--fill-color);\n",
              "    }\n",
              "    30% {\n",
              "      border-color: transparent;\n",
              "      border-left-color: var(--fill-color);\n",
              "      border-top-color: var(--fill-color);\n",
              "      border-right-color: var(--fill-color);\n",
              "    }\n",
              "    40% {\n",
              "      border-color: transparent;\n",
              "      border-right-color: var(--fill-color);\n",
              "      border-top-color: var(--fill-color);\n",
              "    }\n",
              "    60% {\n",
              "      border-color: transparent;\n",
              "      border-right-color: var(--fill-color);\n",
              "    }\n",
              "    80% {\n",
              "      border-color: transparent;\n",
              "      border-right-color: var(--fill-color);\n",
              "      border-bottom-color: var(--fill-color);\n",
              "    }\n",
              "    90% {\n",
              "      border-color: transparent;\n",
              "      border-bottom-color: var(--fill-color);\n",
              "    }\n",
              "  }\n",
              "</style>\n",
              "\n",
              "  <script>\n",
              "    async function quickchart(key) {\n",
              "      const quickchartButtonEl =\n",
              "        document.querySelector('#' + key + ' button');\n",
              "      quickchartButtonEl.disabled = true;  // To prevent multiple clicks.\n",
              "      quickchartButtonEl.classList.add('colab-df-spinner');\n",
              "      try {\n",
              "        const charts = await google.colab.kernel.invokeFunction(\n",
              "            'suggestCharts', [key], {});\n",
              "      } catch (error) {\n",
              "        console.error('Error during call to suggestCharts:', error);\n",
              "      }\n",
              "      quickchartButtonEl.classList.remove('colab-df-spinner');\n",
              "      quickchartButtonEl.classList.add('colab-df-quickchart-complete');\n",
              "    }\n",
              "    (() => {\n",
              "      let quickchartButtonEl =\n",
              "        document.querySelector('#df-2c4c2f54-bee4-4c4b-a57c-be3ac2369f8e button');\n",
              "      quickchartButtonEl.style.display =\n",
              "        google.colab.kernel.accessAllowed ? 'block' : 'none';\n",
              "    })();\n",
              "  </script>\n",
              "</div>\n",
              "\n",
              "    </div>\n",
              "  </div>\n"
            ],
            "text/plain": [
              "      ID First Name              Email Gender City                 Created  \\\n",
              "0  68112     ANIKET     aniket@xyz.com    NaN  NaN  04/27/2022 01:41:38 pm   \n",
              "1  68110  Dhanshree  dhanshree@xyz.com    NaN  NaN  04/22/2022 04:08:38 pm   \n",
              "2  68108     Dhiraj     dhiraj@xyz.com    NaN  NaN  04/16/2022 10:31:59 pm   \n",
              "3  68106      Pooja      pooja@xyz.com    NaN  NaN  04/13/2022 10:05:15 pm   \n",
              "4  68090     Aayush     aayush@xyz.com    NaN  NaN  03/26/2022 07:02:48 pm   \n",
              "\n",
              "   Academic Year What is your current academic year?  \\\n",
              "0            NaN                                 NaN   \n",
              "1            NaN                                 NaN   \n",
              "2            NaN                                 NaN   \n",
              "3            NaN                                 NaN   \n",
              "4            NaN                                 NaN   \n",
              "\n",
              "  Company Name/ College Name  \\\n",
              "0                        NaN   \n",
              "1                        NaN   \n",
              "2                        NaN   \n",
              "3                        NaN   \n",
              "4                        NaN   \n",
              "\n",
              "  Would you like to know more about us and our programs?  \\\n",
              "0                                                yes       \n",
              "1                                                yes       \n",
              "2                                                yes       \n",
              "3                                                yes       \n",
              "4                                                yes       \n",
              "\n",
              "  Are you interested in knowing more about our events?  \\\n",
              "0                                                yes     \n",
              "1                                                yes     \n",
              "2                                                yes     \n",
              "3                                                yes     \n",
              "4                                                yes     \n",
              "\n",
              "  Have you recommended Cloud Counselage to anyone?  \\\n",
              "0                                               no   \n",
              "1                                               no   \n",
              "2                                               no   \n",
              "3                                               no   \n",
              "4                                               no   \n",
              "\n",
              "  How did you come to know about this event? Branch College  \n",
              "0                                        NaN    NaN     NaN  \n",
              "1                                        NaN    NaN     NaN  \n",
              "2                                        NaN    NaN     NaN  \n",
              "3                                        NaN    NaN     NaN  \n",
              "4                                        NaN    NaN     NaN  "
            ]
          },
          "execution_count": 23,
          "metadata": {},
          "output_type": "execute_result"
        }
      ],
      "source": [
        "final_df.head()"
      ]
    },
    {
      "cell_type": "markdown",
      "id": "c5d63b2c",
      "metadata": {
        "id": "c5d63b2c"
      },
      "source": [
        "## 5. Let's Analyze the given data using Data Visualization modules/Libraries"
      ]
    },
    {
      "cell_type": "code",
      "execution_count": 24,
      "id": "48489b5a",
      "metadata": {
        "colab": {
          "base_uri": "https://localhost:8080/",
          "height": 542
        },
        "id": "48489b5a",
        "outputId": "fd799771-9588-40d9-f224-583aafb8057f",
        "scrolled": false
      },
      "outputs": [
        {
          "data": {
            "text/html": [
              "<html>\n",
              "<head><meta charset=\"utf-8\" /></head>\n",
              "<body>\n",
              "    <div>            <script src=\"https://cdnjs.cloudflare.com/ajax/libs/mathjax/2.7.5/MathJax.js?config=TeX-AMS-MML_SVG\"></script><script type=\"text/javascript\">if (window.MathJax && window.MathJax.Hub && window.MathJax.Hub.Config) {window.MathJax.Hub.Config({SVG: {font: \"STIX-Web\"}});}</script>                <script type=\"text/javascript\">window.PlotlyConfig = {MathJaxConfig: 'local'};</script>\n",
              "        <script charset=\"utf-8\" src=\"https://cdn.plot.ly/plotly-2.24.1.min.js\"></script>                <div id=\"4b732385-eab8-437b-9b4b-03cc359b8e10\" class=\"plotly-graph-div\" style=\"height:525px; width:100%;\"></div>            <script type=\"text/javascript\">                                    window.PLOTLYENV=window.PLOTLYENV || {};                                    if (document.getElementById(\"4b732385-eab8-437b-9b4b-03cc359b8e10\")) {                    Plotly.newPlot(                        \"4b732385-eab8-437b-9b4b-03cc359b8e10\",                        [{\"alignmentgroup\":\"True\",\"hovertemplate\":\"Gender=%{x}\\u003cbr\\u003eCount=%{y}\\u003cbr\\u003etext=%{text}\\u003cextra\\u003e\\u003c\\u002fextra\\u003e\",\"legendgroup\":\"Male\",\"marker\":{\"color\":\"#636EFA\",\"pattern\":{\"shape\":\"\"}},\"name\":\"Male\",\"offsetgroup\":\"Male\",\"orientation\":\"v\",\"showlegend\":true,\"text\":[\"65\"],\"textposition\":\"auto\",\"x\":[\"Male\"],\"xaxis\":\"x\",\"y\":[65],\"yaxis\":\"y\",\"type\":\"bar\"},{\"alignmentgroup\":\"True\",\"hovertemplate\":\"Gender=%{x}\\u003cbr\\u003eCount=%{y}\\u003cbr\\u003etext=%{text}\\u003cextra\\u003e\\u003c\\u002fextra\\u003e\",\"legendgroup\":\"Female\",\"marker\":{\"color\":\"#EF553B\",\"pattern\":{\"shape\":\"\"}},\"name\":\"Female\",\"offsetgroup\":\"Female\",\"orientation\":\"v\",\"showlegend\":true,\"text\":[\"50\"],\"textposition\":\"auto\",\"x\":[\"Female\"],\"xaxis\":\"x\",\"y\":[50],\"yaxis\":\"y\",\"type\":\"bar\"}],                        {\"template\":{\"data\":{\"histogram2dcontour\":[{\"type\":\"histogram2dcontour\",\"colorbar\":{\"outlinewidth\":0,\"ticks\":\"\"},\"colorscale\":[[0.0,\"#0d0887\"],[0.1111111111111111,\"#46039f\"],[0.2222222222222222,\"#7201a8\"],[0.3333333333333333,\"#9c179e\"],[0.4444444444444444,\"#bd3786\"],[0.5555555555555556,\"#d8576b\"],[0.6666666666666666,\"#ed7953\"],[0.7777777777777778,\"#fb9f3a\"],[0.8888888888888888,\"#fdca26\"],[1.0,\"#f0f921\"]]}],\"choropleth\":[{\"type\":\"choropleth\",\"colorbar\":{\"outlinewidth\":0,\"ticks\":\"\"}}],\"histogram2d\":[{\"type\":\"histogram2d\",\"colorbar\":{\"outlinewidth\":0,\"ticks\":\"\"},\"colorscale\":[[0.0,\"#0d0887\"],[0.1111111111111111,\"#46039f\"],[0.2222222222222222,\"#7201a8\"],[0.3333333333333333,\"#9c179e\"],[0.4444444444444444,\"#bd3786\"],[0.5555555555555556,\"#d8576b\"],[0.6666666666666666,\"#ed7953\"],[0.7777777777777778,\"#fb9f3a\"],[0.8888888888888888,\"#fdca26\"],[1.0,\"#f0f921\"]]}],\"heatmap\":[{\"type\":\"heatmap\",\"colorbar\":{\"outlinewidth\":0,\"ticks\":\"\"},\"colorscale\":[[0.0,\"#0d0887\"],[0.1111111111111111,\"#46039f\"],[0.2222222222222222,\"#7201a8\"],[0.3333333333333333,\"#9c179e\"],[0.4444444444444444,\"#bd3786\"],[0.5555555555555556,\"#d8576b\"],[0.6666666666666666,\"#ed7953\"],[0.7777777777777778,\"#fb9f3a\"],[0.8888888888888888,\"#fdca26\"],[1.0,\"#f0f921\"]]}],\"heatmapgl\":[{\"type\":\"heatmapgl\",\"colorbar\":{\"outlinewidth\":0,\"ticks\":\"\"},\"colorscale\":[[0.0,\"#0d0887\"],[0.1111111111111111,\"#46039f\"],[0.2222222222222222,\"#7201a8\"],[0.3333333333333333,\"#9c179e\"],[0.4444444444444444,\"#bd3786\"],[0.5555555555555556,\"#d8576b\"],[0.6666666666666666,\"#ed7953\"],[0.7777777777777778,\"#fb9f3a\"],[0.8888888888888888,\"#fdca26\"],[1.0,\"#f0f921\"]]}],\"contourcarpet\":[{\"type\":\"contourcarpet\",\"colorbar\":{\"outlinewidth\":0,\"ticks\":\"\"}}],\"contour\":[{\"type\":\"contour\",\"colorbar\":{\"outlinewidth\":0,\"ticks\":\"\"},\"colorscale\":[[0.0,\"#0d0887\"],[0.1111111111111111,\"#46039f\"],[0.2222222222222222,\"#7201a8\"],[0.3333333333333333,\"#9c179e\"],[0.4444444444444444,\"#bd3786\"],[0.5555555555555556,\"#d8576b\"],[0.6666666666666666,\"#ed7953\"],[0.7777777777777778,\"#fb9f3a\"],[0.8888888888888888,\"#fdca26\"],[1.0,\"#f0f921\"]]}],\"surface\":[{\"type\":\"surface\",\"colorbar\":{\"outlinewidth\":0,\"ticks\":\"\"},\"colorscale\":[[0.0,\"#0d0887\"],[0.1111111111111111,\"#46039f\"],[0.2222222222222222,\"#7201a8\"],[0.3333333333333333,\"#9c179e\"],[0.4444444444444444,\"#bd3786\"],[0.5555555555555556,\"#d8576b\"],[0.6666666666666666,\"#ed7953\"],[0.7777777777777778,\"#fb9f3a\"],[0.8888888888888888,\"#fdca26\"],[1.0,\"#f0f921\"]]}],\"mesh3d\":[{\"type\":\"mesh3d\",\"colorbar\":{\"outlinewidth\":0,\"ticks\":\"\"}}],\"scatter\":[{\"fillpattern\":{\"fillmode\":\"overlay\",\"size\":10,\"solidity\":0.2},\"type\":\"scatter\"}],\"parcoords\":[{\"type\":\"parcoords\",\"line\":{\"colorbar\":{\"outlinewidth\":0,\"ticks\":\"\"}}}],\"scatterpolargl\":[{\"type\":\"scatterpolargl\",\"marker\":{\"colorbar\":{\"outlinewidth\":0,\"ticks\":\"\"}}}],\"bar\":[{\"error_x\":{\"color\":\"#2a3f5f\"},\"error_y\":{\"color\":\"#2a3f5f\"},\"marker\":{\"line\":{\"color\":\"#E5ECF6\",\"width\":0.5},\"pattern\":{\"fillmode\":\"overlay\",\"size\":10,\"solidity\":0.2}},\"type\":\"bar\"}],\"scattergeo\":[{\"type\":\"scattergeo\",\"marker\":{\"colorbar\":{\"outlinewidth\":0,\"ticks\":\"\"}}}],\"scatterpolar\":[{\"type\":\"scatterpolar\",\"marker\":{\"colorbar\":{\"outlinewidth\":0,\"ticks\":\"\"}}}],\"histogram\":[{\"marker\":{\"pattern\":{\"fillmode\":\"overlay\",\"size\":10,\"solidity\":0.2}},\"type\":\"histogram\"}],\"scattergl\":[{\"type\":\"scattergl\",\"marker\":{\"colorbar\":{\"outlinewidth\":0,\"ticks\":\"\"}}}],\"scatter3d\":[{\"type\":\"scatter3d\",\"line\":{\"colorbar\":{\"outlinewidth\":0,\"ticks\":\"\"}},\"marker\":{\"colorbar\":{\"outlinewidth\":0,\"ticks\":\"\"}}}],\"scattermapbox\":[{\"type\":\"scattermapbox\",\"marker\":{\"colorbar\":{\"outlinewidth\":0,\"ticks\":\"\"}}}],\"scatterternary\":[{\"type\":\"scatterternary\",\"marker\":{\"colorbar\":{\"outlinewidth\":0,\"ticks\":\"\"}}}],\"scattercarpet\":[{\"type\":\"scattercarpet\",\"marker\":{\"colorbar\":{\"outlinewidth\":0,\"ticks\":\"\"}}}],\"carpet\":[{\"aaxis\":{\"endlinecolor\":\"#2a3f5f\",\"gridcolor\":\"white\",\"linecolor\":\"white\",\"minorgridcolor\":\"white\",\"startlinecolor\":\"#2a3f5f\"},\"baxis\":{\"endlinecolor\":\"#2a3f5f\",\"gridcolor\":\"white\",\"linecolor\":\"white\",\"minorgridcolor\":\"white\",\"startlinecolor\":\"#2a3f5f\"},\"type\":\"carpet\"}],\"table\":[{\"cells\":{\"fill\":{\"color\":\"#EBF0F8\"},\"line\":{\"color\":\"white\"}},\"header\":{\"fill\":{\"color\":\"#C8D4E3\"},\"line\":{\"color\":\"white\"}},\"type\":\"table\"}],\"barpolar\":[{\"marker\":{\"line\":{\"color\":\"#E5ECF6\",\"width\":0.5},\"pattern\":{\"fillmode\":\"overlay\",\"size\":10,\"solidity\":0.2}},\"type\":\"barpolar\"}],\"pie\":[{\"automargin\":true,\"type\":\"pie\"}]},\"layout\":{\"autotypenumbers\":\"strict\",\"colorway\":[\"#636efa\",\"#EF553B\",\"#00cc96\",\"#ab63fa\",\"#FFA15A\",\"#19d3f3\",\"#FF6692\",\"#B6E880\",\"#FF97FF\",\"#FECB52\"],\"font\":{\"color\":\"#2a3f5f\"},\"hovermode\":\"closest\",\"hoverlabel\":{\"align\":\"left\"},\"paper_bgcolor\":\"white\",\"plot_bgcolor\":\"#E5ECF6\",\"polar\":{\"bgcolor\":\"#E5ECF6\",\"angularaxis\":{\"gridcolor\":\"white\",\"linecolor\":\"white\",\"ticks\":\"\"},\"radialaxis\":{\"gridcolor\":\"white\",\"linecolor\":\"white\",\"ticks\":\"\"}},\"ternary\":{\"bgcolor\":\"#E5ECF6\",\"aaxis\":{\"gridcolor\":\"white\",\"linecolor\":\"white\",\"ticks\":\"\"},\"baxis\":{\"gridcolor\":\"white\",\"linecolor\":\"white\",\"ticks\":\"\"},\"caxis\":{\"gridcolor\":\"white\",\"linecolor\":\"white\",\"ticks\":\"\"}},\"coloraxis\":{\"colorbar\":{\"outlinewidth\":0,\"ticks\":\"\"}},\"colorscale\":{\"sequential\":[[0.0,\"#0d0887\"],[0.1111111111111111,\"#46039f\"],[0.2222222222222222,\"#7201a8\"],[0.3333333333333333,\"#9c179e\"],[0.4444444444444444,\"#bd3786\"],[0.5555555555555556,\"#d8576b\"],[0.6666666666666666,\"#ed7953\"],[0.7777777777777778,\"#fb9f3a\"],[0.8888888888888888,\"#fdca26\"],[1.0,\"#f0f921\"]],\"sequentialminus\":[[0.0,\"#0d0887\"],[0.1111111111111111,\"#46039f\"],[0.2222222222222222,\"#7201a8\"],[0.3333333333333333,\"#9c179e\"],[0.4444444444444444,\"#bd3786\"],[0.5555555555555556,\"#d8576b\"],[0.6666666666666666,\"#ed7953\"],[0.7777777777777778,\"#fb9f3a\"],[0.8888888888888888,\"#fdca26\"],[1.0,\"#f0f921\"]],\"diverging\":[[0,\"#8e0152\"],[0.1,\"#c51b7d\"],[0.2,\"#de77ae\"],[0.3,\"#f1b6da\"],[0.4,\"#fde0ef\"],[0.5,\"#f7f7f7\"],[0.6,\"#e6f5d0\"],[0.7,\"#b8e186\"],[0.8,\"#7fbc41\"],[0.9,\"#4d9221\"],[1,\"#276419\"]]},\"xaxis\":{\"gridcolor\":\"white\",\"linecolor\":\"white\",\"ticks\":\"\",\"title\":{\"standoff\":15},\"zerolinecolor\":\"white\",\"automargin\":true,\"zerolinewidth\":2},\"yaxis\":{\"gridcolor\":\"white\",\"linecolor\":\"white\",\"ticks\":\"\",\"title\":{\"standoff\":15},\"zerolinecolor\":\"white\",\"automargin\":true,\"zerolinewidth\":2},\"scene\":{\"xaxis\":{\"backgroundcolor\":\"#E5ECF6\",\"gridcolor\":\"white\",\"linecolor\":\"white\",\"showbackground\":true,\"ticks\":\"\",\"zerolinecolor\":\"white\",\"gridwidth\":2},\"yaxis\":{\"backgroundcolor\":\"#E5ECF6\",\"gridcolor\":\"white\",\"linecolor\":\"white\",\"showbackground\":true,\"ticks\":\"\",\"zerolinecolor\":\"white\",\"gridwidth\":2},\"zaxis\":{\"backgroundcolor\":\"#E5ECF6\",\"gridcolor\":\"white\",\"linecolor\":\"white\",\"showbackground\":true,\"ticks\":\"\",\"zerolinecolor\":\"white\",\"gridwidth\":2}},\"shapedefaults\":{\"line\":{\"color\":\"#2a3f5f\"}},\"annotationdefaults\":{\"arrowcolor\":\"#2a3f5f\",\"arrowhead\":0,\"arrowwidth\":1},\"geo\":{\"bgcolor\":\"white\",\"landcolor\":\"#E5ECF6\",\"subunitcolor\":\"white\",\"showland\":true,\"showlakes\":true,\"lakecolor\":\"white\"},\"title\":{\"x\":0.05},\"mapbox\":{\"style\":\"light\"}}},\"xaxis\":{\"anchor\":\"y\",\"domain\":[0.0,1.0],\"title\":{\"text\":\"Gender\"},\"categoryorder\":\"array\",\"categoryarray\":[\"Male\",\"Female\"]},\"yaxis\":{\"anchor\":\"x\",\"domain\":[0.0,1.0],\"title\":{\"text\":\"count\"}},\"legend\":{\"title\":{\"text\":\"Gender\"},\"tracegroupgap\":0},\"title\":{\"text\":\"Count of Attendee by Gender\"},\"barmode\":\"relative\"},                        {\"responsive\": true}                    ).then(function(){\n",
              "                            \n",
              "var gd = document.getElementById('4b732385-eab8-437b-9b4b-03cc359b8e10');\n",
              "var x = new MutationObserver(function (mutations, observer) {{\n",
              "        var display = window.getComputedStyle(gd).display;\n",
              "        if (!display || display === 'none') {{\n",
              "            console.log([gd, 'removed!']);\n",
              "            Plotly.purge(gd);\n",
              "            observer.disconnect();\n",
              "        }}\n",
              "}});\n",
              "\n",
              "// Listen for the removal of the full notebook cells\n",
              "var notebookContainer = gd.closest('#notebook-container');\n",
              "if (notebookContainer) {{\n",
              "    x.observe(notebookContainer, {childList: true});\n",
              "}}\n",
              "\n",
              "// Listen for the clearing of the current output cell\n",
              "var outputEl = gd.closest('.output');\n",
              "if (outputEl) {{\n",
              "    x.observe(outputEl, {childList: true});\n",
              "}}\n",
              "\n",
              "                        })                };                            </script>        </div>\n",
              "</body>\n",
              "</html>"
            ]
          },
          "metadata": {},
          "output_type": "display_data"
        }
      ],
      "source": [
        "gender = final_df['Gender'].value_counts().keys()\n",
        "count = final_df['Gender'].value_counts().values\n",
        "labels = [str(val) for val in count]\n",
        "\n",
        "gender_plot_df = pd.DataFrame({\n",
        "    'Gender': gender,\n",
        "    'Count': count,\n",
        "})\n",
        "\n",
        "fig = px.bar(gender_plot_df, x='Gender', y='Count', text=labels, title='Count of Attendee by Gender', template='plotly',color='Gender', color_discrete_sequence=px.colors.qualitative.Plotly)\n",
        "\n",
        "# Set the labels for the y-axis and x-axis\n",
        "fig.update_yaxes(title_text='count')\n",
        "fig.update_xaxes(title_text='Gender')\n",
        "\n",
        "# Show the plot\n",
        "fig.show()"
      ]
    },
    {
      "cell_type": "code",
      "execution_count": 25,
      "id": "cdeb7b00",
      "metadata": {
        "colab": {
          "base_uri": "https://localhost:8080/",
          "height": 542
        },
        "id": "cdeb7b00",
        "outputId": "a8759f91-c980-489f-d092-9cb78c9b87ec"
      },
      "outputs": [
        {
          "data": {
            "text/html": [
              "<html>\n",
              "<head><meta charset=\"utf-8\" /></head>\n",
              "<body>\n",
              "    <div>            <script src=\"https://cdnjs.cloudflare.com/ajax/libs/mathjax/2.7.5/MathJax.js?config=TeX-AMS-MML_SVG\"></script><script type=\"text/javascript\">if (window.MathJax && window.MathJax.Hub && window.MathJax.Hub.Config) {window.MathJax.Hub.Config({SVG: {font: \"STIX-Web\"}});}</script>                <script type=\"text/javascript\">window.PlotlyConfig = {MathJaxConfig: 'local'};</script>\n",
              "        <script charset=\"utf-8\" src=\"https://cdn.plot.ly/plotly-2.24.1.min.js\"></script>                <div id=\"dca7d594-5e7c-4682-b80a-cc2bb952a718\" class=\"plotly-graph-div\" style=\"height:525px; width:100%;\"></div>            <script type=\"text/javascript\">                                    window.PLOTLYENV=window.PLOTLYENV || {};                                    if (document.getElementById(\"dca7d594-5e7c-4682-b80a-cc2bb952a718\")) {                    Plotly.newPlot(                        \"dca7d594-5e7c-4682-b80a-cc2bb952a718\",                        [{\"alignmentgroup\":\"True\",\"hovertemplate\":\"City=%{x}\\u003cbr\\u003eCount=%{y}\\u003cbr\\u003etext=%{text}\\u003cextra\\u003e\\u003c\\u002fextra\\u003e\",\"legendgroup\":\"Mumbai\",\"marker\":{\"color\":\"#636EFA\",\"pattern\":{\"shape\":\"\"}},\"name\":\"Mumbai\",\"offsetgroup\":\"Mumbai\",\"orientation\":\"v\",\"showlegend\":true,\"text\":[\"17\"],\"textposition\":\"auto\",\"x\":[\"Mumbai\"],\"xaxis\":\"x\",\"y\":[17],\"yaxis\":\"y\",\"type\":\"bar\"},{\"alignmentgroup\":\"True\",\"hovertemplate\":\"City=%{x}\\u003cbr\\u003eCount=%{y}\\u003cbr\\u003etext=%{text}\\u003cextra\\u003e\\u003c\\u002fextra\\u003e\",\"legendgroup\":\"Pune\",\"marker\":{\"color\":\"#EF553B\",\"pattern\":{\"shape\":\"\"}},\"name\":\"Pune\",\"offsetgroup\":\"Pune\",\"orientation\":\"v\",\"showlegend\":true,\"text\":[\"13\"],\"textposition\":\"auto\",\"x\":[\"Pune\"],\"xaxis\":\"x\",\"y\":[13],\"yaxis\":\"y\",\"type\":\"bar\"},{\"alignmentgroup\":\"True\",\"hovertemplate\":\"City=%{x}\\u003cbr\\u003eCount=%{y}\\u003cbr\\u003etext=%{text}\\u003cextra\\u003e\\u003c\\u002fextra\\u003e\",\"legendgroup\":\"Navi Mumbai\",\"marker\":{\"color\":\"#00CC96\",\"pattern\":{\"shape\":\"\"}},\"name\":\"Navi Mumbai\",\"offsetgroup\":\"Navi Mumbai\",\"orientation\":\"v\",\"showlegend\":true,\"text\":[\"6\"],\"textposition\":\"auto\",\"x\":[\"Navi Mumbai\"],\"xaxis\":\"x\",\"y\":[6],\"yaxis\":\"y\",\"type\":\"bar\"},{\"alignmentgroup\":\"True\",\"hovertemplate\":\"City=%{x}\\u003cbr\\u003eCount=%{y}\\u003cbr\\u003etext=%{text}\\u003cextra\\u003e\\u003c\\u002fextra\\u003e\",\"legendgroup\":\"pune\",\"marker\":{\"color\":\"#AB63FA\",\"pattern\":{\"shape\":\"\"}},\"name\":\"pune\",\"offsetgroup\":\"pune\",\"orientation\":\"v\",\"showlegend\":true,\"text\":[\"2\"],\"textposition\":\"auto\",\"x\":[\"pune\"],\"xaxis\":\"x\",\"y\":[2],\"yaxis\":\"y\",\"type\":\"bar\"},{\"alignmentgroup\":\"True\",\"hovertemplate\":\"City=%{x}\\u003cbr\\u003eCount=%{y}\\u003cbr\\u003etext=%{text}\\u003cextra\\u003e\\u003c\\u002fextra\\u003e\",\"legendgroup\":\"Thane\",\"marker\":{\"color\":\"#FFA15A\",\"pattern\":{\"shape\":\"\"}},\"name\":\"Thane\",\"offsetgroup\":\"Thane\",\"orientation\":\"v\",\"showlegend\":true,\"text\":[\"2\"],\"textposition\":\"auto\",\"x\":[\"Thane\"],\"xaxis\":\"x\",\"y\":[2],\"yaxis\":\"y\",\"type\":\"bar\"},{\"alignmentgroup\":\"True\",\"hovertemplate\":\"City=%{x}\\u003cbr\\u003eCount=%{y}\\u003cbr\\u003etext=%{text}\\u003cextra\\u003e\\u003c\\u002fextra\\u003e\",\"legendgroup\":\"Kalyan\",\"marker\":{\"color\":\"#19D3F3\",\"pattern\":{\"shape\":\"\"}},\"name\":\"Kalyan\",\"offsetgroup\":\"Kalyan\",\"orientation\":\"v\",\"showlegend\":true,\"text\":[\"1\"],\"textposition\":\"auto\",\"x\":[\"Kalyan\"],\"xaxis\":\"x\",\"y\":[1],\"yaxis\":\"y\",\"type\":\"bar\"},{\"alignmentgroup\":\"True\",\"hovertemplate\":\"City=%{x}\\u003cbr\\u003eCount=%{y}\\u003cbr\\u003etext=%{text}\\u003cextra\\u003e\\u003c\\u002fextra\\u003e\",\"legendgroup\":\"Ulhasnagar\",\"marker\":{\"color\":\"#FF6692\",\"pattern\":{\"shape\":\"\"}},\"name\":\"Ulhasnagar\",\"offsetgroup\":\"Ulhasnagar\",\"orientation\":\"v\",\"showlegend\":true,\"text\":[\"1\"],\"textposition\":\"auto\",\"x\":[\"Ulhasnagar\"],\"xaxis\":\"x\",\"y\":[1],\"yaxis\":\"y\",\"type\":\"bar\"},{\"alignmentgroup\":\"True\",\"hovertemplate\":\"City=%{x}\\u003cbr\\u003eCount=%{y}\\u003cbr\\u003etext=%{text}\\u003cextra\\u003e\\u003c\\u002fextra\\u003e\",\"legendgroup\":\"Cuncolim\",\"marker\":{\"color\":\"#B6E880\",\"pattern\":{\"shape\":\"\"}},\"name\":\"Cuncolim\",\"offsetgroup\":\"Cuncolim\",\"orientation\":\"v\",\"showlegend\":true,\"text\":[\"1\"],\"textposition\":\"auto\",\"x\":[\"Cuncolim\"],\"xaxis\":\"x\",\"y\":[1],\"yaxis\":\"y\",\"type\":\"bar\"},{\"alignmentgroup\":\"True\",\"hovertemplate\":\"City=%{x}\\u003cbr\\u003eCount=%{y}\\u003cbr\\u003etext=%{text}\\u003cextra\\u003e\\u003c\\u002fextra\\u003e\",\"legendgroup\":\"navi mumbai\",\"marker\":{\"color\":\"#FF97FF\",\"pattern\":{\"shape\":\"\"}},\"name\":\"navi mumbai\",\"offsetgroup\":\"navi mumbai\",\"orientation\":\"v\",\"showlegend\":true,\"text\":[\"1\"],\"textposition\":\"auto\",\"x\":[\"navi mumbai\"],\"xaxis\":\"x\",\"y\":[1],\"yaxis\":\"y\",\"type\":\"bar\"},{\"alignmentgroup\":\"True\",\"hovertemplate\":\"City=%{x}\\u003cbr\\u003eCount=%{y}\\u003cbr\\u003etext=%{text}\\u003cextra\\u003e\\u003c\\u002fextra\\u003e\",\"legendgroup\":\"Amravati\",\"marker\":{\"color\":\"#FECB52\",\"pattern\":{\"shape\":\"\"}},\"name\":\"Amravati\",\"offsetgroup\":\"Amravati\",\"orientation\":\"v\",\"showlegend\":true,\"text\":[\"1\"],\"textposition\":\"auto\",\"x\":[\"Amravati\"],\"xaxis\":\"x\",\"y\":[1],\"yaxis\":\"y\",\"type\":\"bar\"},{\"alignmentgroup\":\"True\",\"hovertemplate\":\"City=%{x}\\u003cbr\\u003eCount=%{y}\\u003cbr\\u003etext=%{text}\\u003cextra\\u003e\\u003c\\u002fextra\\u003e\",\"legendgroup\":\"Panjim\",\"marker\":{\"color\":\"#636EFA\",\"pattern\":{\"shape\":\"\"}},\"name\":\"Panjim\",\"offsetgroup\":\"Panjim\",\"orientation\":\"v\",\"showlegend\":true,\"text\":[\"1\"],\"textposition\":\"auto\",\"x\":[\"Panjim\"],\"xaxis\":\"x\",\"y\":[1],\"yaxis\":\"y\",\"type\":\"bar\"},{\"alignmentgroup\":\"True\",\"hovertemplate\":\"City=%{x}\\u003cbr\\u003eCount=%{y}\\u003cbr\\u003etext=%{text}\\u003cextra\\u003e\\u003c\\u002fextra\\u003e\",\"legendgroup\":\"Frankfurt\",\"marker\":{\"color\":\"#EF553B\",\"pattern\":{\"shape\":\"\"}},\"name\":\"Frankfurt\",\"offsetgroup\":\"Frankfurt\",\"orientation\":\"v\",\"showlegend\":true,\"text\":[\"1\"],\"textposition\":\"auto\",\"x\":[\"Frankfurt\"],\"xaxis\":\"x\",\"y\":[1],\"yaxis\":\"y\",\"type\":\"bar\"},{\"alignmentgroup\":\"True\",\"hovertemplate\":\"City=%{x}\\u003cbr\\u003eCount=%{y}\\u003cbr\\u003etext=%{text}\\u003cextra\\u003e\\u003c\\u002fextra\\u003e\",\"legendgroup\":\"Bhopal\",\"marker\":{\"color\":\"#00CC96\",\"pattern\":{\"shape\":\"\"}},\"name\":\"Bhopal\",\"offsetgroup\":\"Bhopal\",\"orientation\":\"v\",\"showlegend\":true,\"text\":[\"1\"],\"textposition\":\"auto\",\"x\":[\"Bhopal\"],\"xaxis\":\"x\",\"y\":[1],\"yaxis\":\"y\",\"type\":\"bar\"},{\"alignmentgroup\":\"True\",\"hovertemplate\":\"City=%{x}\\u003cbr\\u003eCount=%{y}\\u003cbr\\u003etext=%{text}\\u003cextra\\u003e\\u003c\\u002fextra\\u003e\",\"legendgroup\":\"nashik\",\"marker\":{\"color\":\"#AB63FA\",\"pattern\":{\"shape\":\"\"}},\"name\":\"nashik\",\"offsetgroup\":\"nashik\",\"orientation\":\"v\",\"showlegend\":true,\"text\":[\"1\"],\"textposition\":\"auto\",\"x\":[\"nashik\"],\"xaxis\":\"x\",\"y\":[1],\"yaxis\":\"y\",\"type\":\"bar\"},{\"alignmentgroup\":\"True\",\"hovertemplate\":\"City=%{x}\\u003cbr\\u003eCount=%{y}\\u003cbr\\u003etext=%{text}\\u003cextra\\u003e\\u003c\\u002fextra\\u003e\",\"legendgroup\":\"Nerul\",\"marker\":{\"color\":\"#FFA15A\",\"pattern\":{\"shape\":\"\"}},\"name\":\"Nerul\",\"offsetgroup\":\"Nerul\",\"orientation\":\"v\",\"showlegend\":true,\"text\":[\"1\"],\"textposition\":\"auto\",\"x\":[\"Nerul\"],\"xaxis\":\"x\",\"y\":[1],\"yaxis\":\"y\",\"type\":\"bar\"},{\"alignmentgroup\":\"True\",\"hovertemplate\":\"City=%{x}\\u003cbr\\u003eCount=%{y}\\u003cbr\\u003etext=%{text}\\u003cextra\\u003e\\u003c\\u002fextra\\u003e\",\"legendgroup\":\"Nagpur\",\"marker\":{\"color\":\"#19D3F3\",\"pattern\":{\"shape\":\"\"}},\"name\":\"Nagpur\",\"offsetgroup\":\"Nagpur\",\"orientation\":\"v\",\"showlegend\":true,\"text\":[\"1\"],\"textposition\":\"auto\",\"x\":[\"Nagpur\"],\"xaxis\":\"x\",\"y\":[1],\"yaxis\":\"y\",\"type\":\"bar\"},{\"alignmentgroup\":\"True\",\"hovertemplate\":\"City=%{x}\\u003cbr\\u003eCount=%{y}\\u003cbr\\u003etext=%{text}\\u003cextra\\u003e\\u003c\\u002fextra\\u003e\",\"legendgroup\":\"Wardha\",\"marker\":{\"color\":\"#FF6692\",\"pattern\":{\"shape\":\"\"}},\"name\":\"Wardha\",\"offsetgroup\":\"Wardha\",\"orientation\":\"v\",\"showlegend\":true,\"text\":[\"1\"],\"textposition\":\"auto\",\"x\":[\"Wardha\"],\"xaxis\":\"x\",\"y\":[1],\"yaxis\":\"y\",\"type\":\"bar\"},{\"alignmentgroup\":\"True\",\"hovertemplate\":\"City=%{x}\\u003cbr\\u003eCount=%{y}\\u003cbr\\u003etext=%{text}\\u003cextra\\u003e\\u003c\\u002fextra\\u003e\",\"legendgroup\":\"etah\",\"marker\":{\"color\":\"#B6E880\",\"pattern\":{\"shape\":\"\"}},\"name\":\"etah\",\"offsetgroup\":\"etah\",\"orientation\":\"v\",\"showlegend\":true,\"text\":[\"1\"],\"textposition\":\"auto\",\"x\":[\"etah\"],\"xaxis\":\"x\",\"y\":[1],\"yaxis\":\"y\",\"type\":\"bar\"},{\"alignmentgroup\":\"True\",\"hovertemplate\":\"City=%{x}\\u003cbr\\u003eCount=%{y}\\u003cbr\\u003etext=%{text}\\u003cextra\\u003e\\u003c\\u002fextra\\u003e\",\"legendgroup\":\"Jalgaon\",\"marker\":{\"color\":\"#FF97FF\",\"pattern\":{\"shape\":\"\"}},\"name\":\"Jalgaon\",\"offsetgroup\":\"Jalgaon\",\"orientation\":\"v\",\"showlegend\":true,\"text\":[\"1\"],\"textposition\":\"auto\",\"x\":[\"Jalgaon\"],\"xaxis\":\"x\",\"y\":[1],\"yaxis\":\"y\",\"type\":\"bar\"}],                        {\"template\":{\"data\":{\"histogram2dcontour\":[{\"type\":\"histogram2dcontour\",\"colorbar\":{\"outlinewidth\":0,\"ticks\":\"\"},\"colorscale\":[[0.0,\"#0d0887\"],[0.1111111111111111,\"#46039f\"],[0.2222222222222222,\"#7201a8\"],[0.3333333333333333,\"#9c179e\"],[0.4444444444444444,\"#bd3786\"],[0.5555555555555556,\"#d8576b\"],[0.6666666666666666,\"#ed7953\"],[0.7777777777777778,\"#fb9f3a\"],[0.8888888888888888,\"#fdca26\"],[1.0,\"#f0f921\"]]}],\"choropleth\":[{\"type\":\"choropleth\",\"colorbar\":{\"outlinewidth\":0,\"ticks\":\"\"}}],\"histogram2d\":[{\"type\":\"histogram2d\",\"colorbar\":{\"outlinewidth\":0,\"ticks\":\"\"},\"colorscale\":[[0.0,\"#0d0887\"],[0.1111111111111111,\"#46039f\"],[0.2222222222222222,\"#7201a8\"],[0.3333333333333333,\"#9c179e\"],[0.4444444444444444,\"#bd3786\"],[0.5555555555555556,\"#d8576b\"],[0.6666666666666666,\"#ed7953\"],[0.7777777777777778,\"#fb9f3a\"],[0.8888888888888888,\"#fdca26\"],[1.0,\"#f0f921\"]]}],\"heatmap\":[{\"type\":\"heatmap\",\"colorbar\":{\"outlinewidth\":0,\"ticks\":\"\"},\"colorscale\":[[0.0,\"#0d0887\"],[0.1111111111111111,\"#46039f\"],[0.2222222222222222,\"#7201a8\"],[0.3333333333333333,\"#9c179e\"],[0.4444444444444444,\"#bd3786\"],[0.5555555555555556,\"#d8576b\"],[0.6666666666666666,\"#ed7953\"],[0.7777777777777778,\"#fb9f3a\"],[0.8888888888888888,\"#fdca26\"],[1.0,\"#f0f921\"]]}],\"heatmapgl\":[{\"type\":\"heatmapgl\",\"colorbar\":{\"outlinewidth\":0,\"ticks\":\"\"},\"colorscale\":[[0.0,\"#0d0887\"],[0.1111111111111111,\"#46039f\"],[0.2222222222222222,\"#7201a8\"],[0.3333333333333333,\"#9c179e\"],[0.4444444444444444,\"#bd3786\"],[0.5555555555555556,\"#d8576b\"],[0.6666666666666666,\"#ed7953\"],[0.7777777777777778,\"#fb9f3a\"],[0.8888888888888888,\"#fdca26\"],[1.0,\"#f0f921\"]]}],\"contourcarpet\":[{\"type\":\"contourcarpet\",\"colorbar\":{\"outlinewidth\":0,\"ticks\":\"\"}}],\"contour\":[{\"type\":\"contour\",\"colorbar\":{\"outlinewidth\":0,\"ticks\":\"\"},\"colorscale\":[[0.0,\"#0d0887\"],[0.1111111111111111,\"#46039f\"],[0.2222222222222222,\"#7201a8\"],[0.3333333333333333,\"#9c179e\"],[0.4444444444444444,\"#bd3786\"],[0.5555555555555556,\"#d8576b\"],[0.6666666666666666,\"#ed7953\"],[0.7777777777777778,\"#fb9f3a\"],[0.8888888888888888,\"#fdca26\"],[1.0,\"#f0f921\"]]}],\"surface\":[{\"type\":\"surface\",\"colorbar\":{\"outlinewidth\":0,\"ticks\":\"\"},\"colorscale\":[[0.0,\"#0d0887\"],[0.1111111111111111,\"#46039f\"],[0.2222222222222222,\"#7201a8\"],[0.3333333333333333,\"#9c179e\"],[0.4444444444444444,\"#bd3786\"],[0.5555555555555556,\"#d8576b\"],[0.6666666666666666,\"#ed7953\"],[0.7777777777777778,\"#fb9f3a\"],[0.8888888888888888,\"#fdca26\"],[1.0,\"#f0f921\"]]}],\"mesh3d\":[{\"type\":\"mesh3d\",\"colorbar\":{\"outlinewidth\":0,\"ticks\":\"\"}}],\"scatter\":[{\"fillpattern\":{\"fillmode\":\"overlay\",\"size\":10,\"solidity\":0.2},\"type\":\"scatter\"}],\"parcoords\":[{\"type\":\"parcoords\",\"line\":{\"colorbar\":{\"outlinewidth\":0,\"ticks\":\"\"}}}],\"scatterpolargl\":[{\"type\":\"scatterpolargl\",\"marker\":{\"colorbar\":{\"outlinewidth\":0,\"ticks\":\"\"}}}],\"bar\":[{\"error_x\":{\"color\":\"#2a3f5f\"},\"error_y\":{\"color\":\"#2a3f5f\"},\"marker\":{\"line\":{\"color\":\"#E5ECF6\",\"width\":0.5},\"pattern\":{\"fillmode\":\"overlay\",\"size\":10,\"solidity\":0.2}},\"type\":\"bar\"}],\"scattergeo\":[{\"type\":\"scattergeo\",\"marker\":{\"colorbar\":{\"outlinewidth\":0,\"ticks\":\"\"}}}],\"scatterpolar\":[{\"type\":\"scatterpolar\",\"marker\":{\"colorbar\":{\"outlinewidth\":0,\"ticks\":\"\"}}}],\"histogram\":[{\"marker\":{\"pattern\":{\"fillmode\":\"overlay\",\"size\":10,\"solidity\":0.2}},\"type\":\"histogram\"}],\"scattergl\":[{\"type\":\"scattergl\",\"marker\":{\"colorbar\":{\"outlinewidth\":0,\"ticks\":\"\"}}}],\"scatter3d\":[{\"type\":\"scatter3d\",\"line\":{\"colorbar\":{\"outlinewidth\":0,\"ticks\":\"\"}},\"marker\":{\"colorbar\":{\"outlinewidth\":0,\"ticks\":\"\"}}}],\"scattermapbox\":[{\"type\":\"scattermapbox\",\"marker\":{\"colorbar\":{\"outlinewidth\":0,\"ticks\":\"\"}}}],\"scatterternary\":[{\"type\":\"scatterternary\",\"marker\":{\"colorbar\":{\"outlinewidth\":0,\"ticks\":\"\"}}}],\"scattercarpet\":[{\"type\":\"scattercarpet\",\"marker\":{\"colorbar\":{\"outlinewidth\":0,\"ticks\":\"\"}}}],\"carpet\":[{\"aaxis\":{\"endlinecolor\":\"#2a3f5f\",\"gridcolor\":\"white\",\"linecolor\":\"white\",\"minorgridcolor\":\"white\",\"startlinecolor\":\"#2a3f5f\"},\"baxis\":{\"endlinecolor\":\"#2a3f5f\",\"gridcolor\":\"white\",\"linecolor\":\"white\",\"minorgridcolor\":\"white\",\"startlinecolor\":\"#2a3f5f\"},\"type\":\"carpet\"}],\"table\":[{\"cells\":{\"fill\":{\"color\":\"#EBF0F8\"},\"line\":{\"color\":\"white\"}},\"header\":{\"fill\":{\"color\":\"#C8D4E3\"},\"line\":{\"color\":\"white\"}},\"type\":\"table\"}],\"barpolar\":[{\"marker\":{\"line\":{\"color\":\"#E5ECF6\",\"width\":0.5},\"pattern\":{\"fillmode\":\"overlay\",\"size\":10,\"solidity\":0.2}},\"type\":\"barpolar\"}],\"pie\":[{\"automargin\":true,\"type\":\"pie\"}]},\"layout\":{\"autotypenumbers\":\"strict\",\"colorway\":[\"#636efa\",\"#EF553B\",\"#00cc96\",\"#ab63fa\",\"#FFA15A\",\"#19d3f3\",\"#FF6692\",\"#B6E880\",\"#FF97FF\",\"#FECB52\"],\"font\":{\"color\":\"#2a3f5f\"},\"hovermode\":\"closest\",\"hoverlabel\":{\"align\":\"left\"},\"paper_bgcolor\":\"white\",\"plot_bgcolor\":\"#E5ECF6\",\"polar\":{\"bgcolor\":\"#E5ECF6\",\"angularaxis\":{\"gridcolor\":\"white\",\"linecolor\":\"white\",\"ticks\":\"\"},\"radialaxis\":{\"gridcolor\":\"white\",\"linecolor\":\"white\",\"ticks\":\"\"}},\"ternary\":{\"bgcolor\":\"#E5ECF6\",\"aaxis\":{\"gridcolor\":\"white\",\"linecolor\":\"white\",\"ticks\":\"\"},\"baxis\":{\"gridcolor\":\"white\",\"linecolor\":\"white\",\"ticks\":\"\"},\"caxis\":{\"gridcolor\":\"white\",\"linecolor\":\"white\",\"ticks\":\"\"}},\"coloraxis\":{\"colorbar\":{\"outlinewidth\":0,\"ticks\":\"\"}},\"colorscale\":{\"sequential\":[[0.0,\"#0d0887\"],[0.1111111111111111,\"#46039f\"],[0.2222222222222222,\"#7201a8\"],[0.3333333333333333,\"#9c179e\"],[0.4444444444444444,\"#bd3786\"],[0.5555555555555556,\"#d8576b\"],[0.6666666666666666,\"#ed7953\"],[0.7777777777777778,\"#fb9f3a\"],[0.8888888888888888,\"#fdca26\"],[1.0,\"#f0f921\"]],\"sequentialminus\":[[0.0,\"#0d0887\"],[0.1111111111111111,\"#46039f\"],[0.2222222222222222,\"#7201a8\"],[0.3333333333333333,\"#9c179e\"],[0.4444444444444444,\"#bd3786\"],[0.5555555555555556,\"#d8576b\"],[0.6666666666666666,\"#ed7953\"],[0.7777777777777778,\"#fb9f3a\"],[0.8888888888888888,\"#fdca26\"],[1.0,\"#f0f921\"]],\"diverging\":[[0,\"#8e0152\"],[0.1,\"#c51b7d\"],[0.2,\"#de77ae\"],[0.3,\"#f1b6da\"],[0.4,\"#fde0ef\"],[0.5,\"#f7f7f7\"],[0.6,\"#e6f5d0\"],[0.7,\"#b8e186\"],[0.8,\"#7fbc41\"],[0.9,\"#4d9221\"],[1,\"#276419\"]]},\"xaxis\":{\"gridcolor\":\"white\",\"linecolor\":\"white\",\"ticks\":\"\",\"title\":{\"standoff\":15},\"zerolinecolor\":\"white\",\"automargin\":true,\"zerolinewidth\":2},\"yaxis\":{\"gridcolor\":\"white\",\"linecolor\":\"white\",\"ticks\":\"\",\"title\":{\"standoff\":15},\"zerolinecolor\":\"white\",\"automargin\":true,\"zerolinewidth\":2},\"scene\":{\"xaxis\":{\"backgroundcolor\":\"#E5ECF6\",\"gridcolor\":\"white\",\"linecolor\":\"white\",\"showbackground\":true,\"ticks\":\"\",\"zerolinecolor\":\"white\",\"gridwidth\":2},\"yaxis\":{\"backgroundcolor\":\"#E5ECF6\",\"gridcolor\":\"white\",\"linecolor\":\"white\",\"showbackground\":true,\"ticks\":\"\",\"zerolinecolor\":\"white\",\"gridwidth\":2},\"zaxis\":{\"backgroundcolor\":\"#E5ECF6\",\"gridcolor\":\"white\",\"linecolor\":\"white\",\"showbackground\":true,\"ticks\":\"\",\"zerolinecolor\":\"white\",\"gridwidth\":2}},\"shapedefaults\":{\"line\":{\"color\":\"#2a3f5f\"}},\"annotationdefaults\":{\"arrowcolor\":\"#2a3f5f\",\"arrowhead\":0,\"arrowwidth\":1},\"geo\":{\"bgcolor\":\"white\",\"landcolor\":\"#E5ECF6\",\"subunitcolor\":\"white\",\"showland\":true,\"showlakes\":true,\"lakecolor\":\"white\"},\"title\":{\"x\":0.05},\"mapbox\":{\"style\":\"light\"}}},\"xaxis\":{\"anchor\":\"y\",\"domain\":[0.0,1.0],\"title\":{\"text\":\"City\"},\"categoryorder\":\"array\",\"categoryarray\":[\"Mumbai\",\"Pune\",\"Navi Mumbai\",\"pune\",\"Thane\",\"Kalyan\",\"Ulhasnagar\",\"Cuncolim\",\"navi mumbai\",\"Amravati\",\"Panjim\",\"Frankfurt\",\"Bhopal\",\"nashik\",\"Nerul\",\"Nagpur\",\"Wardha\",\"etah\",\"Jalgaon\"]},\"yaxis\":{\"anchor\":\"x\",\"domain\":[0.0,1.0],\"title\":{\"text\":\"count\"}},\"legend\":{\"title\":{\"text\":\"City\"},\"tracegroupgap\":0},\"title\":{\"text\":\"Count of Attendee by City\"},\"barmode\":\"relative\"},                        {\"responsive\": true}                    ).then(function(){\n",
              "                            \n",
              "var gd = document.getElementById('dca7d594-5e7c-4682-b80a-cc2bb952a718');\n",
              "var x = new MutationObserver(function (mutations, observer) {{\n",
              "        var display = window.getComputedStyle(gd).display;\n",
              "        if (!display || display === 'none') {{\n",
              "            console.log([gd, 'removed!']);\n",
              "            Plotly.purge(gd);\n",
              "            observer.disconnect();\n",
              "        }}\n",
              "}});\n",
              "\n",
              "// Listen for the removal of the full notebook cells\n",
              "var notebookContainer = gd.closest('#notebook-container');\n",
              "if (notebookContainer) {{\n",
              "    x.observe(notebookContainer, {childList: true});\n",
              "}}\n",
              "\n",
              "// Listen for the clearing of the current output cell\n",
              "var outputEl = gd.closest('.output');\n",
              "if (outputEl) {{\n",
              "    x.observe(outputEl, {childList: true});\n",
              "}}\n",
              "\n",
              "                        })                };                            </script>        </div>\n",
              "</body>\n",
              "</html>"
            ]
          },
          "metadata": {},
          "output_type": "display_data"
        }
      ],
      "source": [
        "city = final_df['City'].value_counts().keys()\n",
        "count = final_df['City'].value_counts().values\n",
        "labels = [str(val) for val in count]\n",
        "\n",
        "city_plot_df = pd.DataFrame({\n",
        "    'City': city,\n",
        "    'Count': count,\n",
        "})\n",
        "\n",
        "fig = px.bar(city_plot_df, x='City', y='Count', text=labels, title='Count of Attendee by City', template='plotly',color='City', color_discrete_sequence=px.colors.qualitative.Plotly)\n",
        "\n",
        "# Set the labels for the y-axis and x-axis\n",
        "fig.update_yaxes(title_text='count')\n",
        "fig.update_xaxes(title_text='City')\n",
        "\n",
        "# Show the plot\n",
        "fig.show()"
      ]
    },
    {
      "cell_type": "code",
      "execution_count": 26,
      "id": "ddb7d3e2",
      "metadata": {
        "colab": {
          "base_uri": "https://localhost:8080/",
          "height": 1000
        },
        "id": "ddb7d3e2",
        "outputId": "c28c8341-ec8f-4f80-ef55-fb7ac02191ad",
        "scrolled": false
      },
      "outputs": [
        {
          "data": {
            "text/html": [
              "<html>\n",
              "<head><meta charset=\"utf-8\" /></head>\n",
              "<body>\n",
              "    <div>            <script src=\"https://cdnjs.cloudflare.com/ajax/libs/mathjax/2.7.5/MathJax.js?config=TeX-AMS-MML_SVG\"></script><script type=\"text/javascript\">if (window.MathJax && window.MathJax.Hub && window.MathJax.Hub.Config) {window.MathJax.Hub.Config({SVG: {font: \"STIX-Web\"}});}</script>                <script type=\"text/javascript\">window.PlotlyConfig = {MathJaxConfig: 'local'};</script>\n",
              "        <script charset=\"utf-8\" src=\"https://cdn.plot.ly/plotly-2.24.1.min.js\"></script>                <div id=\"1b37e910-7e64-4d1f-94eb-348a829842be\" class=\"plotly-graph-div\" style=\"height:2600px; width:1100px;\"></div>            <script type=\"text/javascript\">                                    window.PLOTLYENV=window.PLOTLYENV || {};                                    if (document.getElementById(\"1b37e910-7e64-4d1f-94eb-348a829842be\")) {                    Plotly.newPlot(                        \"1b37e910-7e64-4d1f-94eb-348a829842be\",                        [{\"alignmentgroup\":\"True\",\"hovertemplate\":\"Branch=%{y}\\u003cbr\\u003eCount=%{x}\\u003cbr\\u003etext=%{text}\\u003cextra\\u003e\\u003c\\u002fextra\\u003e\",\"legendgroup\":\"Other Electronics and telecommunication\",\"marker\":{\"color\":\"#636EFA\",\"pattern\":{\"shape\":\"\"}},\"name\":\"Other Electronics and telecommunication\",\"offsetgroup\":\"Other Electronics and telecommunication\",\"orientation\":\"h\",\"showlegend\":true,\"text\":[\"28\"],\"textposition\":\"auto\",\"x\":[28],\"xaxis\":\"x\",\"y\":[\"Other Electronics and telecommunication\"],\"yaxis\":\"y\",\"type\":\"bar\"},{\"alignmentgroup\":\"True\",\"hovertemplate\":\"Branch=%{y}\\u003cbr\\u003eCount=%{x}\\u003cbr\\u003etext=%{text}\\u003cextra\\u003e\\u003c\\u002fextra\\u003e\",\"legendgroup\":\"Other Electronics and Telecommunication\",\"marker\":{\"color\":\"#EF553B\",\"pattern\":{\"shape\":\"\"}},\"name\":\"Other Electronics and Telecommunication\",\"offsetgroup\":\"Other Electronics and Telecommunication\",\"orientation\":\"h\",\"showlegend\":true,\"text\":[\"17\"],\"textposition\":\"auto\",\"x\":[17],\"xaxis\":\"x\",\"y\":[\"Other Electronics and Telecommunication\"],\"yaxis\":\"y\",\"type\":\"bar\"},{\"alignmentgroup\":\"True\",\"hovertemplate\":\"Branch=%{y}\\u003cbr\\u003eCount=%{x}\\u003cbr\\u003etext=%{text}\\u003cextra\\u003e\\u003c\\u002fextra\\u003e\",\"legendgroup\":\"Other Mechanical\",\"marker\":{\"color\":\"#00CC96\",\"pattern\":{\"shape\":\"\"}},\"name\":\"Other Mechanical\",\"offsetgroup\":\"Other Mechanical\",\"orientation\":\"h\",\"showlegend\":true,\"text\":[\"14\"],\"textposition\":\"auto\",\"x\":[14],\"xaxis\":\"x\",\"y\":[\"Other Mechanical\"],\"yaxis\":\"y\",\"type\":\"bar\"},{\"alignmentgroup\":\"True\",\"hovertemplate\":\"Branch=%{y}\\u003cbr\\u003eCount=%{x}\\u003cbr\\u003etext=%{text}\\u003cextra\\u003e\\u003c\\u002fextra\\u003e\",\"legendgroup\":\"Other Electronics\",\"marker\":{\"color\":\"#AB63FA\",\"pattern\":{\"shape\":\"\"}},\"name\":\"Other Electronics\",\"offsetgroup\":\"Other Electronics\",\"orientation\":\"h\",\"showlegend\":true,\"text\":[\"11\"],\"textposition\":\"auto\",\"x\":[11],\"xaxis\":\"x\",\"y\":[\"Other Electronics\"],\"yaxis\":\"y\",\"type\":\"bar\"},{\"alignmentgroup\":\"True\",\"hovertemplate\":\"Branch=%{y}\\u003cbr\\u003eCount=%{x}\\u003cbr\\u003etext=%{text}\\u003cextra\\u003e\\u003c\\u002fextra\\u003e\",\"legendgroup\":\"Other Mechanical Engineering\",\"marker\":{\"color\":\"#FFA15A\",\"pattern\":{\"shape\":\"\"}},\"name\":\"Other Mechanical Engineering\",\"offsetgroup\":\"Other Mechanical Engineering\",\"orientation\":\"h\",\"showlegend\":true,\"text\":[\"11\"],\"textposition\":\"auto\",\"x\":[11],\"xaxis\":\"x\",\"y\":[\"Other Mechanical Engineering\"],\"yaxis\":\"y\",\"type\":\"bar\"},{\"alignmentgroup\":\"True\",\"hovertemplate\":\"Branch=%{y}\\u003cbr\\u003eCount=%{x}\\u003cbr\\u003etext=%{text}\\u003cextra\\u003e\\u003c\\u002fextra\\u003e\",\"legendgroup\":\"Other EXTC\",\"marker\":{\"color\":\"#19D3F3\",\"pattern\":{\"shape\":\"\"}},\"name\":\"Other EXTC\",\"offsetgroup\":\"Other EXTC\",\"orientation\":\"h\",\"showlegend\":true,\"text\":[\"10\"],\"textposition\":\"auto\",\"x\":[10],\"xaxis\":\"x\",\"y\":[\"Other EXTC\"],\"yaxis\":\"y\",\"type\":\"bar\"},{\"alignmentgroup\":\"True\",\"hovertemplate\":\"Branch=%{y}\\u003cbr\\u003eCount=%{x}\\u003cbr\\u003etext=%{text}\\u003cextra\\u003e\\u003c\\u002fextra\\u003e\",\"legendgroup\":\"Other Electrical\",\"marker\":{\"color\":\"#FF6692\",\"pattern\":{\"shape\":\"\"}},\"name\":\"Other Electrical\",\"offsetgroup\":\"Other Electrical\",\"orientation\":\"h\",\"showlegend\":true,\"text\":[\"10\"],\"textposition\":\"auto\",\"x\":[10],\"xaxis\":\"x\",\"y\":[\"Other Electrical\"],\"yaxis\":\"y\",\"type\":\"bar\"},{\"alignmentgroup\":\"True\",\"hovertemplate\":\"Branch=%{y}\\u003cbr\\u003eCount=%{x}\\u003cbr\\u003etext=%{text}\\u003cextra\\u003e\\u003c\\u002fextra\\u003e\",\"legendgroup\":\"Other Mechanical engineering\",\"marker\":{\"color\":\"#B6E880\",\"pattern\":{\"shape\":\"\"}},\"name\":\"Other Mechanical engineering\",\"offsetgroup\":\"Other Mechanical engineering\",\"orientation\":\"h\",\"showlegend\":true,\"text\":[\"9\"],\"textposition\":\"auto\",\"x\":[9],\"xaxis\":\"x\",\"y\":[\"Other Mechanical engineering\"],\"yaxis\":\"y\",\"type\":\"bar\"},{\"alignmentgroup\":\"True\",\"hovertemplate\":\"Branch=%{y}\\u003cbr\\u003eCount=%{x}\\u003cbr\\u003etext=%{text}\\u003cextra\\u003e\\u003c\\u002fextra\\u003e\",\"legendgroup\":\"Other Computer Applications\",\"marker\":{\"color\":\"#FF97FF\",\"pattern\":{\"shape\":\"\"}},\"name\":\"Other Computer Applications\",\"offsetgroup\":\"Other Computer Applications\",\"orientation\":\"h\",\"showlegend\":true,\"text\":[\"7\"],\"textposition\":\"auto\",\"x\":[7],\"xaxis\":\"x\",\"y\":[\"Other Computer Applications\"],\"yaxis\":\"y\",\"type\":\"bar\"},{\"alignmentgroup\":\"True\",\"hovertemplate\":\"Branch=%{y}\\u003cbr\\u003eCount=%{x}\\u003cbr\\u003etext=%{text}\\u003cextra\\u003e\\u003c\\u002fextra\\u003e\",\"legendgroup\":\"Other Electrical engineering\",\"marker\":{\"color\":\"#FECB52\",\"pattern\":{\"shape\":\"\"}},\"name\":\"Other Electrical engineering\",\"offsetgroup\":\"Other Electrical engineering\",\"orientation\":\"h\",\"showlegend\":true,\"text\":[\"6\"],\"textposition\":\"auto\",\"x\":[6],\"xaxis\":\"x\",\"y\":[\"Other Electrical engineering\"],\"yaxis\":\"y\",\"type\":\"bar\"},{\"alignmentgroup\":\"True\",\"hovertemplate\":\"Branch=%{y}\\u003cbr\\u003eCount=%{x}\\u003cbr\\u003etext=%{text}\\u003cextra\\u003e\\u003c\\u002fextra\\u003e\",\"legendgroup\":\"Other Computer Engineering\",\"marker\":{\"color\":\"#636EFA\",\"pattern\":{\"shape\":\"\"}},\"name\":\"Other Computer Engineering\",\"offsetgroup\":\"Other Computer Engineering\",\"orientation\":\"h\",\"showlegend\":true,\"text\":[\"6\"],\"textposition\":\"auto\",\"x\":[6],\"xaxis\":\"x\",\"y\":[\"Other Computer Engineering\"],\"yaxis\":\"y\",\"type\":\"bar\"},{\"alignmentgroup\":\"True\",\"hovertemplate\":\"Branch=%{y}\\u003cbr\\u003eCount=%{x}\\u003cbr\\u003etext=%{text}\\u003cextra\\u003e\\u003c\\u002fextra\\u003e\",\"legendgroup\":\"Other Electronics Engineering\",\"marker\":{\"color\":\"#EF553B\",\"pattern\":{\"shape\":\"\"}},\"name\":\"Other Electronics Engineering\",\"offsetgroup\":\"Other Electronics Engineering\",\"orientation\":\"h\",\"showlegend\":true,\"text\":[\"5\"],\"textposition\":\"auto\",\"x\":[5],\"xaxis\":\"x\",\"y\":[\"Other Electronics Engineering\"],\"yaxis\":\"y\",\"type\":\"bar\"},{\"alignmentgroup\":\"True\",\"hovertemplate\":\"Branch=%{y}\\u003cbr\\u003eCount=%{x}\\u003cbr\\u003etext=%{text}\\u003cextra\\u003e\\u003c\\u002fextra\\u003e\",\"legendgroup\":\"Other Electronics and telecommunications\",\"marker\":{\"color\":\"#00CC96\",\"pattern\":{\"shape\":\"\"}},\"name\":\"Other Electronics and telecommunications\",\"offsetgroup\":\"Other Electronics and telecommunications\",\"orientation\":\"h\",\"showlegend\":true,\"text\":[\"5\"],\"textposition\":\"auto\",\"x\":[5],\"xaxis\":\"x\",\"y\":[\"Other Electronics and telecommunications\"],\"yaxis\":\"y\",\"type\":\"bar\"},{\"alignmentgroup\":\"True\",\"hovertemplate\":\"Branch=%{y}\\u003cbr\\u003eCount=%{x}\\u003cbr\\u003etext=%{text}\\u003cextra\\u003e\\u003c\\u002fextra\\u003e\",\"legendgroup\":\"Other Electronic and telecommunication\",\"marker\":{\"color\":\"#AB63FA\",\"pattern\":{\"shape\":\"\"}},\"name\":\"Other Electronic and telecommunication\",\"offsetgroup\":\"Other Electronic and telecommunication\",\"orientation\":\"h\",\"showlegend\":true,\"text\":[\"5\"],\"textposition\":\"auto\",\"x\":[5],\"xaxis\":\"x\",\"y\":[\"Other Electronic and telecommunication\"],\"yaxis\":\"y\",\"type\":\"bar\"},{\"alignmentgroup\":\"True\",\"hovertemplate\":\"Branch=%{y}\\u003cbr\\u003eCount=%{x}\\u003cbr\\u003etext=%{text}\\u003cextra\\u003e\\u003c\\u002fextra\\u003e\",\"legendgroup\":\"Other Computer Technology\",\"marker\":{\"color\":\"#FFA15A\",\"pattern\":{\"shape\":\"\"}},\"name\":\"Other Computer Technology\",\"offsetgroup\":\"Other Computer Technology\",\"orientation\":\"h\",\"showlegend\":true,\"text\":[\"4\"],\"textposition\":\"auto\",\"x\":[4],\"xaxis\":\"x\",\"y\":[\"Other Computer Technology\"],\"yaxis\":\"y\",\"type\":\"bar\"},{\"alignmentgroup\":\"True\",\"hovertemplate\":\"Branch=%{y}\\u003cbr\\u003eCount=%{x}\\u003cbr\\u003etext=%{text}\\u003cextra\\u003e\\u003c\\u002fextra\\u003e\",\"legendgroup\":\"Other Computer engineering\",\"marker\":{\"color\":\"#19D3F3\",\"pattern\":{\"shape\":\"\"}},\"name\":\"Other Computer engineering\",\"offsetgroup\":\"Other Computer engineering\",\"orientation\":\"h\",\"showlegend\":true,\"text\":[\"4\"],\"textposition\":\"auto\",\"x\":[4],\"xaxis\":\"x\",\"y\":[\"Other Computer engineering\"],\"yaxis\":\"y\",\"type\":\"bar\"},{\"alignmentgroup\":\"True\",\"hovertemplate\":\"Branch=%{y}\\u003cbr\\u003eCount=%{x}\\u003cbr\\u003etext=%{text}\\u003cextra\\u003e\\u003c\\u002fextra\\u003e\",\"legendgroup\":\"Other Electronics and Communication\",\"marker\":{\"color\":\"#FF6692\",\"pattern\":{\"shape\":\"\"}},\"name\":\"Other Electronics and Communication\",\"offsetgroup\":\"Other Electronics and Communication\",\"orientation\":\"h\",\"showlegend\":true,\"text\":[\"4\"],\"textposition\":\"auto\",\"x\":[4],\"xaxis\":\"x\",\"y\":[\"Other Electronics and Communication\"],\"yaxis\":\"y\",\"type\":\"bar\"},{\"alignmentgroup\":\"True\",\"hovertemplate\":\"Branch=%{y}\\u003cbr\\u003eCount=%{x}\\u003cbr\\u003etext=%{text}\\u003cextra\\u003e\\u003c\\u002fextra\\u003e\",\"legendgroup\":\"Other Production engineering\",\"marker\":{\"color\":\"#B6E880\",\"pattern\":{\"shape\":\"\"}},\"name\":\"Other Production engineering\",\"offsetgroup\":\"Other Production engineering\",\"orientation\":\"h\",\"showlegend\":true,\"text\":[\"4\"],\"textposition\":\"auto\",\"x\":[4],\"xaxis\":\"x\",\"y\":[\"Other Production engineering\"],\"yaxis\":\"y\",\"type\":\"bar\"},{\"alignmentgroup\":\"True\",\"hovertemplate\":\"Branch=%{y}\\u003cbr\\u003eCount=%{x}\\u003cbr\\u003etext=%{text}\\u003cextra\\u003e\\u003c\\u002fextra\\u003e\",\"legendgroup\":\"Other Electronic and Telecommunication\",\"marker\":{\"color\":\"#FF97FF\",\"pattern\":{\"shape\":\"\"}},\"name\":\"Other Electronic and Telecommunication\",\"offsetgroup\":\"Other Electronic and Telecommunication\",\"orientation\":\"h\",\"showlegend\":true,\"text\":[\"3\"],\"textposition\":\"auto\",\"x\":[3],\"xaxis\":\"x\",\"y\":[\"Other Electronic and Telecommunication\"],\"yaxis\":\"y\",\"type\":\"bar\"},{\"alignmentgroup\":\"True\",\"hovertemplate\":\"Branch=%{y}\\u003cbr\\u003eCount=%{x}\\u003cbr\\u003etext=%{text}\\u003cextra\\u003e\\u003c\\u002fextra\\u003e\",\"legendgroup\":\"Other Electronics and Telecommunications\",\"marker\":{\"color\":\"#FECB52\",\"pattern\":{\"shape\":\"\"}},\"name\":\"Other Electronics and Telecommunications\",\"offsetgroup\":\"Other Electronics and Telecommunications\",\"orientation\":\"h\",\"showlegend\":true,\"text\":[\"3\"],\"textposition\":\"auto\",\"x\":[3],\"xaxis\":\"x\",\"y\":[\"Other Electronics and Telecommunications\"],\"yaxis\":\"y\",\"type\":\"bar\"},{\"alignmentgroup\":\"True\",\"hovertemplate\":\"Branch=%{y}\\u003cbr\\u003eCount=%{x}\\u003cbr\\u003etext=%{text}\\u003cextra\\u003e\\u003c\\u002fextra\\u003e\",\"legendgroup\":\"Other ELECTRONIC AND TELECOMMUNICATIONS\",\"marker\":{\"color\":\"#636EFA\",\"pattern\":{\"shape\":\"\"}},\"name\":\"Other ELECTRONIC AND TELECOMMUNICATIONS\",\"offsetgroup\":\"Other ELECTRONIC AND TELECOMMUNICATIONS\",\"orientation\":\"h\",\"showlegend\":true,\"text\":[\"3\"],\"textposition\":\"auto\",\"x\":[3],\"xaxis\":\"x\",\"y\":[\"Other ELECTRONIC AND TELECOMMUNICATIONS\"],\"yaxis\":\"y\",\"type\":\"bar\"},{\"alignmentgroup\":\"True\",\"hovertemplate\":\"Branch=%{y}\\u003cbr\\u003eCount=%{x}\\u003cbr\\u003etext=%{text}\\u003cextra\\u003e\\u003c\\u002fextra\\u003e\",\"legendgroup\":\"Other E&TC\",\"marker\":{\"color\":\"#EF553B\",\"pattern\":{\"shape\":\"\"}},\"name\":\"Other E&TC\",\"offsetgroup\":\"Other E&TC\",\"orientation\":\"h\",\"showlegend\":true,\"text\":[\"3\"],\"textposition\":\"auto\",\"x\":[3],\"xaxis\":\"x\",\"y\":[\"Other E&TC\"],\"yaxis\":\"y\",\"type\":\"bar\"},{\"alignmentgroup\":\"True\",\"hovertemplate\":\"Branch=%{y}\\u003cbr\\u003eCount=%{x}\\u003cbr\\u003etext=%{text}\\u003cextra\\u003e\\u003c\\u002fextra\\u003e\",\"legendgroup\":\"Other Electronics and Telecommunication Engineering\",\"marker\":{\"color\":\"#00CC96\",\"pattern\":{\"shape\":\"\"}},\"name\":\"Other Electronics and Telecommunication Engineering\",\"offsetgroup\":\"Other Electronics and Telecommunication Engineering\",\"orientation\":\"h\",\"showlegend\":true,\"text\":[\"3\"],\"textposition\":\"auto\",\"x\":[3],\"xaxis\":\"x\",\"y\":[\"Other Electronics and Telecommunication Engineering\"],\"yaxis\":\"y\",\"type\":\"bar\"},{\"alignmentgroup\":\"True\",\"hovertemplate\":\"Branch=%{y}\\u003cbr\\u003eCount=%{x}\\u003cbr\\u003etext=%{text}\\u003cextra\\u003e\\u003c\\u002fextra\\u003e\",\"legendgroup\":\"Other ETRX\",\"marker\":{\"color\":\"#AB63FA\",\"pattern\":{\"shape\":\"\"}},\"name\":\"Other ETRX\",\"offsetgroup\":\"Other ETRX\",\"orientation\":\"h\",\"showlegend\":true,\"text\":[\"3\"],\"textposition\":\"auto\",\"x\":[3],\"xaxis\":\"x\",\"y\":[\"Other ETRX\"],\"yaxis\":\"y\",\"type\":\"bar\"},{\"alignmentgroup\":\"True\",\"hovertemplate\":\"Branch=%{y}\\u003cbr\\u003eCount=%{x}\\u003cbr\\u003etext=%{text}\\u003cextra\\u003e\\u003c\\u002fextra\\u003e\",\"legendgroup\":\"Other Electrical Engineering\",\"marker\":{\"color\":\"#FFA15A\",\"pattern\":{\"shape\":\"\"}},\"name\":\"Other Electrical Engineering\",\"offsetgroup\":\"Other Electrical Engineering\",\"orientation\":\"h\",\"showlegend\":true,\"text\":[\"3\"],\"textposition\":\"auto\",\"x\":[3],\"xaxis\":\"x\",\"y\":[\"Other Electrical Engineering\"],\"yaxis\":\"y\",\"type\":\"bar\"},{\"alignmentgroup\":\"True\",\"hovertemplate\":\"Branch=%{y}\\u003cbr\\u003eCount=%{x}\\u003cbr\\u003etext=%{text}\\u003cextra\\u003e\\u003c\\u002fextra\\u003e\",\"legendgroup\":\"Other Electronics engineering\",\"marker\":{\"color\":\"#19D3F3\",\"pattern\":{\"shape\":\"\"}},\"name\":\"Other Electronics engineering\",\"offsetgroup\":\"Other Electronics engineering\",\"orientation\":\"h\",\"showlegend\":true,\"text\":[\"3\"],\"textposition\":\"auto\",\"x\":[3],\"xaxis\":\"x\",\"y\":[\"Other Electronics engineering\"],\"yaxis\":\"y\",\"type\":\"bar\"},{\"alignmentgroup\":\"True\",\"hovertemplate\":\"Branch=%{y}\\u003cbr\\u003eCount=%{x}\\u003cbr\\u003etext=%{text}\\u003cextra\\u003e\\u003c\\u002fextra\\u003e\",\"legendgroup\":\"Other ELECTRONICS\",\"marker\":{\"color\":\"#FF6692\",\"pattern\":{\"shape\":\"\"}},\"name\":\"Other ELECTRONICS\",\"offsetgroup\":\"Other ELECTRONICS\",\"orientation\":\"h\",\"showlegend\":true,\"text\":[\"3\"],\"textposition\":\"auto\",\"x\":[3],\"xaxis\":\"x\",\"y\":[\"Other ELECTRONICS\"],\"yaxis\":\"y\",\"type\":\"bar\"},{\"alignmentgroup\":\"True\",\"hovertemplate\":\"Branch=%{y}\\u003cbr\\u003eCount=%{x}\\u003cbr\\u003etext=%{text}\\u003cextra\\u003e\\u003c\\u002fextra\\u003e\",\"legendgroup\":\"Other Computer Application\",\"marker\":{\"color\":\"#B6E880\",\"pattern\":{\"shape\":\"\"}},\"name\":\"Other Computer Application\",\"offsetgroup\":\"Other Computer Application\",\"orientation\":\"h\",\"showlegend\":true,\"text\":[\"2\"],\"textposition\":\"auto\",\"x\":[2],\"xaxis\":\"x\",\"y\":[\"Other Computer Application\"],\"yaxis\":\"y\",\"type\":\"bar\"},{\"alignmentgroup\":\"True\",\"hovertemplate\":\"Branch=%{y}\\u003cbr\\u003eCount=%{x}\\u003cbr\\u003etext=%{text}\\u003cextra\\u003e\\u003c\\u002fextra\\u003e\",\"legendgroup\":\"Other Production\",\"marker\":{\"color\":\"#FF97FF\",\"pattern\":{\"shape\":\"\"}},\"name\":\"Other Production\",\"offsetgroup\":\"Other Production\",\"orientation\":\"h\",\"showlegend\":true,\"text\":[\"2\"],\"textposition\":\"auto\",\"x\":[2],\"xaxis\":\"x\",\"y\":[\"Other Production\"],\"yaxis\":\"y\",\"type\":\"bar\"},{\"alignmentgroup\":\"True\",\"hovertemplate\":\"Branch=%{y}\\u003cbr\\u003eCount=%{x}\\u003cbr\\u003etext=%{text}\\u003cextra\\u003e\\u003c\\u002fextra\\u003e\",\"legendgroup\":\"Other Chemical Engineering\",\"marker\":{\"color\":\"#FECB52\",\"pattern\":{\"shape\":\"\"}},\"name\":\"Other Chemical Engineering\",\"offsetgroup\":\"Other Chemical Engineering\",\"orientation\":\"h\",\"showlegend\":true,\"text\":[\"2\"],\"textposition\":\"auto\",\"x\":[2],\"xaxis\":\"x\",\"y\":[\"Other Chemical Engineering\"],\"yaxis\":\"y\",\"type\":\"bar\"},{\"alignmentgroup\":\"True\",\"hovertemplate\":\"Branch=%{y}\\u003cbr\\u003eCount=%{x}\\u003cbr\\u003etext=%{text}\\u003cextra\\u003e\\u003c\\u002fextra\\u003e\",\"legendgroup\":\"Other Mechatronics Engineering\",\"marker\":{\"color\":\"#636EFA\",\"pattern\":{\"shape\":\"\"}},\"name\":\"Other Mechatronics Engineering\",\"offsetgroup\":\"Other Mechatronics Engineering\",\"orientation\":\"h\",\"showlegend\":true,\"text\":[\"2\"],\"textposition\":\"auto\",\"x\":[2],\"xaxis\":\"x\",\"y\":[\"Other Mechatronics Engineering\"],\"yaxis\":\"y\",\"type\":\"bar\"},{\"alignmentgroup\":\"True\",\"hovertemplate\":\"Branch=%{y}\\u003cbr\\u003eCount=%{x}\\u003cbr\\u003etext=%{text}\\u003cextra\\u003e\\u003c\\u002fextra\\u003e\",\"legendgroup\":\"Other Production Engineering\",\"marker\":{\"color\":\"#EF553B\",\"pattern\":{\"shape\":\"\"}},\"name\":\"Other Production Engineering\",\"offsetgroup\":\"Other Production Engineering\",\"orientation\":\"h\",\"showlegend\":true,\"text\":[\"2\"],\"textposition\":\"auto\",\"x\":[2],\"xaxis\":\"x\",\"y\":[\"Other Production Engineering\"],\"yaxis\":\"y\",\"type\":\"bar\"},{\"alignmentgroup\":\"True\",\"hovertemplate\":\"Branch=%{y}\\u003cbr\\u003eCount=%{x}\\u003cbr\\u003etext=%{text}\\u003cextra\\u003e\\u003c\\u002fextra\\u003e\",\"legendgroup\":\"Other Extc\",\"marker\":{\"color\":\"#00CC96\",\"pattern\":{\"shape\":\"\"}},\"name\":\"Other Extc\",\"offsetgroup\":\"Other Extc\",\"orientation\":\"h\",\"showlegend\":true,\"text\":[\"2\"],\"textposition\":\"auto\",\"x\":[2],\"xaxis\":\"x\",\"y\":[\"Other Extc\"],\"yaxis\":\"y\",\"type\":\"bar\"},{\"alignmentgroup\":\"True\",\"hovertemplate\":\"Branch=%{y}\\u003cbr\\u003eCount=%{x}\\u003cbr\\u003etext=%{text}\\u003cextra\\u003e\\u003c\\u002fextra\\u003e\",\"legendgroup\":\"Other Electronics & telecommunications\",\"marker\":{\"color\":\"#AB63FA\",\"pattern\":{\"shape\":\"\"}},\"name\":\"Other Electronics & telecommunications\",\"offsetgroup\":\"Other Electronics & telecommunications\",\"orientation\":\"h\",\"showlegend\":true,\"text\":[\"2\"],\"textposition\":\"auto\",\"x\":[2],\"xaxis\":\"x\",\"y\":[\"Other Electronics & telecommunications\"],\"yaxis\":\"y\",\"type\":\"bar\"},{\"alignmentgroup\":\"True\",\"hovertemplate\":\"Branch=%{y}\\u003cbr\\u003eCount=%{x}\\u003cbr\\u003etext=%{text}\\u003cextra\\u003e\\u003c\\u002fextra\\u003e\",\"legendgroup\":\"Other Mechatronics\",\"marker\":{\"color\":\"#FFA15A\",\"pattern\":{\"shape\":\"\"}},\"name\":\"Other Mechatronics\",\"offsetgroup\":\"Other Mechatronics\",\"orientation\":\"h\",\"showlegend\":true,\"text\":[\"2\"],\"textposition\":\"auto\",\"x\":[2],\"xaxis\":\"x\",\"y\":[\"Other Mechatronics\"],\"yaxis\":\"y\",\"type\":\"bar\"},{\"alignmentgroup\":\"True\",\"hovertemplate\":\"Branch=%{y}\\u003cbr\\u003eCount=%{x}\\u003cbr\\u003etext=%{text}\\u003cextra\\u003e\\u003c\\u002fextra\\u003e\",\"legendgroup\":\"Other Electronics and communication\",\"marker\":{\"color\":\"#19D3F3\",\"pattern\":{\"shape\":\"\"}},\"name\":\"Other Electronics and communication\",\"offsetgroup\":\"Other Electronics and communication\",\"orientation\":\"h\",\"showlegend\":true,\"text\":[\"2\"],\"textposition\":\"auto\",\"x\":[2],\"xaxis\":\"x\",\"y\":[\"Other Electronics and communication\"],\"yaxis\":\"y\",\"type\":\"bar\"},{\"alignmentgroup\":\"True\",\"hovertemplate\":\"Branch=%{y}\\u003cbr\\u003eCount=%{x}\\u003cbr\\u003etext=%{text}\\u003cextra\\u003e\\u003c\\u002fextra\\u003e\",\"legendgroup\":\"Other Electronic and telecommunication engineering\",\"marker\":{\"color\":\"#FF6692\",\"pattern\":{\"shape\":\"\"}},\"name\":\"Other Electronic and telecommunication engineering\",\"offsetgroup\":\"Other Electronic and telecommunication engineering\",\"orientation\":\"h\",\"showlegend\":true,\"text\":[\"2\"],\"textposition\":\"auto\",\"x\":[2],\"xaxis\":\"x\",\"y\":[\"Other Electronic and telecommunication engineering\"],\"yaxis\":\"y\",\"type\":\"bar\"},{\"alignmentgroup\":\"True\",\"hovertemplate\":\"Branch=%{y}\\u003cbr\\u003eCount=%{x}\\u003cbr\\u003etext=%{text}\\u003cextra\\u003e\\u003c\\u002fextra\\u003e\",\"legendgroup\":\"Other Civil engineering\",\"marker\":{\"color\":\"#B6E880\",\"pattern\":{\"shape\":\"\"}},\"name\":\"Other Civil engineering\",\"offsetgroup\":\"Other Civil engineering\",\"orientation\":\"h\",\"showlegend\":true,\"text\":[\"2\"],\"textposition\":\"auto\",\"x\":[2],\"xaxis\":\"x\",\"y\":[\"Other Civil engineering\"],\"yaxis\":\"y\",\"type\":\"bar\"},{\"alignmentgroup\":\"True\",\"hovertemplate\":\"Branch=%{y}\\u003cbr\\u003eCount=%{x}\\u003cbr\\u003etext=%{text}\\u003cextra\\u003e\\u003c\\u002fextra\\u003e\",\"legendgroup\":\"Other ELECTRONICS AND TELECOMMUNICATION\",\"marker\":{\"color\":\"#FF97FF\",\"pattern\":{\"shape\":\"\"}},\"name\":\"Other ELECTRONICS AND TELECOMMUNICATION\",\"offsetgroup\":\"Other ELECTRONICS AND TELECOMMUNICATION\",\"orientation\":\"h\",\"showlegend\":true,\"text\":[\"2\"],\"textposition\":\"auto\",\"x\":[2],\"xaxis\":\"x\",\"y\":[\"Other ELECTRONICS AND TELECOMMUNICATION\"],\"yaxis\":\"y\",\"type\":\"bar\"},{\"alignmentgroup\":\"True\",\"hovertemplate\":\"Branch=%{y}\\u003cbr\\u003eCount=%{x}\\u003cbr\\u003etext=%{text}\\u003cextra\\u003e\\u003c\\u002fextra\\u003e\",\"legendgroup\":\"Other Cloud Technology and Information Security\",\"marker\":{\"color\":\"#FECB52\",\"pattern\":{\"shape\":\"\"}},\"name\":\"Other Cloud Technology and Information Security\",\"offsetgroup\":\"Other Cloud Technology and Information Security\",\"orientation\":\"h\",\"showlegend\":true,\"text\":[\"2\"],\"textposition\":\"auto\",\"x\":[2],\"xaxis\":\"x\",\"y\":[\"Other Cloud Technology and Information Security\"],\"yaxis\":\"y\",\"type\":\"bar\"},{\"alignmentgroup\":\"True\",\"hovertemplate\":\"Branch=%{y}\\u003cbr\\u003eCount=%{x}\\u003cbr\\u003etext=%{text}\\u003cextra\\u003e\\u003c\\u002fextra\\u003e\",\"legendgroup\":\"Other ECE\",\"marker\":{\"color\":\"#636EFA\",\"pattern\":{\"shape\":\"\"}},\"name\":\"Other ECE\",\"offsetgroup\":\"Other ECE\",\"orientation\":\"h\",\"showlegend\":true,\"text\":[\"1\"],\"textposition\":\"auto\",\"x\":[1],\"xaxis\":\"x\",\"y\":[\"Other ECE\"],\"yaxis\":\"y\",\"type\":\"bar\"},{\"alignmentgroup\":\"True\",\"hovertemplate\":\"Branch=%{y}\\u003cbr\\u003eCount=%{x}\\u003cbr\\u003etext=%{text}\\u003cextra\\u003e\\u003c\\u002fextra\\u003e\",\"legendgroup\":\"Other Embedded and VLSI systems\",\"marker\":{\"color\":\"#EF553B\",\"pattern\":{\"shape\":\"\"}},\"name\":\"Other Embedded and VLSI systems\",\"offsetgroup\":\"Other Embedded and VLSI systems\",\"orientation\":\"h\",\"showlegend\":true,\"text\":[\"1\"],\"textposition\":\"auto\",\"x\":[1],\"xaxis\":\"x\",\"y\":[\"Other Embedded and VLSI systems\"],\"yaxis\":\"y\",\"type\":\"bar\"},{\"alignmentgroup\":\"True\",\"hovertemplate\":\"Branch=%{y}\\u003cbr\\u003eCount=%{x}\\u003cbr\\u003etext=%{text}\\u003cextra\\u003e\\u003c\\u002fextra\\u003e\",\"legendgroup\":\"Other Electronic And Telecommunication\",\"marker\":{\"color\":\"#00CC96\",\"pattern\":{\"shape\":\"\"}},\"name\":\"Other Electronic And Telecommunication\",\"offsetgroup\":\"Other Electronic And Telecommunication\",\"orientation\":\"h\",\"showlegend\":true,\"text\":[\"1\"],\"textposition\":\"auto\",\"x\":[1],\"xaxis\":\"x\",\"y\":[\"Other Electronic And Telecommunication\"],\"yaxis\":\"y\",\"type\":\"bar\"},{\"alignmentgroup\":\"True\",\"hovertemplate\":\"Branch=%{y}\\u003cbr\\u003eCount=%{x}\\u003cbr\\u003etext=%{text}\\u003cextra\\u003e\\u003c\\u002fextra\\u003e\",\"legendgroup\":\"Other Fibres and Textile processing technology\",\"marker\":{\"color\":\"#AB63FA\",\"pattern\":{\"shape\":\"\"}},\"name\":\"Other Fibres and Textile processing technology\",\"offsetgroup\":\"Other Fibres and Textile processing technology\",\"orientation\":\"h\",\"showlegend\":true,\"text\":[\"1\"],\"textposition\":\"auto\",\"x\":[1],\"xaxis\":\"x\",\"y\":[\"Other Fibres and Textile processing technology\"],\"yaxis\":\"y\",\"type\":\"bar\"},{\"alignmentgroup\":\"True\",\"hovertemplate\":\"Branch=%{y}\\u003cbr\\u003eCount=%{x}\\u003cbr\\u003etext=%{text}\\u003cextra\\u003e\\u003c\\u002fextra\\u003e\",\"legendgroup\":\"Information Technology (IT) Electronic\",\"marker\":{\"color\":\"#FFA15A\",\"pattern\":{\"shape\":\"\"}},\"name\":\"Information Technology (IT) Electronic\",\"offsetgroup\":\"Information Technology (IT) Electronic\",\"orientation\":\"h\",\"showlegend\":true,\"text\":[\"1\"],\"textposition\":\"auto\",\"x\":[1],\"xaxis\":\"x\",\"y\":[\"Information Technology (IT) Electronic\"],\"yaxis\":\"y\",\"type\":\"bar\"},{\"alignmentgroup\":\"True\",\"hovertemplate\":\"Branch=%{y}\\u003cbr\\u003eCount=%{x}\\u003cbr\\u003etext=%{text}\\u003cextra\\u003e\\u003c\\u002fextra\\u003e\",\"legendgroup\":\"Other Electronics and Communication Engineering\",\"marker\":{\"color\":\"#19D3F3\",\"pattern\":{\"shape\":\"\"}},\"name\":\"Other Electronics and Communication Engineering\",\"offsetgroup\":\"Other Electronics and Communication Engineering\",\"orientation\":\"h\",\"showlegend\":true,\"text\":[\"1\"],\"textposition\":\"auto\",\"x\":[1],\"xaxis\":\"x\",\"y\":[\"Other Electronics and Communication Engineering\"],\"yaxis\":\"y\",\"type\":\"bar\"},{\"alignmentgroup\":\"True\",\"hovertemplate\":\"Branch=%{y}\\u003cbr\\u003eCount=%{x}\\u003cbr\\u003etext=%{text}\\u003cextra\\u003e\\u003c\\u002fextra\\u003e\",\"legendgroup\":\"Other Cloud technology and information security\",\"marker\":{\"color\":\"#FF6692\",\"pattern\":{\"shape\":\"\"}},\"name\":\"Other Cloud technology and information security\",\"offsetgroup\":\"Other Cloud technology and information security\",\"orientation\":\"h\",\"showlegend\":true,\"text\":[\"1\"],\"textposition\":\"auto\",\"x\":[1],\"xaxis\":\"x\",\"y\":[\"Other Cloud technology and information security\"],\"yaxis\":\"y\",\"type\":\"bar\"},{\"alignmentgroup\":\"True\",\"hovertemplate\":\"Branch=%{y}\\u003cbr\\u003eCount=%{x}\\u003cbr\\u003etext=%{text}\\u003cextra\\u003e\\u003c\\u002fextra\\u003e\",\"legendgroup\":\"Information Technology (IT) Electronics And Telecommunication Engineering\",\"marker\":{\"color\":\"#B6E880\",\"pattern\":{\"shape\":\"\"}},\"name\":\"Information Technology (IT) Electronics And Telecommunication Engineering\",\"offsetgroup\":\"Information Technology (IT) Electronics And Telecommunication Engineering\",\"orientation\":\"h\",\"showlegend\":true,\"text\":[\"1\"],\"textposition\":\"auto\",\"x\":[1],\"xaxis\":\"x\",\"y\":[\"Information Technology (IT) Electronics And Telecommunication Engineering\"],\"yaxis\":\"y\",\"type\":\"bar\"},{\"alignmentgroup\":\"True\",\"hovertemplate\":\"Branch=%{y}\\u003cbr\\u003eCount=%{x}\\u003cbr\\u003etext=%{text}\\u003cextra\\u003e\\u003c\\u002fextra\\u003e\",\"legendgroup\":\"Other CHEMICAL TECHNOLOGY\",\"marker\":{\"color\":\"#FF97FF\",\"pattern\":{\"shape\":\"\"}},\"name\":\"Other CHEMICAL TECHNOLOGY\",\"offsetgroup\":\"Other CHEMICAL TECHNOLOGY\",\"orientation\":\"h\",\"showlegend\":true,\"text\":[\"1\"],\"textposition\":\"auto\",\"x\":[1],\"xaxis\":\"x\",\"y\":[\"Other CHEMICAL TECHNOLOGY\"],\"yaxis\":\"y\",\"type\":\"bar\"},{\"alignmentgroup\":\"True\",\"hovertemplate\":\"Branch=%{y}\\u003cbr\\u003eCount=%{x}\\u003cbr\\u003etext=%{text}\\u003cextra\\u003e\\u003c\\u002fextra\\u003e\",\"legendgroup\":\"Other Electronic and communication engineering\",\"marker\":{\"color\":\"#FECB52\",\"pattern\":{\"shape\":\"\"}},\"name\":\"Other Electronic and communication engineering\",\"offsetgroup\":\"Other Electronic and communication engineering\",\"orientation\":\"h\",\"showlegend\":true,\"text\":[\"1\"],\"textposition\":\"auto\",\"x\":[1],\"xaxis\":\"x\",\"y\":[\"Other Electronic and communication engineering\"],\"yaxis\":\"y\",\"type\":\"bar\"},{\"alignmentgroup\":\"True\",\"hovertemplate\":\"Branch=%{y}\\u003cbr\\u003eCount=%{x}\\u003cbr\\u003etext=%{text}\\u003cextra\\u003e\\u003c\\u002fextra\\u003e\",\"legendgroup\":\"Other Electronics And Telecommunications\",\"marker\":{\"color\":\"#636EFA\",\"pattern\":{\"shape\":\"\"}},\"name\":\"Other Electronics And Telecommunications\",\"offsetgroup\":\"Other Electronics And Telecommunications\",\"orientation\":\"h\",\"showlegend\":true,\"text\":[\"1\"],\"textposition\":\"auto\",\"x\":[1],\"xaxis\":\"x\",\"y\":[\"Other Electronics And Telecommunications\"],\"yaxis\":\"y\",\"type\":\"bar\"},{\"alignmentgroup\":\"True\",\"hovertemplate\":\"Branch=%{y}\\u003cbr\\u003eCount=%{x}\\u003cbr\\u003etext=%{text}\\u003cextra\\u003e\\u003c\\u002fextra\\u003e\",\"legendgroup\":\"Other Electronic & Telecommunication\",\"marker\":{\"color\":\"#EF553B\",\"pattern\":{\"shape\":\"\"}},\"name\":\"Other Electronic & Telecommunication\",\"offsetgroup\":\"Other Electronic & Telecommunication\",\"orientation\":\"h\",\"showlegend\":true,\"text\":[\"1\"],\"textposition\":\"auto\",\"x\":[1],\"xaxis\":\"x\",\"y\":[\"Other Electronic & Telecommunication\"],\"yaxis\":\"y\",\"type\":\"bar\"},{\"alignmentgroup\":\"True\",\"hovertemplate\":\"Branch=%{y}\\u003cbr\\u003eCount=%{x}\\u003cbr\\u003etext=%{text}\\u003cextra\\u003e\\u003c\\u002fextra\\u003e\",\"legendgroup\":\"Other Computer application\",\"marker\":{\"color\":\"#00CC96\",\"pattern\":{\"shape\":\"\"}},\"name\":\"Other Computer application\",\"offsetgroup\":\"Other Computer application\",\"orientation\":\"h\",\"showlegend\":true,\"text\":[\"1\"],\"textposition\":\"auto\",\"x\":[1],\"xaxis\":\"x\",\"y\":[\"Other Computer application\"],\"yaxis\":\"y\",\"type\":\"bar\"},{\"alignmentgroup\":\"True\",\"hovertemplate\":\"Branch=%{y}\\u003cbr\\u003eCount=%{x}\\u003cbr\\u003etext=%{text}\\u003cextra\\u003e\\u003c\\u002fextra\\u003e\",\"legendgroup\":\"Other PRODUCTION SANDWICH\",\"marker\":{\"color\":\"#AB63FA\",\"pattern\":{\"shape\":\"\"}},\"name\":\"Other PRODUCTION SANDWICH\",\"offsetgroup\":\"Other PRODUCTION SANDWICH\",\"orientation\":\"h\",\"showlegend\":true,\"text\":[\"1\"],\"textposition\":\"auto\",\"x\":[1],\"xaxis\":\"x\",\"y\":[\"Other PRODUCTION SANDWICH\"],\"yaxis\":\"y\",\"type\":\"bar\"},{\"alignmentgroup\":\"True\",\"hovertemplate\":\"Branch=%{y}\\u003cbr\\u003eCount=%{x}\\u003cbr\\u003etext=%{text}\\u003cextra\\u003e\\u003c\\u002fextra\\u003e\",\"legendgroup\":\"Other Electronic and Telecommunication Engg.\",\"marker\":{\"color\":\"#FFA15A\",\"pattern\":{\"shape\":\"\"}},\"name\":\"Other Electronic and Telecommunication Engg.\",\"offsetgroup\":\"Other Electronic and Telecommunication Engg.\",\"orientation\":\"h\",\"showlegend\":true,\"text\":[\"1\"],\"textposition\":\"auto\",\"x\":[1],\"xaxis\":\"x\",\"y\":[\"Other Electronic and Telecommunication Engg.\"],\"yaxis\":\"y\",\"type\":\"bar\"},{\"alignmentgroup\":\"True\",\"hovertemplate\":\"Branch=%{y}\\u003cbr\\u003eCount=%{x}\\u003cbr\\u003etext=%{text}\\u003cextra\\u003e\\u003c\\u002fextra\\u003e\",\"legendgroup\":\"Other DATA SCIENCE\",\"marker\":{\"color\":\"#19D3F3\",\"pattern\":{\"shape\":\"\"}},\"name\":\"Other DATA SCIENCE\",\"offsetgroup\":\"Other DATA SCIENCE\",\"orientation\":\"h\",\"showlegend\":true,\"text\":[\"1\"],\"textposition\":\"auto\",\"x\":[1],\"xaxis\":\"x\",\"y\":[\"Other DATA SCIENCE\"],\"yaxis\":\"y\",\"type\":\"bar\"},{\"alignmentgroup\":\"True\",\"hovertemplate\":\"Branch=%{y}\\u003cbr\\u003eCount=%{x}\\u003cbr\\u003etext=%{text}\\u003cextra\\u003e\\u003c\\u002fextra\\u003e\",\"legendgroup\":\"Other Economics\",\"marker\":{\"color\":\"#FF6692\",\"pattern\":{\"shape\":\"\"}},\"name\":\"Other Economics\",\"offsetgroup\":\"Other Economics\",\"orientation\":\"h\",\"showlegend\":true,\"text\":[\"1\"],\"textposition\":\"auto\",\"x\":[1],\"xaxis\":\"x\",\"y\":[\"Other Economics\"],\"yaxis\":\"y\",\"type\":\"bar\"},{\"alignmentgroup\":\"True\",\"hovertemplate\":\"Branch=%{y}\\u003cbr\\u003eCount=%{x}\\u003cbr\\u003etext=%{text}\\u003cextra\\u003e\\u003c\\u002fextra\\u003e\",\"legendgroup\":\"Other elecrical engineering\",\"marker\":{\"color\":\"#B6E880\",\"pattern\":{\"shape\":\"\"}},\"name\":\"Other elecrical engineering\",\"offsetgroup\":\"Other elecrical engineering\",\"orientation\":\"h\",\"showlegend\":true,\"text\":[\"1\"],\"textposition\":\"auto\",\"x\":[1],\"xaxis\":\"x\",\"y\":[\"Other elecrical engineering\"],\"yaxis\":\"y\",\"type\":\"bar\"},{\"alignmentgroup\":\"True\",\"hovertemplate\":\"Branch=%{y}\\u003cbr\\u003eCount=%{x}\\u003cbr\\u003etext=%{text}\\u003cextra\\u003e\\u003c\\u002fextra\\u003e\",\"legendgroup\":\"Other Design\",\"marker\":{\"color\":\"#FF97FF\",\"pattern\":{\"shape\":\"\"}},\"name\":\"Other Design\",\"offsetgroup\":\"Other Design\",\"orientation\":\"h\",\"showlegend\":true,\"text\":[\"1\"],\"textposition\":\"auto\",\"x\":[1],\"xaxis\":\"x\",\"y\":[\"Other Design\"],\"yaxis\":\"y\",\"type\":\"bar\"},{\"alignmentgroup\":\"True\",\"hovertemplate\":\"Branch=%{y}\\u003cbr\\u003eCount=%{x}\\u003cbr\\u003etext=%{text}\\u003cextra\\u003e\\u003c\\u002fextra\\u003e\",\"legendgroup\":\"Other MINING\",\"marker\":{\"color\":\"#FECB52\",\"pattern\":{\"shape\":\"\"}},\"name\":\"Other MINING\",\"offsetgroup\":\"Other MINING\",\"orientation\":\"h\",\"showlegend\":true,\"text\":[\"1\"],\"textposition\":\"auto\",\"x\":[1],\"xaxis\":\"x\",\"y\":[\"Other MINING\"],\"yaxis\":\"y\",\"type\":\"bar\"},{\"alignmentgroup\":\"True\",\"hovertemplate\":\"Branch=%{y}\\u003cbr\\u003eCount=%{x}\\u003cbr\\u003etext=%{text}\\u003cextra\\u003e\\u003c\\u002fextra\\u003e\",\"legendgroup\":\"Other EEE\",\"marker\":{\"color\":\"#636EFA\",\"pattern\":{\"shape\":\"\"}},\"name\":\"Other EEE\",\"offsetgroup\":\"Other EEE\",\"orientation\":\"h\",\"showlegend\":true,\"text\":[\"1\"],\"textposition\":\"auto\",\"x\":[1],\"xaxis\":\"x\",\"y\":[\"Other EEE\"],\"yaxis\":\"y\",\"type\":\"bar\"},{\"alignmentgroup\":\"True\",\"hovertemplate\":\"Branch=%{y}\\u003cbr\\u003eCount=%{x}\\u003cbr\\u003etext=%{text}\\u003cextra\\u003e\\u003c\\u002fextra\\u003e\",\"legendgroup\":\"Other Bioinformatics\",\"marker\":{\"color\":\"#EF553B\",\"pattern\":{\"shape\":\"\"}},\"name\":\"Other Bioinformatics\",\"offsetgroup\":\"Other Bioinformatics\",\"orientation\":\"h\",\"showlegend\":true,\"text\":[\"1\"],\"textposition\":\"auto\",\"x\":[1],\"xaxis\":\"x\",\"y\":[\"Other Bioinformatics\"],\"yaxis\":\"y\",\"type\":\"bar\"},{\"alignmentgroup\":\"True\",\"hovertemplate\":\"Branch=%{y}\\u003cbr\\u003eCount=%{x}\\u003cbr\\u003etext=%{text}\\u003cextra\\u003e\\u003c\\u002fextra\\u003e\",\"legendgroup\":\"Other Entrepreneurship Skills\",\"marker\":{\"color\":\"#00CC96\",\"pattern\":{\"shape\":\"\"}},\"name\":\"Other Entrepreneurship Skills\",\"offsetgroup\":\"Other Entrepreneurship Skills\",\"orientation\":\"h\",\"showlegend\":true,\"text\":[\"1\"],\"textposition\":\"auto\",\"x\":[1],\"xaxis\":\"x\",\"y\":[\"Other Entrepreneurship Skills\"],\"yaxis\":\"y\",\"type\":\"bar\"},{\"alignmentgroup\":\"True\",\"hovertemplate\":\"Branch=%{y}\\u003cbr\\u003eCount=%{x}\\u003cbr\\u003etext=%{text}\\u003cextra\\u003e\\u003c\\u002fextra\\u003e\",\"legendgroup\":\"Other Metallurgical Engineering and Material Science\",\"marker\":{\"color\":\"#AB63FA\",\"pattern\":{\"shape\":\"\"}},\"name\":\"Other Metallurgical Engineering and Material Science\",\"offsetgroup\":\"Other Metallurgical Engineering and Material Science\",\"orientation\":\"h\",\"showlegend\":true,\"text\":[\"1\"],\"textposition\":\"auto\",\"x\":[1],\"xaxis\":\"x\",\"y\":[\"Other Metallurgical Engineering and Material Science\"],\"yaxis\":\"y\",\"type\":\"bar\"},{\"alignmentgroup\":\"True\",\"hovertemplate\":\"Branch=%{y}\\u003cbr\\u003eCount=%{x}\\u003cbr\\u003etext=%{text}\\u003cextra\\u003e\\u003c\\u002fextra\\u003e\",\"legendgroup\":\"Computer Science Cloud technology and information security\",\"marker\":{\"color\":\"#FFA15A\",\"pattern\":{\"shape\":\"\"}},\"name\":\"Computer Science Cloud technology and information security\",\"offsetgroup\":\"Computer Science Cloud technology and information security\",\"orientation\":\"h\",\"showlegend\":true,\"text\":[\"1\"],\"textposition\":\"auto\",\"x\":[1],\"xaxis\":\"x\",\"y\":[\"Computer Science Cloud technology and information security\"],\"yaxis\":\"y\",\"type\":\"bar\"},{\"alignmentgroup\":\"True\",\"hovertemplate\":\"Branch=%{y}\\u003cbr\\u003eCount=%{x}\\u003cbr\\u003etext=%{text}\\u003cextra\\u003e\\u003c\\u002fextra\\u003e\",\"legendgroup\":\"Other Aero\",\"marker\":{\"color\":\"#19D3F3\",\"pattern\":{\"shape\":\"\"}},\"name\":\"Other Aero\",\"offsetgroup\":\"Other Aero\",\"orientation\":\"h\",\"showlegend\":true,\"text\":[\"1\"],\"textposition\":\"auto\",\"x\":[1],\"xaxis\":\"x\",\"y\":[\"Other Aero\"],\"yaxis\":\"y\",\"type\":\"bar\"},{\"alignmentgroup\":\"True\",\"hovertemplate\":\"Branch=%{y}\\u003cbr\\u003eCount=%{x}\\u003cbr\\u003etext=%{text}\\u003cextra\\u003e\\u003c\\u002fextra\\u003e\",\"legendgroup\":\"Other CSIT\",\"marker\":{\"color\":\"#FF6692\",\"pattern\":{\"shape\":\"\"}},\"name\":\"Other CSIT\",\"offsetgroup\":\"Other CSIT\",\"orientation\":\"h\",\"showlegend\":true,\"text\":[\"1\"],\"textposition\":\"auto\",\"x\":[1],\"xaxis\":\"x\",\"y\":[\"Other CSIT\"],\"yaxis\":\"y\",\"type\":\"bar\"},{\"alignmentgroup\":\"True\",\"hovertemplate\":\"Branch=%{y}\\u003cbr\\u003eCount=%{x}\\u003cbr\\u003etext=%{text}\\u003cextra\\u003e\\u003c\\u002fextra\\u003e\",\"legendgroup\":\"Other mechanical\",\"marker\":{\"color\":\"#B6E880\",\"pattern\":{\"shape\":\"\"}},\"name\":\"Other mechanical\",\"offsetgroup\":\"Other mechanical\",\"orientation\":\"h\",\"showlegend\":true,\"text\":[\"1\"],\"textposition\":\"auto\",\"x\":[1],\"xaxis\":\"x\",\"y\":[\"Other mechanical\"],\"yaxis\":\"y\",\"type\":\"bar\"},{\"alignmentgroup\":\"True\",\"hovertemplate\":\"Branch=%{y}\\u003cbr\\u003eCount=%{x}\\u003cbr\\u003etext=%{text}\\u003cextra\\u003e\\u003c\\u002fextra\\u003e\",\"legendgroup\":\"Other Electronic communications\",\"marker\":{\"color\":\"#FF97FF\",\"pattern\":{\"shape\":\"\"}},\"name\":\"Other Electronic communications\",\"offsetgroup\":\"Other Electronic communications\",\"orientation\":\"h\",\"showlegend\":true,\"text\":[\"1\"],\"textposition\":\"auto\",\"x\":[1],\"xaxis\":\"x\",\"y\":[\"Other Electronic communications\"],\"yaxis\":\"y\",\"type\":\"bar\"},{\"alignmentgroup\":\"True\",\"hovertemplate\":\"Branch=%{y}\\u003cbr\\u003eCount=%{x}\\u003cbr\\u003etext=%{text}\\u003cextra\\u003e\\u003c\\u002fextra\\u003e\",\"legendgroup\":\"Other Entc(artificial intelligence)\",\"marker\":{\"color\":\"#FECB52\",\"pattern\":{\"shape\":\"\"}},\"name\":\"Other Entc(artificial intelligence)\",\"offsetgroup\":\"Other Entc(artificial intelligence)\",\"orientation\":\"h\",\"showlegend\":true,\"text\":[\"1\"],\"textposition\":\"auto\",\"x\":[1],\"xaxis\":\"x\",\"y\":[\"Other Entc(artificial intelligence)\"],\"yaxis\":\"y\",\"type\":\"bar\"},{\"alignmentgroup\":\"True\",\"hovertemplate\":\"Branch=%{y}\\u003cbr\\u003eCount=%{x}\\u003cbr\\u003etext=%{text}\\u003cextra\\u003e\\u003c\\u002fextra\\u003e\",\"legendgroup\":\"Other Ece\",\"marker\":{\"color\":\"#636EFA\",\"pattern\":{\"shape\":\"\"}},\"name\":\"Other Ece\",\"offsetgroup\":\"Other Ece\",\"orientation\":\"h\",\"showlegend\":true,\"text\":[\"1\"],\"textposition\":\"auto\",\"x\":[1],\"xaxis\":\"x\",\"y\":[\"Other Ece\"],\"yaxis\":\"y\",\"type\":\"bar\"},{\"alignmentgroup\":\"True\",\"hovertemplate\":\"Branch=%{y}\\u003cbr\\u003eCount=%{x}\\u003cbr\\u003etext=%{text}\\u003cextra\\u003e\\u003c\\u002fextra\\u003e\",\"legendgroup\":\"Other Computer applications\",\"marker\":{\"color\":\"#EF553B\",\"pattern\":{\"shape\":\"\"}},\"name\":\"Other Computer applications\",\"offsetgroup\":\"Other Computer applications\",\"orientation\":\"h\",\"showlegend\":true,\"text\":[\"1\"],\"textposition\":\"auto\",\"x\":[1],\"xaxis\":\"x\",\"y\":[\"Other Computer applications\"],\"yaxis\":\"y\",\"type\":\"bar\"},{\"alignmentgroup\":\"True\",\"hovertemplate\":\"Branch=%{y}\\u003cbr\\u003eCount=%{x}\\u003cbr\\u003etext=%{text}\\u003cextra\\u003e\\u003c\\u002fextra\\u003e\",\"legendgroup\":\"Other Electronics and telecommunication Engineering\",\"marker\":{\"color\":\"#00CC96\",\"pattern\":{\"shape\":\"\"}},\"name\":\"Other Electronics and telecommunication Engineering\",\"offsetgroup\":\"Other Electronics and telecommunication Engineering\",\"orientation\":\"h\",\"showlegend\":true,\"text\":[\"1\"],\"textposition\":\"auto\",\"x\":[1],\"xaxis\":\"x\",\"y\":[\"Other Electronics and telecommunication Engineering\"],\"yaxis\":\"y\",\"type\":\"bar\"},{\"alignmentgroup\":\"True\",\"hovertemplate\":\"Branch=%{y}\\u003cbr\\u003eCount=%{x}\\u003cbr\\u003etext=%{text}\\u003cextra\\u003e\\u003c\\u002fextra\\u003e\",\"legendgroup\":\"Other Modelling and simulation\",\"marker\":{\"color\":\"#AB63FA\",\"pattern\":{\"shape\":\"\"}},\"name\":\"Other Modelling and simulation\",\"offsetgroup\":\"Other Modelling and simulation\",\"orientation\":\"h\",\"showlegend\":true,\"text\":[\"1\"],\"textposition\":\"auto\",\"x\":[1],\"xaxis\":\"x\",\"y\":[\"Other Modelling and simulation\"],\"yaxis\":\"y\",\"type\":\"bar\"},{\"alignmentgroup\":\"True\",\"hovertemplate\":\"Branch=%{y}\\u003cbr\\u003eCount=%{x}\\u003cbr\\u003etext=%{text}\\u003cextra\\u003e\\u003c\\u002fextra\\u003e\",\"legendgroup\":\"Other Machine Learning\",\"marker\":{\"color\":\"#FFA15A\",\"pattern\":{\"shape\":\"\"}},\"name\":\"Other Machine Learning\",\"offsetgroup\":\"Other Machine Learning\",\"orientation\":\"h\",\"showlegend\":true,\"text\":[\"1\"],\"textposition\":\"auto\",\"x\":[1],\"xaxis\":\"x\",\"y\":[\"Other Machine Learning\"],\"yaxis\":\"y\",\"type\":\"bar\"},{\"alignmentgroup\":\"True\",\"hovertemplate\":\"Branch=%{y}\\u003cbr\\u003eCount=%{x}\\u003cbr\\u003etext=%{text}\\u003cextra\\u003e\\u003c\\u002fextra\\u003e\",\"legendgroup\":\"Other Petroleum\",\"marker\":{\"color\":\"#19D3F3\",\"pattern\":{\"shape\":\"\"}},\"name\":\"Other Petroleum\",\"offsetgroup\":\"Other Petroleum\",\"orientation\":\"h\",\"showlegend\":true,\"text\":[\"1\"],\"textposition\":\"auto\",\"x\":[1],\"xaxis\":\"x\",\"y\":[\"Other Petroleum\"],\"yaxis\":\"y\",\"type\":\"bar\"},{\"alignmentgroup\":\"True\",\"hovertemplate\":\"Branch=%{y}\\u003cbr\\u003eCount=%{x}\\u003cbr\\u003etext=%{text}\\u003cextra\\u003e\\u003c\\u002fextra\\u003e\",\"legendgroup\":\"Other Data Science\",\"marker\":{\"color\":\"#FF6692\",\"pattern\":{\"shape\":\"\"}},\"name\":\"Other Data Science\",\"offsetgroup\":\"Other Data Science\",\"orientation\":\"h\",\"showlegend\":true,\"text\":[\"1\"],\"textposition\":\"auto\",\"x\":[1],\"xaxis\":\"x\",\"y\":[\"Other Data Science\"],\"yaxis\":\"y\",\"type\":\"bar\"},{\"alignmentgroup\":\"True\",\"hovertemplate\":\"Branch=%{y}\\u003cbr\\u003eCount=%{x}\\u003cbr\\u003etext=%{text}\\u003cextra\\u003e\\u003c\\u002fextra\\u003e\",\"legendgroup\":\"Other Material science and engineering\",\"marker\":{\"color\":\"#B6E880\",\"pattern\":{\"shape\":\"\"}},\"name\":\"Other Material science and engineering\",\"offsetgroup\":\"Other Material science and engineering\",\"orientation\":\"h\",\"showlegend\":true,\"text\":[\"1\"],\"textposition\":\"auto\",\"x\":[1],\"xaxis\":\"x\",\"y\":[\"Other Material science and engineering\"],\"yaxis\":\"y\",\"type\":\"bar\"},{\"alignmentgroup\":\"True\",\"hovertemplate\":\"Branch=%{y}\\u003cbr\\u003eCount=%{x}\\u003cbr\\u003etext=%{text}\\u003cextra\\u003e\\u003c\\u002fextra\\u003e\",\"legendgroup\":\"Other Computer science specialization in Devops\",\"marker\":{\"color\":\"#FF97FF\",\"pattern\":{\"shape\":\"\"}},\"name\":\"Other Computer science specialization in Devops\",\"offsetgroup\":\"Other Computer science specialization in Devops\",\"orientation\":\"h\",\"showlegend\":true,\"text\":[\"1\"],\"textposition\":\"auto\",\"x\":[1],\"xaxis\":\"x\",\"y\":[\"Other Computer science specialization in Devops\"],\"yaxis\":\"y\",\"type\":\"bar\"},{\"alignmentgroup\":\"True\",\"hovertemplate\":\"Branch=%{y}\\u003cbr\\u003eCount=%{x}\\u003cbr\\u003etext=%{text}\\u003cextra\\u003e\\u003c\\u002fextra\\u003e\",\"legendgroup\":\"Other FOOD TECHNOLOGY\",\"marker\":{\"color\":\"#FECB52\",\"pattern\":{\"shape\":\"\"}},\"name\":\"Other FOOD TECHNOLOGY\",\"offsetgroup\":\"Other FOOD TECHNOLOGY\",\"orientation\":\"h\",\"showlegend\":true,\"text\":[\"1\"],\"textposition\":\"auto\",\"x\":[1],\"xaxis\":\"x\",\"y\":[\"Other FOOD TECHNOLOGY\"],\"yaxis\":\"y\",\"type\":\"bar\"},{\"alignmentgroup\":\"True\",\"hovertemplate\":\"Branch=%{y}\\u003cbr\\u003eCount=%{x}\\u003cbr\\u003etext=%{text}\\u003cextra\\u003e\\u003c\\u002fextra\\u003e\",\"legendgroup\":\"Other Electronicsand telecommunication\",\"marker\":{\"color\":\"#636EFA\",\"pattern\":{\"shape\":\"\"}},\"name\":\"Other Electronicsand telecommunication\",\"offsetgroup\":\"Other Electronicsand telecommunication\",\"orientation\":\"h\",\"showlegend\":true,\"text\":[\"1\"],\"textposition\":\"auto\",\"x\":[1],\"xaxis\":\"x\",\"y\":[\"Other Electronicsand telecommunication\"],\"yaxis\":\"y\",\"type\":\"bar\"},{\"alignmentgroup\":\"True\",\"hovertemplate\":\"Branch=%{y}\\u003cbr\\u003eCount=%{x}\\u003cbr\\u003etext=%{text}\\u003cextra\\u003e\\u003c\\u002fextra\\u003e\",\"legendgroup\":\"Other aerospace engineering\",\"marker\":{\"color\":\"#EF553B\",\"pattern\":{\"shape\":\"\"}},\"name\":\"Other aerospace engineering\",\"offsetgroup\":\"Other aerospace engineering\",\"orientation\":\"h\",\"showlegend\":true,\"text\":[\"1\"],\"textposition\":\"auto\",\"x\":[1],\"xaxis\":\"x\",\"y\":[\"Other aerospace engineering\"],\"yaxis\":\"y\",\"type\":\"bar\"},{\"alignmentgroup\":\"True\",\"hovertemplate\":\"Branch=%{y}\\u003cbr\\u003eCount=%{x}\\u003cbr\\u003etext=%{text}\\u003cextra\\u003e\\u003c\\u002fextra\\u003e\",\"legendgroup\":\"Other E&Tc\",\"marker\":{\"color\":\"#00CC96\",\"pattern\":{\"shape\":\"\"}},\"name\":\"Other E&Tc\",\"offsetgroup\":\"Other E&Tc\",\"orientation\":\"h\",\"showlegend\":true,\"text\":[\"1\"],\"textposition\":\"auto\",\"x\":[1],\"xaxis\":\"x\",\"y\":[\"Other E&Tc\"],\"yaxis\":\"y\",\"type\":\"bar\"},{\"alignmentgroup\":\"True\",\"hovertemplate\":\"Branch=%{y}\\u003cbr\\u003eCount=%{x}\\u003cbr\\u003etext=%{text}\\u003cextra\\u003e\\u003c\\u002fextra\\u003e\",\"legendgroup\":\"Other Electronics and telecommunications engineering\",\"marker\":{\"color\":\"#AB63FA\",\"pattern\":{\"shape\":\"\"}},\"name\":\"Other Electronics and telecommunications engineering\",\"offsetgroup\":\"Other Electronics and telecommunications engineering\",\"orientation\":\"h\",\"showlegend\":true,\"text\":[\"1\"],\"textposition\":\"auto\",\"x\":[1],\"xaxis\":\"x\",\"y\":[\"Other Electronics and telecommunications engineering\"],\"yaxis\":\"y\",\"type\":\"bar\"},{\"alignmentgroup\":\"True\",\"hovertemplate\":\"Branch=%{y}\\u003cbr\\u003eCount=%{x}\\u003cbr\\u003etext=%{text}\\u003cextra\\u003e\\u003c\\u002fextra\\u003e\",\"legendgroup\":\"Other Electroncis and Telecommunication\",\"marker\":{\"color\":\"#FFA15A\",\"pattern\":{\"shape\":\"\"}},\"name\":\"Other Electroncis and Telecommunication\",\"offsetgroup\":\"Other Electroncis and Telecommunication\",\"orientation\":\"h\",\"showlegend\":true,\"text\":[\"1\"],\"textposition\":\"auto\",\"x\":[1],\"xaxis\":\"x\",\"y\":[\"Other Electroncis and Telecommunication\"],\"yaxis\":\"y\",\"type\":\"bar\"},{\"alignmentgroup\":\"True\",\"hovertemplate\":\"Branch=%{y}\\u003cbr\\u003eCount=%{x}\\u003cbr\\u003etext=%{text}\\u003cextra\\u003e\\u003c\\u002fextra\\u003e\",\"legendgroup\":\"Other Management\",\"marker\":{\"color\":\"#19D3F3\",\"pattern\":{\"shape\":\"\"}},\"name\":\"Other Management\",\"offsetgroup\":\"Other Management\",\"orientation\":\"h\",\"showlegend\":true,\"text\":[\"1\"],\"textposition\":\"auto\",\"x\":[1],\"xaxis\":\"x\",\"y\":[\"Other Management\"],\"yaxis\":\"y\",\"type\":\"bar\"},{\"alignmentgroup\":\"True\",\"hovertemplate\":\"Branch=%{y}\\u003cbr\\u003eCount=%{x}\\u003cbr\\u003etext=%{text}\\u003cextra\\u003e\\u003c\\u002fextra\\u003e\",\"legendgroup\":\"Other Electronic and telecommunications\",\"marker\":{\"color\":\"#FF6692\",\"pattern\":{\"shape\":\"\"}},\"name\":\"Other Electronic and telecommunications\",\"offsetgroup\":\"Other Electronic and telecommunications\",\"orientation\":\"h\",\"showlegend\":true,\"text\":[\"1\"],\"textposition\":\"auto\",\"x\":[1],\"xaxis\":\"x\",\"y\":[\"Other Electronic and telecommunications\"],\"yaxis\":\"y\",\"type\":\"bar\"},{\"alignmentgroup\":\"True\",\"hovertemplate\":\"Branch=%{y}\\u003cbr\\u003eCount=%{x}\\u003cbr\\u003etext=%{text}\\u003cextra\\u003e\\u003c\\u002fextra\\u003e\",\"legendgroup\":\"Other ELECTRONICS & TELECOMMUNICATION OF ENGINEERING\",\"marker\":{\"color\":\"#B6E880\",\"pattern\":{\"shape\":\"\"}},\"name\":\"Other ELECTRONICS & TELECOMMUNICATION OF ENGINEERING\",\"offsetgroup\":\"Other ELECTRONICS & TELECOMMUNICATION OF ENGINEERING\",\"orientation\":\"h\",\"showlegend\":true,\"text\":[\"1\"],\"textposition\":\"auto\",\"x\":[1],\"xaxis\":\"x\",\"y\":[\"Other ELECTRONICS & TELECOMMUNICATION OF ENGINEERING\"],\"yaxis\":\"y\",\"type\":\"bar\"},{\"alignmentgroup\":\"True\",\"hovertemplate\":\"Branch=%{y}\\u003cbr\\u003eCount=%{x}\\u003cbr\\u003etext=%{text}\\u003cextra\\u003e\\u003c\\u002fextra\\u003e\",\"legendgroup\":\"Information Technology (IT) Com\",\"marker\":{\"color\":\"#FF97FF\",\"pattern\":{\"shape\":\"\"}},\"name\":\"Information Technology (IT) Com\",\"offsetgroup\":\"Information Technology (IT) Com\",\"orientation\":\"h\",\"showlegend\":true,\"text\":[\"1\"],\"textposition\":\"auto\",\"x\":[1],\"xaxis\":\"x\",\"y\":[\"Information Technology (IT) Com\"],\"yaxis\":\"y\",\"type\":\"bar\"},{\"alignmentgroup\":\"True\",\"hovertemplate\":\"Branch=%{y}\\u003cbr\\u003eCount=%{x}\\u003cbr\\u003etext=%{text}\\u003cextra\\u003e\\u003c\\u002fextra\\u003e\",\"legendgroup\":\"Other Civil\",\"marker\":{\"color\":\"#FECB52\",\"pattern\":{\"shape\":\"\"}},\"name\":\"Other Civil\",\"offsetgroup\":\"Other Civil\",\"orientation\":\"h\",\"showlegend\":true,\"text\":[\"1\"],\"textposition\":\"auto\",\"x\":[1],\"xaxis\":\"x\",\"y\":[\"Other Civil\"],\"yaxis\":\"y\",\"type\":\"bar\"},{\"alignmentgroup\":\"True\",\"hovertemplate\":\"Branch=%{y}\\u003cbr\\u003eCount=%{x}\\u003cbr\\u003etext=%{text}\\u003cextra\\u003e\\u003c\\u002fextra\\u003e\",\"legendgroup\":\"Other CIVIL ENGINEERING\",\"marker\":{\"color\":\"#636EFA\",\"pattern\":{\"shape\":\"\"}},\"name\":\"Other CIVIL ENGINEERING\",\"offsetgroup\":\"Other CIVIL ENGINEERING\",\"orientation\":\"h\",\"showlegend\":true,\"text\":[\"1\"],\"textposition\":\"auto\",\"x\":[1],\"xaxis\":\"x\",\"y\":[\"Other CIVIL ENGINEERING\"],\"yaxis\":\"y\",\"type\":\"bar\"},{\"alignmentgroup\":\"True\",\"hovertemplate\":\"Branch=%{y}\\u003cbr\\u003eCount=%{x}\\u003cbr\\u003etext=%{text}\\u003cextra\\u003e\\u003c\\u002fextra\\u003e\",\"legendgroup\":\"Other Electronics and Telecommunication engineering\",\"marker\":{\"color\":\"#EF553B\",\"pattern\":{\"shape\":\"\"}},\"name\":\"Other Electronics and Telecommunication engineering\",\"offsetgroup\":\"Other Electronics and Telecommunication engineering\",\"orientation\":\"h\",\"showlegend\":true,\"text\":[\"1\"],\"textposition\":\"auto\",\"x\":[1],\"xaxis\":\"x\",\"y\":[\"Other Electronics and Telecommunication engineering\"],\"yaxis\":\"y\",\"type\":\"bar\"},{\"alignmentgroup\":\"True\",\"hovertemplate\":\"Branch=%{y}\\u003cbr\\u003eCount=%{x}\\u003cbr\\u003etext=%{text}\\u003cextra\\u003e\\u003c\\u002fextra\\u003e\",\"legendgroup\":\"Other ELECTRONICS AND TELECOMMUICATION\",\"marker\":{\"color\":\"#00CC96\",\"pattern\":{\"shape\":\"\"}},\"name\":\"Other ELECTRONICS AND TELECOMMUICATION\",\"offsetgroup\":\"Other ELECTRONICS AND TELECOMMUICATION\",\"orientation\":\"h\",\"showlegend\":true,\"text\":[\"1\"],\"textposition\":\"auto\",\"x\":[1],\"xaxis\":\"x\",\"y\":[\"Other ELECTRONICS AND TELECOMMUICATION\"],\"yaxis\":\"y\",\"type\":\"bar\"},{\"alignmentgroup\":\"True\",\"hovertemplate\":\"Branch=%{y}\\u003cbr\\u003eCount=%{x}\\u003cbr\\u003etext=%{text}\\u003cextra\\u003e\\u003c\\u002fextra\\u003e\",\"legendgroup\":\"Other Commerce\",\"marker\":{\"color\":\"#AB63FA\",\"pattern\":{\"shape\":\"\"}},\"name\":\"Other Commerce\",\"offsetgroup\":\"Other Commerce\",\"orientation\":\"h\",\"showlegend\":true,\"text\":[\"1\"],\"textposition\":\"auto\",\"x\":[1],\"xaxis\":\"x\",\"y\":[\"Other Commerce\"],\"yaxis\":\"y\",\"type\":\"bar\"},{\"alignmentgroup\":\"True\",\"hovertemplate\":\"Branch=%{y}\\u003cbr\\u003eCount=%{x}\\u003cbr\\u003etext=%{text}\\u003cextra\\u003e\\u003c\\u002fextra\\u003e\",\"legendgroup\":\"Other Biotechnology\",\"marker\":{\"color\":\"#FFA15A\",\"pattern\":{\"shape\":\"\"}},\"name\":\"Other Biotechnology\",\"offsetgroup\":\"Other Biotechnology\",\"orientation\":\"h\",\"showlegend\":true,\"text\":[\"1\"],\"textposition\":\"auto\",\"x\":[1],\"xaxis\":\"x\",\"y\":[\"Other Biotechnology\"],\"yaxis\":\"y\",\"type\":\"bar\"},{\"alignmentgroup\":\"True\",\"hovertemplate\":\"Branch=%{y}\\u003cbr\\u003eCount=%{x}\\u003cbr\\u003etext=%{text}\\u003cextra\\u003e\\u003c\\u002fextra\\u003e\",\"legendgroup\":\"Other D Pharma\",\"marker\":{\"color\":\"#19D3F3\",\"pattern\":{\"shape\":\"\"}},\"name\":\"Other D Pharma\",\"offsetgroup\":\"Other D Pharma\",\"orientation\":\"h\",\"showlegend\":true,\"text\":[\"1\"],\"textposition\":\"auto\",\"x\":[1],\"xaxis\":\"x\",\"y\":[\"Other D Pharma\"],\"yaxis\":\"y\",\"type\":\"bar\"},{\"alignmentgroup\":\"True\",\"hovertemplate\":\"Branch=%{y}\\u003cbr\\u003eCount=%{x}\\u003cbr\\u003etext=%{text}\\u003cextra\\u003e\\u003c\\u002fextra\\u003e\",\"legendgroup\":\"Other Electronic engineering\",\"marker\":{\"color\":\"#FF6692\",\"pattern\":{\"shape\":\"\"}},\"name\":\"Other Electronic engineering\",\"offsetgroup\":\"Other Electronic engineering\",\"orientation\":\"h\",\"showlegend\":true,\"text\":[\"1\"],\"textposition\":\"auto\",\"x\":[1],\"xaxis\":\"x\",\"y\":[\"Other Electronic engineering\"],\"yaxis\":\"y\",\"type\":\"bar\"},{\"alignmentgroup\":\"True\",\"hovertemplate\":\"Branch=%{y}\\u003cbr\\u003eCount=%{x}\\u003cbr\\u003etext=%{text}\\u003cextra\\u003e\\u003c\\u002fextra\\u003e\",\"legendgroup\":\"Other Fybcom\",\"marker\":{\"color\":\"#B6E880\",\"pattern\":{\"shape\":\"\"}},\"name\":\"Other Fybcom\",\"offsetgroup\":\"Other Fybcom\",\"orientation\":\"h\",\"showlegend\":true,\"text\":[\"1\"],\"textposition\":\"auto\",\"x\":[1],\"xaxis\":\"x\",\"y\":[\"Other Fybcom\"],\"yaxis\":\"y\",\"type\":\"bar\"},{\"alignmentgroup\":\"True\",\"hovertemplate\":\"Branch=%{y}\\u003cbr\\u003eCount=%{x}\\u003cbr\\u003etext=%{text}\\u003cextra\\u003e\\u003c\\u002fextra\\u003e\",\"legendgroup\":\"Other FYB.COM\",\"marker\":{\"color\":\"#FF97FF\",\"pattern\":{\"shape\":\"\"}},\"name\":\"Other FYB.COM\",\"offsetgroup\":\"Other FYB.COM\",\"orientation\":\"h\",\"showlegend\":true,\"text\":[\"1\"],\"textposition\":\"auto\",\"x\":[1],\"xaxis\":\"x\",\"y\":[\"Other FYB.COM\"],\"yaxis\":\"y\",\"type\":\"bar\"},{\"alignmentgroup\":\"True\",\"hovertemplate\":\"Branch=%{y}\\u003cbr\\u003eCount=%{x}\\u003cbr\\u003etext=%{text}\\u003cextra\\u003e\\u003c\\u002fextra\\u003e\",\"legendgroup\":\"Other physics\",\"marker\":{\"color\":\"#FECB52\",\"pattern\":{\"shape\":\"\"}},\"name\":\"Other physics\",\"offsetgroup\":\"Other physics\",\"orientation\":\"h\",\"showlegend\":true,\"text\":[\"1\"],\"textposition\":\"auto\",\"x\":[1],\"xaxis\":\"x\",\"y\":[\"Other physics\"],\"yaxis\":\"y\",\"type\":\"bar\"},{\"alignmentgroup\":\"True\",\"hovertemplate\":\"Branch=%{y}\\u003cbr\\u003eCount=%{x}\\u003cbr\\u003etext=%{text}\\u003cextra\\u003e\\u003c\\u002fextra\\u003e\",\"legendgroup\":\"Other Electronic and telecommunications engineering\",\"marker\":{\"color\":\"#636EFA\",\"pattern\":{\"shape\":\"\"}},\"name\":\"Other Electronic and telecommunications engineering\",\"offsetgroup\":\"Other Electronic and telecommunications engineering\",\"orientation\":\"h\",\"showlegend\":true,\"text\":[\"1\"],\"textposition\":\"auto\",\"x\":[1],\"xaxis\":\"x\",\"y\":[\"Other Electronic and telecommunications engineering\"],\"yaxis\":\"y\",\"type\":\"bar\"},{\"alignmentgroup\":\"True\",\"hovertemplate\":\"Branch=%{y}\\u003cbr\\u003eCount=%{x}\\u003cbr\\u003etext=%{text}\\u003cextra\\u003e\\u003c\\u002fextra\\u003e\",\"legendgroup\":\"Other Electronics And telecommunication\",\"marker\":{\"color\":\"#EF553B\",\"pattern\":{\"shape\":\"\"}},\"name\":\"Other Electronics And telecommunication\",\"offsetgroup\":\"Other Electronics And telecommunication\",\"orientation\":\"h\",\"showlegend\":true,\"text\":[\"1\"],\"textposition\":\"auto\",\"x\":[1],\"xaxis\":\"x\",\"y\":[\"Other Electronics And telecommunication\"],\"yaxis\":\"y\",\"type\":\"bar\"},{\"alignmentgroup\":\"True\",\"hovertemplate\":\"Branch=%{y}\\u003cbr\\u003eCount=%{x}\\u003cbr\\u003etext=%{text}\\u003cextra\\u003e\\u003c\\u002fextra\\u003e\",\"legendgroup\":\"Other TE COMPUTER ENGINEERING\",\"marker\":{\"color\":\"#00CC96\",\"pattern\":{\"shape\":\"\"}},\"name\":\"Other TE COMPUTER ENGINEERING\",\"offsetgroup\":\"Other TE COMPUTER ENGINEERING\",\"orientation\":\"h\",\"showlegend\":true,\"text\":[\"1\"],\"textposition\":\"auto\",\"x\":[1],\"xaxis\":\"x\",\"y\":[\"Other TE COMPUTER ENGINEERING\"],\"yaxis\":\"y\",\"type\":\"bar\"},{\"alignmentgroup\":\"True\",\"hovertemplate\":\"Branch=%{y}\\u003cbr\\u003eCount=%{x}\\u003cbr\\u003etext=%{text}\\u003cextra\\u003e\\u003c\\u002fextra\\u003e\",\"legendgroup\":\"Other SY BMS\",\"marker\":{\"color\":\"#AB63FA\",\"pattern\":{\"shape\":\"\"}},\"name\":\"Other SY BMS\",\"offsetgroup\":\"Other SY BMS\",\"orientation\":\"h\",\"showlegend\":true,\"text\":[\"1\"],\"textposition\":\"auto\",\"x\":[1],\"xaxis\":\"x\",\"y\":[\"Other SY BMS\"],\"yaxis\":\"y\",\"type\":\"bar\"},{\"alignmentgroup\":\"True\",\"hovertemplate\":\"Branch=%{y}\\u003cbr\\u003eCount=%{x}\\u003cbr\\u003etext=%{text}\\u003cextra\\u003e\\u003c\\u002fextra\\u003e\",\"legendgroup\":\"Other B.com\",\"marker\":{\"color\":\"#FFA15A\",\"pattern\":{\"shape\":\"\"}},\"name\":\"Other B.com\",\"offsetgroup\":\"Other B.com\",\"orientation\":\"h\",\"showlegend\":true,\"text\":[\"1\"],\"textposition\":\"auto\",\"x\":[1],\"xaxis\":\"x\",\"y\":[\"Other B.com\"],\"yaxis\":\"y\",\"type\":\"bar\"},{\"alignmentgroup\":\"True\",\"hovertemplate\":\"Branch=%{y}\\u003cbr\\u003eCount=%{x}\\u003cbr\\u003etext=%{text}\\u003cextra\\u003e\\u003c\\u002fextra\\u003e\",\"legendgroup\":\"Other SY BFM\",\"marker\":{\"color\":\"#19D3F3\",\"pattern\":{\"shape\":\"\"}},\"name\":\"Other SY BFM\",\"offsetgroup\":\"Other SY BFM\",\"orientation\":\"h\",\"showlegend\":true,\"text\":[\"1\"],\"textposition\":\"auto\",\"x\":[1],\"xaxis\":\"x\",\"y\":[\"Other SY BFM\"],\"yaxis\":\"y\",\"type\":\"bar\"},{\"alignmentgroup\":\"True\",\"hovertemplate\":\"Branch=%{y}\\u003cbr\\u003eCount=%{x}\\u003cbr\\u003etext=%{text}\\u003cextra\\u003e\\u003c\\u002fextra\\u003e\",\"legendgroup\":\"Other PHYSICS\",\"marker\":{\"color\":\"#FF6692\",\"pattern\":{\"shape\":\"\"}},\"name\":\"Other PHYSICS\",\"offsetgroup\":\"Other PHYSICS\",\"orientation\":\"h\",\"showlegend\":true,\"text\":[\"1\"],\"textposition\":\"auto\",\"x\":[1],\"xaxis\":\"x\",\"y\":[\"Other PHYSICS\"],\"yaxis\":\"y\",\"type\":\"bar\"},{\"alignmentgroup\":\"True\",\"hovertemplate\":\"Branch=%{y}\\u003cbr\\u003eCount=%{x}\\u003cbr\\u003etext=%{text}\\u003cextra\\u003e\\u003c\\u002fextra\\u003e\",\"legendgroup\":\"Other Electronics and Telecommunication (EXTC)\",\"marker\":{\"color\":\"#B6E880\",\"pattern\":{\"shape\":\"\"}},\"name\":\"Other Electronics and Telecommunication (EXTC)\",\"offsetgroup\":\"Other Electronics and Telecommunication (EXTC)\",\"orientation\":\"h\",\"showlegend\":true,\"text\":[\"1\"],\"textposition\":\"auto\",\"x\":[1],\"xaxis\":\"x\",\"y\":[\"Other Electronics and Telecommunication (EXTC)\"],\"yaxis\":\"y\",\"type\":\"bar\"},{\"alignmentgroup\":\"True\",\"hovertemplate\":\"Branch=%{y}\\u003cbr\\u003eCount=%{x}\\u003cbr\\u003etext=%{text}\\u003cextra\\u003e\\u003c\\u002fextra\\u003e\",\"legendgroup\":\"Computer Science Software\",\"marker\":{\"color\":\"#FF97FF\",\"pattern\":{\"shape\":\"\"}},\"name\":\"Computer Science Software\",\"offsetgroup\":\"Computer Science Software\",\"orientation\":\"h\",\"showlegend\":true,\"text\":[\"1\"],\"textposition\":\"auto\",\"x\":[1],\"xaxis\":\"x\",\"y\":[\"Computer Science Software\"],\"yaxis\":\"y\",\"type\":\"bar\"},{\"alignmentgroup\":\"True\",\"hovertemplate\":\"Branch=%{y}\\u003cbr\\u003eCount=%{x}\\u003cbr\\u003etext=%{text}\\u003cextra\\u003e\\u003c\\u002fextra\\u003e\",\"legendgroup\":\"Other Electronic\",\"marker\":{\"color\":\"#FECB52\",\"pattern\":{\"shape\":\"\"}},\"name\":\"Other Electronic\",\"offsetgroup\":\"Other Electronic\",\"orientation\":\"h\",\"showlegend\":true,\"text\":[\"1\"],\"textposition\":\"auto\",\"x\":[1],\"xaxis\":\"x\",\"y\":[\"Other Electronic\"],\"yaxis\":\"y\",\"type\":\"bar\"},{\"alignmentgroup\":\"True\",\"hovertemplate\":\"Branch=%{y}\\u003cbr\\u003eCount=%{x}\\u003cbr\\u003etext=%{text}\\u003cextra\\u003e\\u003c\\u002fextra\\u003e\",\"legendgroup\":\"Other Electrical Electronics and Power\",\"marker\":{\"color\":\"#636EFA\",\"pattern\":{\"shape\":\"\"}},\"name\":\"Other Electrical Electronics and Power\",\"offsetgroup\":\"Other Electrical Electronics and Power\",\"orientation\":\"h\",\"showlegend\":true,\"text\":[\"1\"],\"textposition\":\"auto\",\"x\":[1],\"xaxis\":\"x\",\"y\":[\"Other Electrical Electronics and Power\"],\"yaxis\":\"y\",\"type\":\"bar\"},{\"alignmentgroup\":\"True\",\"hovertemplate\":\"Branch=%{y}\\u003cbr\\u003eCount=%{x}\\u003cbr\\u003etext=%{text}\\u003cextra\\u003e\\u003c\\u002fextra\\u003e\",\"legendgroup\":\"Other Accounting and Finance\",\"marker\":{\"color\":\"#EF553B\",\"pattern\":{\"shape\":\"\"}},\"name\":\"Other Accounting and Finance\",\"offsetgroup\":\"Other Accounting and Finance\",\"orientation\":\"h\",\"showlegend\":true,\"text\":[\"1\"],\"textposition\":\"auto\",\"x\":[1],\"xaxis\":\"x\",\"y\":[\"Other Accounting and Finance\"],\"yaxis\":\"y\",\"type\":\"bar\"},{\"alignmentgroup\":\"True\",\"hovertemplate\":\"Branch=%{y}\\u003cbr\\u003eCount=%{x}\\u003cbr\\u003etext=%{text}\\u003cextra\\u003e\\u003c\\u002fextra\\u003e\",\"legendgroup\":\"Other electronic and communication engineering\",\"marker\":{\"color\":\"#00CC96\",\"pattern\":{\"shape\":\"\"}},\"name\":\"Other electronic and communication engineering\",\"offsetgroup\":\"Other electronic and communication engineering\",\"orientation\":\"h\",\"showlegend\":true,\"text\":[\"1\"],\"textposition\":\"auto\",\"x\":[1],\"xaxis\":\"x\",\"y\":[\"Other electronic and communication engineering\"],\"yaxis\":\"y\",\"type\":\"bar\"},{\"alignmentgroup\":\"True\",\"hovertemplate\":\"Branch=%{y}\\u003cbr\\u003eCount=%{x}\\u003cbr\\u003etext=%{text}\\u003cextra\\u003e\\u003c\\u002fextra\\u003e\",\"legendgroup\":\"Other -\",\"marker\":{\"color\":\"#AB63FA\",\"pattern\":{\"shape\":\"\"}},\"name\":\"Other -\",\"offsetgroup\":\"Other -\",\"orientation\":\"h\",\"showlegend\":true,\"text\":[\"1\"],\"textposition\":\"auto\",\"x\":[1],\"xaxis\":\"x\",\"y\":[\"Other -\"],\"yaxis\":\"y\",\"type\":\"bar\"},{\"alignmentgroup\":\"True\",\"hovertemplate\":\"Branch=%{y}\\u003cbr\\u003eCount=%{x}\\u003cbr\\u003etext=%{text}\\u003cextra\\u003e\\u003c\\u002fextra\\u003e\",\"legendgroup\":\"Other Instrumentation and Control\",\"marker\":{\"color\":\"#FFA15A\",\"pattern\":{\"shape\":\"\"}},\"name\":\"Other Instrumentation and Control\",\"offsetgroup\":\"Other Instrumentation and Control\",\"orientation\":\"h\",\"showlegend\":true,\"text\":[\"1\"],\"textposition\":\"auto\",\"x\":[1],\"xaxis\":\"x\",\"y\":[\"Other Instrumentation and Control\"],\"yaxis\":\"y\",\"type\":\"bar\"},{\"alignmentgroup\":\"True\",\"hovertemplate\":\"Branch=%{y}\\u003cbr\\u003eCount=%{x}\\u003cbr\\u003etext=%{text}\\u003cextra\\u003e\\u003c\\u002fextra\\u003e\",\"legendgroup\":\"Other ETC\",\"marker\":{\"color\":\"#19D3F3\",\"pattern\":{\"shape\":\"\"}},\"name\":\"Other ETC\",\"offsetgroup\":\"Other ETC\",\"orientation\":\"h\",\"showlegend\":true,\"text\":[\"1\"],\"textposition\":\"auto\",\"x\":[1],\"xaxis\":\"x\",\"y\":[\"Other ETC\"],\"yaxis\":\"y\",\"type\":\"bar\"},{\"alignmentgroup\":\"True\",\"hovertemplate\":\"Branch=%{y}\\u003cbr\\u003eCount=%{x}\\u003cbr\\u003etext=%{text}\\u003cextra\\u003e\\u003c\\u002fextra\\u003e\",\"legendgroup\":\"Other Computer programming language, networking\",\"marker\":{\"color\":\"#FF6692\",\"pattern\":{\"shape\":\"\"}},\"name\":\"Other Computer programming language, networking\",\"offsetgroup\":\"Other Computer programming language, networking\",\"orientation\":\"h\",\"showlegend\":true,\"text\":[\"1\"],\"textposition\":\"auto\",\"x\":[1],\"xaxis\":\"x\",\"y\":[\"Other Computer programming language, networking\"],\"yaxis\":\"y\",\"type\":\"bar\"},{\"alignmentgroup\":\"True\",\"hovertemplate\":\"Branch=%{y}\\u003cbr\\u003eCount=%{x}\\u003cbr\\u003etext=%{text}\\u003cextra\\u003e\\u003c\\u002fextra\\u003e\",\"legendgroup\":\"Other Computer and communication engineering\",\"marker\":{\"color\":\"#B6E880\",\"pattern\":{\"shape\":\"\"}},\"name\":\"Other Computer and communication engineering\",\"offsetgroup\":\"Other Computer and communication engineering\",\"orientation\":\"h\",\"showlegend\":true,\"text\":[\"1\"],\"textposition\":\"auto\",\"x\":[1],\"xaxis\":\"x\",\"y\":[\"Other Computer and communication engineering\"],\"yaxis\":\"y\",\"type\":\"bar\"},{\"alignmentgroup\":\"True\",\"hovertemplate\":\"Branch=%{y}\\u003cbr\\u003eCount=%{x}\\u003cbr\\u003etext=%{text}\\u003cextra\\u003e\\u003c\\u002fextra\\u003e\",\"legendgroup\":\"Other Civil Engineering\",\"marker\":{\"color\":\"#FF97FF\",\"pattern\":{\"shape\":\"\"}},\"name\":\"Other Civil Engineering\",\"offsetgroup\":\"Other Civil Engineering\",\"orientation\":\"h\",\"showlegend\":true,\"text\":[\"1\"],\"textposition\":\"auto\",\"x\":[1],\"xaxis\":\"x\",\"y\":[\"Other Civil Engineering\"],\"yaxis\":\"y\",\"type\":\"bar\"},{\"alignmentgroup\":\"True\",\"hovertemplate\":\"Branch=%{y}\\u003cbr\\u003eCount=%{x}\\u003cbr\\u003etext=%{text}\\u003cextra\\u003e\\u003c\\u002fextra\\u003e\",\"legendgroup\":\"Other electronics engineering\",\"marker\":{\"color\":\"#FECB52\",\"pattern\":{\"shape\":\"\"}},\"name\":\"Other electronics engineering\",\"offsetgroup\":\"Other electronics engineering\",\"orientation\":\"h\",\"showlegend\":true,\"text\":[\"1\"],\"textposition\":\"auto\",\"x\":[1],\"xaxis\":\"x\",\"y\":[\"Other electronics engineering\"],\"yaxis\":\"y\",\"type\":\"bar\"},{\"alignmentgroup\":\"True\",\"hovertemplate\":\"Branch=%{y}\\u003cbr\\u003eCount=%{x}\\u003cbr\\u003etext=%{text}\\u003cextra\\u003e\\u003c\\u002fextra\\u003e\",\"legendgroup\":\"Other electronics emgineering\",\"marker\":{\"color\":\"#636EFA\",\"pattern\":{\"shape\":\"\"}},\"name\":\"Other electronics emgineering\",\"offsetgroup\":\"Other electronics emgineering\",\"orientation\":\"h\",\"showlegend\":true,\"text\":[\"1\"],\"textposition\":\"auto\",\"x\":[1],\"xaxis\":\"x\",\"y\":[\"Other electronics emgineering\"],\"yaxis\":\"y\",\"type\":\"bar\"},{\"alignmentgroup\":\"True\",\"hovertemplate\":\"Branch=%{y}\\u003cbr\\u003eCount=%{x}\\u003cbr\\u003etext=%{text}\\u003cextra\\u003e\\u003c\\u002fextra\\u003e\",\"legendgroup\":\"Other MSc Industrial Mathematics with Computer Application\",\"marker\":{\"color\":\"#EF553B\",\"pattern\":{\"shape\":\"\"}},\"name\":\"Other MSc Industrial Mathematics with Computer Application\",\"offsetgroup\":\"Other MSc Industrial Mathematics with Computer Application\",\"orientation\":\"h\",\"showlegend\":true,\"text\":[\"1\"],\"textposition\":\"auto\",\"x\":[1],\"xaxis\":\"x\",\"y\":[\"Other MSc Industrial Mathematics with Computer Application\"],\"yaxis\":\"y\",\"type\":\"bar\"},{\"alignmentgroup\":\"True\",\"hovertemplate\":\"Branch=%{y}\\u003cbr\\u003eCount=%{x}\\u003cbr\\u003etext=%{text}\\u003cextra\\u003e\\u003c\\u002fextra\\u003e\",\"legendgroup\":\"Other Electronics and Computer science\",\"marker\":{\"color\":\"#00CC96\",\"pattern\":{\"shape\":\"\"}},\"name\":\"Other Electronics and Computer science\",\"offsetgroup\":\"Other Electronics and Computer science\",\"orientation\":\"h\",\"showlegend\":true,\"text\":[\"1\"],\"textposition\":\"auto\",\"x\":[1],\"xaxis\":\"x\",\"y\":[\"Other Electronics and Computer science\"],\"yaxis\":\"y\",\"type\":\"bar\"},{\"alignmentgroup\":\"True\",\"hovertemplate\":\"Branch=%{y}\\u003cbr\\u003eCount=%{x}\\u003cbr\\u003etext=%{text}\\u003cextra\\u003e\\u003c\\u002fextra\\u003e\",\"legendgroup\":\"Other Electronics and computer Science\",\"marker\":{\"color\":\"#AB63FA\",\"pattern\":{\"shape\":\"\"}},\"name\":\"Other Electronics and computer Science\",\"offsetgroup\":\"Other Electronics and computer Science\",\"orientation\":\"h\",\"showlegend\":true,\"text\":[\"1\"],\"textposition\":\"auto\",\"x\":[1],\"xaxis\":\"x\",\"y\":[\"Other Electronics and computer Science\"],\"yaxis\":\"y\",\"type\":\"bar\"},{\"alignmentgroup\":\"True\",\"hovertemplate\":\"Branch=%{y}\\u003cbr\\u003eCount=%{x}\\u003cbr\\u003etext=%{text}\\u003cextra\\u003e\\u003c\\u002fextra\\u003e\",\"legendgroup\":\"Other electronics and telecommunication engineering\",\"marker\":{\"color\":\"#FFA15A\",\"pattern\":{\"shape\":\"\"}},\"name\":\"Other electronics and telecommunication engineering\",\"offsetgroup\":\"Other electronics and telecommunication engineering\",\"orientation\":\"h\",\"showlegend\":true,\"text\":[\"1\"],\"textposition\":\"auto\",\"x\":[1],\"xaxis\":\"x\",\"y\":[\"Other electronics and telecommunication engineering\"],\"yaxis\":\"y\",\"type\":\"bar\"},{\"alignmentgroup\":\"True\",\"hovertemplate\":\"Branch=%{y}\\u003cbr\\u003eCount=%{x}\\u003cbr\\u003etext=%{text}\\u003cextra\\u003e\\u003c\\u002fextra\\u003e\",\"legendgroup\":\"Other Entc\",\"marker\":{\"color\":\"#19D3F3\",\"pattern\":{\"shape\":\"\"}},\"name\":\"Other Entc\",\"offsetgroup\":\"Other Entc\",\"orientation\":\"h\",\"showlegend\":true,\"text\":[\"1\"],\"textposition\":\"auto\",\"x\":[1],\"xaxis\":\"x\",\"y\":[\"Other Entc\"],\"yaxis\":\"y\",\"type\":\"bar\"},{\"alignmentgroup\":\"True\",\"hovertemplate\":\"Branch=%{y}\\u003cbr\\u003eCount=%{x}\\u003cbr\\u003etext=%{text}\\u003cextra\\u003e\\u003c\\u002fextra\\u003e\",\"legendgroup\":\"Other Electronics and telecommunication department\",\"marker\":{\"color\":\"#FF6692\",\"pattern\":{\"shape\":\"\"}},\"name\":\"Other Electronics and telecommunication department\",\"offsetgroup\":\"Other Electronics and telecommunication department\",\"orientation\":\"h\",\"showlegend\":true,\"text\":[\"1\"],\"textposition\":\"auto\",\"x\":[1],\"xaxis\":\"x\",\"y\":[\"Other Electronics and telecommunication department\"],\"yaxis\":\"y\",\"type\":\"bar\"},{\"alignmentgroup\":\"True\",\"hovertemplate\":\"Branch=%{y}\\u003cbr\\u003eCount=%{x}\\u003cbr\\u003etext=%{text}\\u003cextra\\u003e\\u003c\\u002fextra\\u003e\",\"legendgroup\":\"Other Electronics And Telecommunication\",\"marker\":{\"color\":\"#B6E880\",\"pattern\":{\"shape\":\"\"}},\"name\":\"Other Electronics And Telecommunication\",\"offsetgroup\":\"Other Electronics And Telecommunication\",\"orientation\":\"h\",\"showlegend\":true,\"text\":[\"1\"],\"textposition\":\"auto\",\"x\":[1],\"xaxis\":\"x\",\"y\":[\"Other Electronics And Telecommunication\"],\"yaxis\":\"y\",\"type\":\"bar\"},{\"alignmentgroup\":\"True\",\"hovertemplate\":\"Branch=%{y}\\u003cbr\\u003eCount=%{x}\\u003cbr\\u003etext=%{text}\\u003cextra\\u003e\\u003c\\u002fextra\\u003e\",\"legendgroup\":\"Other information security and cloud computing\",\"marker\":{\"color\":\"#FF97FF\",\"pattern\":{\"shape\":\"\"}},\"name\":\"Other information security and cloud computing\",\"offsetgroup\":\"Other information security and cloud computing\",\"orientation\":\"h\",\"showlegend\":true,\"text\":[\"1\"],\"textposition\":\"auto\",\"x\":[1],\"xaxis\":\"x\",\"y\":[\"Other information security and cloud computing\"],\"yaxis\":\"y\",\"type\":\"bar\"},{\"alignmentgroup\":\"True\",\"hovertemplate\":\"Branch=%{y}\\u003cbr\\u003eCount=%{x}\\u003cbr\\u003etext=%{text}\\u003cextra\\u003e\\u003c\\u002fextra\\u003e\",\"legendgroup\":\"Other Electronics & Telecommunication Engineering\",\"marker\":{\"color\":\"#FECB52\",\"pattern\":{\"shape\":\"\"}},\"name\":\"Other Electronics & Telecommunication Engineering\",\"offsetgroup\":\"Other Electronics & Telecommunication Engineering\",\"orientation\":\"h\",\"showlegend\":true,\"text\":[\"1\"],\"textposition\":\"auto\",\"x\":[1],\"xaxis\":\"x\",\"y\":[\"Other Electronics & Telecommunication Engineering\"],\"yaxis\":\"y\",\"type\":\"bar\"},{\"alignmentgroup\":\"True\",\"hovertemplate\":\"Branch=%{y}\\u003cbr\\u003eCount=%{x}\\u003cbr\\u003etext=%{text}\\u003cextra\\u003e\\u003c\\u002fextra\\u003e\",\"legendgroup\":\"Other Electronic and Telecommunications\",\"marker\":{\"color\":\"#636EFA\",\"pattern\":{\"shape\":\"\"}},\"name\":\"Other Electronic and Telecommunications\",\"offsetgroup\":\"Other Electronic and Telecommunications\",\"orientation\":\"h\",\"showlegend\":true,\"text\":[\"1\"],\"textposition\":\"auto\",\"x\":[1],\"xaxis\":\"x\",\"y\":[\"Other Electronic and Telecommunications\"],\"yaxis\":\"y\",\"type\":\"bar\"},{\"alignmentgroup\":\"True\",\"hovertemplate\":\"Branch=%{y}\\u003cbr\\u003eCount=%{x}\\u003cbr\\u003etext=%{text}\\u003cextra\\u003e\\u003c\\u002fextra\\u003e\",\"legendgroup\":\"Other Mechanical Engg\",\"marker\":{\"color\":\"#EF553B\",\"pattern\":{\"shape\":\"\"}},\"name\":\"Other Mechanical Engg\",\"offsetgroup\":\"Other Mechanical Engg\",\"orientation\":\"h\",\"showlegend\":true,\"text\":[\"1\"],\"textposition\":\"auto\",\"x\":[1],\"xaxis\":\"x\",\"y\":[\"Other Mechanical Engg\"],\"yaxis\":\"y\",\"type\":\"bar\"},{\"alignmentgroup\":\"True\",\"hovertemplate\":\"Branch=%{y}\\u003cbr\\u003eCount=%{x}\\u003cbr\\u003etext=%{text}\\u003cextra\\u003e\\u003c\\u002fextra\\u003e\",\"legendgroup\":\"Other Electrical & Electronics\",\"marker\":{\"color\":\"#00CC96\",\"pattern\":{\"shape\":\"\"}},\"name\":\"Other Electrical & Electronics\",\"offsetgroup\":\"Other Electrical & Electronics\",\"orientation\":\"h\",\"showlegend\":true,\"text\":[\"1\"],\"textposition\":\"auto\",\"x\":[1],\"xaxis\":\"x\",\"y\":[\"Other Electrical & Electronics\"],\"yaxis\":\"y\",\"type\":\"bar\"}],                        {\"template\":{\"data\":{\"histogram2dcontour\":[{\"type\":\"histogram2dcontour\",\"colorbar\":{\"outlinewidth\":0,\"ticks\":\"\"},\"colorscale\":[[0.0,\"#0d0887\"],[0.1111111111111111,\"#46039f\"],[0.2222222222222222,\"#7201a8\"],[0.3333333333333333,\"#9c179e\"],[0.4444444444444444,\"#bd3786\"],[0.5555555555555556,\"#d8576b\"],[0.6666666666666666,\"#ed7953\"],[0.7777777777777778,\"#fb9f3a\"],[0.8888888888888888,\"#fdca26\"],[1.0,\"#f0f921\"]]}],\"choropleth\":[{\"type\":\"choropleth\",\"colorbar\":{\"outlinewidth\":0,\"ticks\":\"\"}}],\"histogram2d\":[{\"type\":\"histogram2d\",\"colorbar\":{\"outlinewidth\":0,\"ticks\":\"\"},\"colorscale\":[[0.0,\"#0d0887\"],[0.1111111111111111,\"#46039f\"],[0.2222222222222222,\"#7201a8\"],[0.3333333333333333,\"#9c179e\"],[0.4444444444444444,\"#bd3786\"],[0.5555555555555556,\"#d8576b\"],[0.6666666666666666,\"#ed7953\"],[0.7777777777777778,\"#fb9f3a\"],[0.8888888888888888,\"#fdca26\"],[1.0,\"#f0f921\"]]}],\"heatmap\":[{\"type\":\"heatmap\",\"colorbar\":{\"outlinewidth\":0,\"ticks\":\"\"},\"colorscale\":[[0.0,\"#0d0887\"],[0.1111111111111111,\"#46039f\"],[0.2222222222222222,\"#7201a8\"],[0.3333333333333333,\"#9c179e\"],[0.4444444444444444,\"#bd3786\"],[0.5555555555555556,\"#d8576b\"],[0.6666666666666666,\"#ed7953\"],[0.7777777777777778,\"#fb9f3a\"],[0.8888888888888888,\"#fdca26\"],[1.0,\"#f0f921\"]]}],\"heatmapgl\":[{\"type\":\"heatmapgl\",\"colorbar\":{\"outlinewidth\":0,\"ticks\":\"\"},\"colorscale\":[[0.0,\"#0d0887\"],[0.1111111111111111,\"#46039f\"],[0.2222222222222222,\"#7201a8\"],[0.3333333333333333,\"#9c179e\"],[0.4444444444444444,\"#bd3786\"],[0.5555555555555556,\"#d8576b\"],[0.6666666666666666,\"#ed7953\"],[0.7777777777777778,\"#fb9f3a\"],[0.8888888888888888,\"#fdca26\"],[1.0,\"#f0f921\"]]}],\"contourcarpet\":[{\"type\":\"contourcarpet\",\"colorbar\":{\"outlinewidth\":0,\"ticks\":\"\"}}],\"contour\":[{\"type\":\"contour\",\"colorbar\":{\"outlinewidth\":0,\"ticks\":\"\"},\"colorscale\":[[0.0,\"#0d0887\"],[0.1111111111111111,\"#46039f\"],[0.2222222222222222,\"#7201a8\"],[0.3333333333333333,\"#9c179e\"],[0.4444444444444444,\"#bd3786\"],[0.5555555555555556,\"#d8576b\"],[0.6666666666666666,\"#ed7953\"],[0.7777777777777778,\"#fb9f3a\"],[0.8888888888888888,\"#fdca26\"],[1.0,\"#f0f921\"]]}],\"surface\":[{\"type\":\"surface\",\"colorbar\":{\"outlinewidth\":0,\"ticks\":\"\"},\"colorscale\":[[0.0,\"#0d0887\"],[0.1111111111111111,\"#46039f\"],[0.2222222222222222,\"#7201a8\"],[0.3333333333333333,\"#9c179e\"],[0.4444444444444444,\"#bd3786\"],[0.5555555555555556,\"#d8576b\"],[0.6666666666666666,\"#ed7953\"],[0.7777777777777778,\"#fb9f3a\"],[0.8888888888888888,\"#fdca26\"],[1.0,\"#f0f921\"]]}],\"mesh3d\":[{\"type\":\"mesh3d\",\"colorbar\":{\"outlinewidth\":0,\"ticks\":\"\"}}],\"scatter\":[{\"fillpattern\":{\"fillmode\":\"overlay\",\"size\":10,\"solidity\":0.2},\"type\":\"scatter\"}],\"parcoords\":[{\"type\":\"parcoords\",\"line\":{\"colorbar\":{\"outlinewidth\":0,\"ticks\":\"\"}}}],\"scatterpolargl\":[{\"type\":\"scatterpolargl\",\"marker\":{\"colorbar\":{\"outlinewidth\":0,\"ticks\":\"\"}}}],\"bar\":[{\"error_x\":{\"color\":\"#2a3f5f\"},\"error_y\":{\"color\":\"#2a3f5f\"},\"marker\":{\"line\":{\"color\":\"#E5ECF6\",\"width\":0.5},\"pattern\":{\"fillmode\":\"overlay\",\"size\":10,\"solidity\":0.2}},\"type\":\"bar\"}],\"scattergeo\":[{\"type\":\"scattergeo\",\"marker\":{\"colorbar\":{\"outlinewidth\":0,\"ticks\":\"\"}}}],\"scatterpolar\":[{\"type\":\"scatterpolar\",\"marker\":{\"colorbar\":{\"outlinewidth\":0,\"ticks\":\"\"}}}],\"histogram\":[{\"marker\":{\"pattern\":{\"fillmode\":\"overlay\",\"size\":10,\"solidity\":0.2}},\"type\":\"histogram\"}],\"scattergl\":[{\"type\":\"scattergl\",\"marker\":{\"colorbar\":{\"outlinewidth\":0,\"ticks\":\"\"}}}],\"scatter3d\":[{\"type\":\"scatter3d\",\"line\":{\"colorbar\":{\"outlinewidth\":0,\"ticks\":\"\"}},\"marker\":{\"colorbar\":{\"outlinewidth\":0,\"ticks\":\"\"}}}],\"scattermapbox\":[{\"type\":\"scattermapbox\",\"marker\":{\"colorbar\":{\"outlinewidth\":0,\"ticks\":\"\"}}}],\"scatterternary\":[{\"type\":\"scatterternary\",\"marker\":{\"colorbar\":{\"outlinewidth\":0,\"ticks\":\"\"}}}],\"scattercarpet\":[{\"type\":\"scattercarpet\",\"marker\":{\"colorbar\":{\"outlinewidth\":0,\"ticks\":\"\"}}}],\"carpet\":[{\"aaxis\":{\"endlinecolor\":\"#2a3f5f\",\"gridcolor\":\"white\",\"linecolor\":\"white\",\"minorgridcolor\":\"white\",\"startlinecolor\":\"#2a3f5f\"},\"baxis\":{\"endlinecolor\":\"#2a3f5f\",\"gridcolor\":\"white\",\"linecolor\":\"white\",\"minorgridcolor\":\"white\",\"startlinecolor\":\"#2a3f5f\"},\"type\":\"carpet\"}],\"table\":[{\"cells\":{\"fill\":{\"color\":\"#EBF0F8\"},\"line\":{\"color\":\"white\"}},\"header\":{\"fill\":{\"color\":\"#C8D4E3\"},\"line\":{\"color\":\"white\"}},\"type\":\"table\"}],\"barpolar\":[{\"marker\":{\"line\":{\"color\":\"#E5ECF6\",\"width\":0.5},\"pattern\":{\"fillmode\":\"overlay\",\"size\":10,\"solidity\":0.2}},\"type\":\"barpolar\"}],\"pie\":[{\"automargin\":true,\"type\":\"pie\"}]},\"layout\":{\"autotypenumbers\":\"strict\",\"colorway\":[\"#636efa\",\"#EF553B\",\"#00cc96\",\"#ab63fa\",\"#FFA15A\",\"#19d3f3\",\"#FF6692\",\"#B6E880\",\"#FF97FF\",\"#FECB52\"],\"font\":{\"color\":\"#2a3f5f\"},\"hovermode\":\"closest\",\"hoverlabel\":{\"align\":\"left\"},\"paper_bgcolor\":\"white\",\"plot_bgcolor\":\"#E5ECF6\",\"polar\":{\"bgcolor\":\"#E5ECF6\",\"angularaxis\":{\"gridcolor\":\"white\",\"linecolor\":\"white\",\"ticks\":\"\"},\"radialaxis\":{\"gridcolor\":\"white\",\"linecolor\":\"white\",\"ticks\":\"\"}},\"ternary\":{\"bgcolor\":\"#E5ECF6\",\"aaxis\":{\"gridcolor\":\"white\",\"linecolor\":\"white\",\"ticks\":\"\"},\"baxis\":{\"gridcolor\":\"white\",\"linecolor\":\"white\",\"ticks\":\"\"},\"caxis\":{\"gridcolor\":\"white\",\"linecolor\":\"white\",\"ticks\":\"\"}},\"coloraxis\":{\"colorbar\":{\"outlinewidth\":0,\"ticks\":\"\"}},\"colorscale\":{\"sequential\":[[0.0,\"#0d0887\"],[0.1111111111111111,\"#46039f\"],[0.2222222222222222,\"#7201a8\"],[0.3333333333333333,\"#9c179e\"],[0.4444444444444444,\"#bd3786\"],[0.5555555555555556,\"#d8576b\"],[0.6666666666666666,\"#ed7953\"],[0.7777777777777778,\"#fb9f3a\"],[0.8888888888888888,\"#fdca26\"],[1.0,\"#f0f921\"]],\"sequentialminus\":[[0.0,\"#0d0887\"],[0.1111111111111111,\"#46039f\"],[0.2222222222222222,\"#7201a8\"],[0.3333333333333333,\"#9c179e\"],[0.4444444444444444,\"#bd3786\"],[0.5555555555555556,\"#d8576b\"],[0.6666666666666666,\"#ed7953\"],[0.7777777777777778,\"#fb9f3a\"],[0.8888888888888888,\"#fdca26\"],[1.0,\"#f0f921\"]],\"diverging\":[[0,\"#8e0152\"],[0.1,\"#c51b7d\"],[0.2,\"#de77ae\"],[0.3,\"#f1b6da\"],[0.4,\"#fde0ef\"],[0.5,\"#f7f7f7\"],[0.6,\"#e6f5d0\"],[0.7,\"#b8e186\"],[0.8,\"#7fbc41\"],[0.9,\"#4d9221\"],[1,\"#276419\"]]},\"xaxis\":{\"gridcolor\":\"white\",\"linecolor\":\"white\",\"ticks\":\"\",\"title\":{\"standoff\":15},\"zerolinecolor\":\"white\",\"automargin\":true,\"zerolinewidth\":2},\"yaxis\":{\"gridcolor\":\"white\",\"linecolor\":\"white\",\"ticks\":\"\",\"title\":{\"standoff\":15},\"zerolinecolor\":\"white\",\"automargin\":true,\"zerolinewidth\":2},\"scene\":{\"xaxis\":{\"backgroundcolor\":\"#E5ECF6\",\"gridcolor\":\"white\",\"linecolor\":\"white\",\"showbackground\":true,\"ticks\":\"\",\"zerolinecolor\":\"white\",\"gridwidth\":2},\"yaxis\":{\"backgroundcolor\":\"#E5ECF6\",\"gridcolor\":\"white\",\"linecolor\":\"white\",\"showbackground\":true,\"ticks\":\"\",\"zerolinecolor\":\"white\",\"gridwidth\":2},\"zaxis\":{\"backgroundcolor\":\"#E5ECF6\",\"gridcolor\":\"white\",\"linecolor\":\"white\",\"showbackground\":true,\"ticks\":\"\",\"zerolinecolor\":\"white\",\"gridwidth\":2}},\"shapedefaults\":{\"line\":{\"color\":\"#2a3f5f\"}},\"annotationdefaults\":{\"arrowcolor\":\"#2a3f5f\",\"arrowhead\":0,\"arrowwidth\":1},\"geo\":{\"bgcolor\":\"white\",\"landcolor\":\"#E5ECF6\",\"subunitcolor\":\"white\",\"showland\":true,\"showlakes\":true,\"lakecolor\":\"white\"},\"title\":{\"x\":0.05},\"mapbox\":{\"style\":\"light\"}}},\"xaxis\":{\"anchor\":\"y\",\"domain\":[0.0,1.0],\"title\":{\"text\":\"count\"}},\"yaxis\":{\"anchor\":\"x\",\"domain\":[0.0,1.0],\"title\":{\"text\":\"Branch\"},\"categoryorder\":\"array\",\"categoryarray\":[\"Other Electrical & Electronics\",\"Other Mechanical Engg\",\"Other Electronic and Telecommunications\",\"Other Electronics & Telecommunication Engineering\",\"Other information security and cloud computing\",\"Other Electronics And Telecommunication\",\"Other Electronics and telecommunication department\",\"Other Entc\",\"Other electronics and telecommunication engineering\",\"Other Electronics and computer Science\",\"Other Electronics and Computer science\",\"Other MSc Industrial Mathematics with Computer Application\",\"Other electronics emgineering\",\"Other electronics engineering\",\"Other Civil Engineering\",\"Other Computer and communication engineering\",\"Other Computer programming language, networking\",\"Other ETC\",\"Other Instrumentation and Control\",\"Other -\",\"Other electronic and communication engineering\",\"Other Accounting and Finance\",\"Other Electrical Electronics and Power\",\"Other Electronic\",\"Computer Science Software\",\"Other Electronics and Telecommunication (EXTC)\",\"Other PHYSICS\",\"Other SY BFM\",\"Other B.com\",\"Other SY BMS\",\"Other TE COMPUTER ENGINEERING\",\"Other Electronics And telecommunication\",\"Other Electronic and telecommunications engineering\",\"Other physics\",\"Other FYB.COM\",\"Other Fybcom\",\"Other Electronic engineering\",\"Other D Pharma\",\"Other Biotechnology\",\"Other Commerce\",\"Other ELECTRONICS AND TELECOMMUICATION\",\"Other Electronics and Telecommunication engineering\",\"Other CIVIL ENGINEERING\",\"Other Civil\",\"Information Technology (IT) Com\",\"Other ELECTRONICS & TELECOMMUNICATION OF ENGINEERING\",\"Other Electronic and telecommunications\",\"Other Management\",\"Other Electroncis and Telecommunication\",\"Other Electronics and telecommunications engineering\",\"Other E&Tc\",\"Other aerospace engineering\",\"Other Electronicsand telecommunication\",\"Other FOOD TECHNOLOGY\",\"Other Computer science specialization in Devops\",\"Other Material science and engineering\",\"Other Data Science\",\"Other Petroleum\",\"Other Machine Learning\",\"Other Modelling and simulation\",\"Other Electronics and telecommunication Engineering\",\"Other Computer applications\",\"Other Ece\",\"Other Entc(artificial intelligence)\",\"Other Electronic communications\",\"Other mechanical\",\"Other CSIT\",\"Other Aero\",\"Computer Science Cloud technology and information security\",\"Other Metallurgical Engineering and Material Science\",\"Other Entrepreneurship Skills\",\"Other Bioinformatics\",\"Other EEE\",\"Other MINING\",\"Other Design\",\"Other elecrical engineering\",\"Other Economics\",\"Other DATA SCIENCE\",\"Other Electronic and Telecommunication Engg.\",\"Other PRODUCTION SANDWICH\",\"Other Computer application\",\"Other Electronic & Telecommunication\",\"Other Electronics And Telecommunications\",\"Other Electronic and communication engineering\",\"Other CHEMICAL TECHNOLOGY\",\"Information Technology (IT) Electronics And Telecommunication Engineering\",\"Other Cloud technology and information security\",\"Other Electronics and Communication Engineering\",\"Information Technology (IT) Electronic\",\"Other Fibres and Textile processing technology\",\"Other Electronic And Telecommunication\",\"Other Embedded and VLSI systems\",\"Other ECE\",\"Other Cloud Technology and Information Security\",\"Other ELECTRONICS AND TELECOMMUNICATION\",\"Other Civil engineering\",\"Other Electronic and telecommunication engineering\",\"Other Electronics and communication\",\"Other Mechatronics\",\"Other Electronics & telecommunications\",\"Other Extc\",\"Other Production Engineering\",\"Other Mechatronics Engineering\",\"Other Chemical Engineering\",\"Other Production\",\"Other Computer Application\",\"Other ELECTRONICS\",\"Other Electronics engineering\",\"Other Electrical Engineering\",\"Other ETRX\",\"Other Electronics and Telecommunication Engineering\",\"Other E&TC\",\"Other ELECTRONIC AND TELECOMMUNICATIONS\",\"Other Electronics and Telecommunications\",\"Other Electronic and Telecommunication\",\"Other Production engineering\",\"Other Electronics and Communication\",\"Other Computer engineering\",\"Other Computer Technology\",\"Other Electronic and telecommunication\",\"Other Electronics and telecommunications\",\"Other Electronics Engineering\",\"Other Computer Engineering\",\"Other Electrical engineering\",\"Other Computer Applications\",\"Other Mechanical engineering\",\"Other Electrical\",\"Other EXTC\",\"Other Mechanical Engineering\",\"Other Electronics\",\"Other Mechanical\",\"Other Electronics and Telecommunication\",\"Other Electronics and telecommunication\"]},\"legend\":{\"title\":{\"text\":\"Branch\"},\"tracegroupgap\":0},\"title\":{\"text\":\"Count of Attendee by Branch\"},\"barmode\":\"relative\",\"width\":1100,\"height\":2600},                        {\"responsive\": true}                    ).then(function(){\n",
              "                            \n",
              "var gd = document.getElementById('1b37e910-7e64-4d1f-94eb-348a829842be');\n",
              "var x = new MutationObserver(function (mutations, observer) {{\n",
              "        var display = window.getComputedStyle(gd).display;\n",
              "        if (!display || display === 'none') {{\n",
              "            console.log([gd, 'removed!']);\n",
              "            Plotly.purge(gd);\n",
              "            observer.disconnect();\n",
              "        }}\n",
              "}});\n",
              "\n",
              "// Listen for the removal of the full notebook cells\n",
              "var notebookContainer = gd.closest('#notebook-container');\n",
              "if (notebookContainer) {{\n",
              "    x.observe(notebookContainer, {childList: true});\n",
              "}}\n",
              "\n",
              "// Listen for the clearing of the current output cell\n",
              "var outputEl = gd.closest('.output');\n",
              "if (outputEl) {{\n",
              "    x.observe(outputEl, {childList: true});\n",
              "}}\n",
              "\n",
              "                        })                };                            </script>        </div>\n",
              "</body>\n",
              "</html>"
            ]
          },
          "metadata": {},
          "output_type": "display_data"
        }
      ],
      "source": [
        "branch = final_df['Branch'].value_counts().keys()\n",
        "count = final_df['Branch'].value_counts().values\n",
        "labels = [str(val) for val in count]\n",
        "\n",
        "branch_plot_df = pd.DataFrame({\n",
        "    'Branch': branch,\n",
        "    'Count': count,\n",
        "})\n",
        "\n",
        "fig = px.bar(branch_plot_df, y='Branch', x='Count', text=labels, title='Count of Attendee by Branch', template='plotly',color='Branch', color_discrete_sequence=px.colors.qualitative.Plotly)\n",
        "\n",
        "# Set the labels for the y-axis and x-axis\n",
        "fig.update_xaxes(title_text='count')\n",
        "fig.update_yaxes(title_text='Branch')\n",
        "\n",
        "\n",
        "fig.update_layout(width=1100, height=2600)\n",
        "\n",
        "# Show the plot\n",
        "fig.show()"
      ]
    },
    {
      "cell_type": "code",
      "execution_count": 27,
      "id": "4e1e39db",
      "metadata": {
        "colab": {
          "base_uri": "https://localhost:8080/",
          "height": 542
        },
        "id": "4e1e39db",
        "outputId": "a16f5a4b-bad5-4e18-e251-55fb42d1ce68"
      },
      "outputs": [
        {
          "data": {
            "text/html": [
              "<html>\n",
              "<head><meta charset=\"utf-8\" /></head>\n",
              "<body>\n",
              "    <div>            <script src=\"https://cdnjs.cloudflare.com/ajax/libs/mathjax/2.7.5/MathJax.js?config=TeX-AMS-MML_SVG\"></script><script type=\"text/javascript\">if (window.MathJax && window.MathJax.Hub && window.MathJax.Hub.Config) {window.MathJax.Hub.Config({SVG: {font: \"STIX-Web\"}});}</script>                <script type=\"text/javascript\">window.PlotlyConfig = {MathJaxConfig: 'local'};</script>\n",
              "        <script charset=\"utf-8\" src=\"https://cdn.plot.ly/plotly-2.24.1.min.js\"></script>                <div id=\"ce727cab-c560-4b21-9c14-c75e9b97ed8c\" class=\"plotly-graph-div\" style=\"height:525px; width:100%;\"></div>            <script type=\"text/javascript\">                                    window.PLOTLYENV=window.PLOTLYENV || {};                                    if (document.getElementById(\"ce727cab-c560-4b21-9c14-c75e9b97ed8c\")) {                    Plotly.newPlot(                        \"ce727cab-c560-4b21-9c14-c75e9b97ed8c\",                        [{\"alignmentgroup\":\"True\",\"hovertemplate\":\"More_info=%{x}\\u003cbr\\u003eCount=%{y}\\u003cbr\\u003etext=%{text}\\u003cextra\\u003e\\u003c\\u002fextra\\u003e\",\"legendgroup\":\"no\",\"marker\":{\"color\":\"#636EFA\",\"pattern\":{\"shape\":\"\"}},\"name\":\"no\",\"offsetgroup\":\"no\",\"orientation\":\"v\",\"showlegend\":true,\"text\":[\"1869\"],\"textposition\":\"auto\",\"x\":[\"no\"],\"xaxis\":\"x\",\"y\":[1869],\"yaxis\":\"y\",\"type\":\"bar\"},{\"alignmentgroup\":\"True\",\"hovertemplate\":\"More_info=%{x}\\u003cbr\\u003eCount=%{y}\\u003cbr\\u003etext=%{text}\\u003cextra\\u003e\\u003c\\u002fextra\\u003e\",\"legendgroup\":\"yes\",\"marker\":{\"color\":\"#EF553B\",\"pattern\":{\"shape\":\"\"}},\"name\":\"yes\",\"offsetgroup\":\"yes\",\"orientation\":\"v\",\"showlegend\":true,\"text\":[\"939\"],\"textposition\":\"auto\",\"x\":[\"yes\"],\"xaxis\":\"x\",\"y\":[939],\"yaxis\":\"y\",\"type\":\"bar\"}],                        {\"template\":{\"data\":{\"histogram2dcontour\":[{\"type\":\"histogram2dcontour\",\"colorbar\":{\"outlinewidth\":0,\"ticks\":\"\"},\"colorscale\":[[0.0,\"#0d0887\"],[0.1111111111111111,\"#46039f\"],[0.2222222222222222,\"#7201a8\"],[0.3333333333333333,\"#9c179e\"],[0.4444444444444444,\"#bd3786\"],[0.5555555555555556,\"#d8576b\"],[0.6666666666666666,\"#ed7953\"],[0.7777777777777778,\"#fb9f3a\"],[0.8888888888888888,\"#fdca26\"],[1.0,\"#f0f921\"]]}],\"choropleth\":[{\"type\":\"choropleth\",\"colorbar\":{\"outlinewidth\":0,\"ticks\":\"\"}}],\"histogram2d\":[{\"type\":\"histogram2d\",\"colorbar\":{\"outlinewidth\":0,\"ticks\":\"\"},\"colorscale\":[[0.0,\"#0d0887\"],[0.1111111111111111,\"#46039f\"],[0.2222222222222222,\"#7201a8\"],[0.3333333333333333,\"#9c179e\"],[0.4444444444444444,\"#bd3786\"],[0.5555555555555556,\"#d8576b\"],[0.6666666666666666,\"#ed7953\"],[0.7777777777777778,\"#fb9f3a\"],[0.8888888888888888,\"#fdca26\"],[1.0,\"#f0f921\"]]}],\"heatmap\":[{\"type\":\"heatmap\",\"colorbar\":{\"outlinewidth\":0,\"ticks\":\"\"},\"colorscale\":[[0.0,\"#0d0887\"],[0.1111111111111111,\"#46039f\"],[0.2222222222222222,\"#7201a8\"],[0.3333333333333333,\"#9c179e\"],[0.4444444444444444,\"#bd3786\"],[0.5555555555555556,\"#d8576b\"],[0.6666666666666666,\"#ed7953\"],[0.7777777777777778,\"#fb9f3a\"],[0.8888888888888888,\"#fdca26\"],[1.0,\"#f0f921\"]]}],\"heatmapgl\":[{\"type\":\"heatmapgl\",\"colorbar\":{\"outlinewidth\":0,\"ticks\":\"\"},\"colorscale\":[[0.0,\"#0d0887\"],[0.1111111111111111,\"#46039f\"],[0.2222222222222222,\"#7201a8\"],[0.3333333333333333,\"#9c179e\"],[0.4444444444444444,\"#bd3786\"],[0.5555555555555556,\"#d8576b\"],[0.6666666666666666,\"#ed7953\"],[0.7777777777777778,\"#fb9f3a\"],[0.8888888888888888,\"#fdca26\"],[1.0,\"#f0f921\"]]}],\"contourcarpet\":[{\"type\":\"contourcarpet\",\"colorbar\":{\"outlinewidth\":0,\"ticks\":\"\"}}],\"contour\":[{\"type\":\"contour\",\"colorbar\":{\"outlinewidth\":0,\"ticks\":\"\"},\"colorscale\":[[0.0,\"#0d0887\"],[0.1111111111111111,\"#46039f\"],[0.2222222222222222,\"#7201a8\"],[0.3333333333333333,\"#9c179e\"],[0.4444444444444444,\"#bd3786\"],[0.5555555555555556,\"#d8576b\"],[0.6666666666666666,\"#ed7953\"],[0.7777777777777778,\"#fb9f3a\"],[0.8888888888888888,\"#fdca26\"],[1.0,\"#f0f921\"]]}],\"surface\":[{\"type\":\"surface\",\"colorbar\":{\"outlinewidth\":0,\"ticks\":\"\"},\"colorscale\":[[0.0,\"#0d0887\"],[0.1111111111111111,\"#46039f\"],[0.2222222222222222,\"#7201a8\"],[0.3333333333333333,\"#9c179e\"],[0.4444444444444444,\"#bd3786\"],[0.5555555555555556,\"#d8576b\"],[0.6666666666666666,\"#ed7953\"],[0.7777777777777778,\"#fb9f3a\"],[0.8888888888888888,\"#fdca26\"],[1.0,\"#f0f921\"]]}],\"mesh3d\":[{\"type\":\"mesh3d\",\"colorbar\":{\"outlinewidth\":0,\"ticks\":\"\"}}],\"scatter\":[{\"fillpattern\":{\"fillmode\":\"overlay\",\"size\":10,\"solidity\":0.2},\"type\":\"scatter\"}],\"parcoords\":[{\"type\":\"parcoords\",\"line\":{\"colorbar\":{\"outlinewidth\":0,\"ticks\":\"\"}}}],\"scatterpolargl\":[{\"type\":\"scatterpolargl\",\"marker\":{\"colorbar\":{\"outlinewidth\":0,\"ticks\":\"\"}}}],\"bar\":[{\"error_x\":{\"color\":\"#2a3f5f\"},\"error_y\":{\"color\":\"#2a3f5f\"},\"marker\":{\"line\":{\"color\":\"#E5ECF6\",\"width\":0.5},\"pattern\":{\"fillmode\":\"overlay\",\"size\":10,\"solidity\":0.2}},\"type\":\"bar\"}],\"scattergeo\":[{\"type\":\"scattergeo\",\"marker\":{\"colorbar\":{\"outlinewidth\":0,\"ticks\":\"\"}}}],\"scatterpolar\":[{\"type\":\"scatterpolar\",\"marker\":{\"colorbar\":{\"outlinewidth\":0,\"ticks\":\"\"}}}],\"histogram\":[{\"marker\":{\"pattern\":{\"fillmode\":\"overlay\",\"size\":10,\"solidity\":0.2}},\"type\":\"histogram\"}],\"scattergl\":[{\"type\":\"scattergl\",\"marker\":{\"colorbar\":{\"outlinewidth\":0,\"ticks\":\"\"}}}],\"scatter3d\":[{\"type\":\"scatter3d\",\"line\":{\"colorbar\":{\"outlinewidth\":0,\"ticks\":\"\"}},\"marker\":{\"colorbar\":{\"outlinewidth\":0,\"ticks\":\"\"}}}],\"scattermapbox\":[{\"type\":\"scattermapbox\",\"marker\":{\"colorbar\":{\"outlinewidth\":0,\"ticks\":\"\"}}}],\"scatterternary\":[{\"type\":\"scatterternary\",\"marker\":{\"colorbar\":{\"outlinewidth\":0,\"ticks\":\"\"}}}],\"scattercarpet\":[{\"type\":\"scattercarpet\",\"marker\":{\"colorbar\":{\"outlinewidth\":0,\"ticks\":\"\"}}}],\"carpet\":[{\"aaxis\":{\"endlinecolor\":\"#2a3f5f\",\"gridcolor\":\"white\",\"linecolor\":\"white\",\"minorgridcolor\":\"white\",\"startlinecolor\":\"#2a3f5f\"},\"baxis\":{\"endlinecolor\":\"#2a3f5f\",\"gridcolor\":\"white\",\"linecolor\":\"white\",\"minorgridcolor\":\"white\",\"startlinecolor\":\"#2a3f5f\"},\"type\":\"carpet\"}],\"table\":[{\"cells\":{\"fill\":{\"color\":\"#EBF0F8\"},\"line\":{\"color\":\"white\"}},\"header\":{\"fill\":{\"color\":\"#C8D4E3\"},\"line\":{\"color\":\"white\"}},\"type\":\"table\"}],\"barpolar\":[{\"marker\":{\"line\":{\"color\":\"#E5ECF6\",\"width\":0.5},\"pattern\":{\"fillmode\":\"overlay\",\"size\":10,\"solidity\":0.2}},\"type\":\"barpolar\"}],\"pie\":[{\"automargin\":true,\"type\":\"pie\"}]},\"layout\":{\"autotypenumbers\":\"strict\",\"colorway\":[\"#636efa\",\"#EF553B\",\"#00cc96\",\"#ab63fa\",\"#FFA15A\",\"#19d3f3\",\"#FF6692\",\"#B6E880\",\"#FF97FF\",\"#FECB52\"],\"font\":{\"color\":\"#2a3f5f\"},\"hovermode\":\"closest\",\"hoverlabel\":{\"align\":\"left\"},\"paper_bgcolor\":\"white\",\"plot_bgcolor\":\"#E5ECF6\",\"polar\":{\"bgcolor\":\"#E5ECF6\",\"angularaxis\":{\"gridcolor\":\"white\",\"linecolor\":\"white\",\"ticks\":\"\"},\"radialaxis\":{\"gridcolor\":\"white\",\"linecolor\":\"white\",\"ticks\":\"\"}},\"ternary\":{\"bgcolor\":\"#E5ECF6\",\"aaxis\":{\"gridcolor\":\"white\",\"linecolor\":\"white\",\"ticks\":\"\"},\"baxis\":{\"gridcolor\":\"white\",\"linecolor\":\"white\",\"ticks\":\"\"},\"caxis\":{\"gridcolor\":\"white\",\"linecolor\":\"white\",\"ticks\":\"\"}},\"coloraxis\":{\"colorbar\":{\"outlinewidth\":0,\"ticks\":\"\"}},\"colorscale\":{\"sequential\":[[0.0,\"#0d0887\"],[0.1111111111111111,\"#46039f\"],[0.2222222222222222,\"#7201a8\"],[0.3333333333333333,\"#9c179e\"],[0.4444444444444444,\"#bd3786\"],[0.5555555555555556,\"#d8576b\"],[0.6666666666666666,\"#ed7953\"],[0.7777777777777778,\"#fb9f3a\"],[0.8888888888888888,\"#fdca26\"],[1.0,\"#f0f921\"]],\"sequentialminus\":[[0.0,\"#0d0887\"],[0.1111111111111111,\"#46039f\"],[0.2222222222222222,\"#7201a8\"],[0.3333333333333333,\"#9c179e\"],[0.4444444444444444,\"#bd3786\"],[0.5555555555555556,\"#d8576b\"],[0.6666666666666666,\"#ed7953\"],[0.7777777777777778,\"#fb9f3a\"],[0.8888888888888888,\"#fdca26\"],[1.0,\"#f0f921\"]],\"diverging\":[[0,\"#8e0152\"],[0.1,\"#c51b7d\"],[0.2,\"#de77ae\"],[0.3,\"#f1b6da\"],[0.4,\"#fde0ef\"],[0.5,\"#f7f7f7\"],[0.6,\"#e6f5d0\"],[0.7,\"#b8e186\"],[0.8,\"#7fbc41\"],[0.9,\"#4d9221\"],[1,\"#276419\"]]},\"xaxis\":{\"gridcolor\":\"white\",\"linecolor\":\"white\",\"ticks\":\"\",\"title\":{\"standoff\":15},\"zerolinecolor\":\"white\",\"automargin\":true,\"zerolinewidth\":2},\"yaxis\":{\"gridcolor\":\"white\",\"linecolor\":\"white\",\"ticks\":\"\",\"title\":{\"standoff\":15},\"zerolinecolor\":\"white\",\"automargin\":true,\"zerolinewidth\":2},\"scene\":{\"xaxis\":{\"backgroundcolor\":\"#E5ECF6\",\"gridcolor\":\"white\",\"linecolor\":\"white\",\"showbackground\":true,\"ticks\":\"\",\"zerolinecolor\":\"white\",\"gridwidth\":2},\"yaxis\":{\"backgroundcolor\":\"#E5ECF6\",\"gridcolor\":\"white\",\"linecolor\":\"white\",\"showbackground\":true,\"ticks\":\"\",\"zerolinecolor\":\"white\",\"gridwidth\":2},\"zaxis\":{\"backgroundcolor\":\"#E5ECF6\",\"gridcolor\":\"white\",\"linecolor\":\"white\",\"showbackground\":true,\"ticks\":\"\",\"zerolinecolor\":\"white\",\"gridwidth\":2}},\"shapedefaults\":{\"line\":{\"color\":\"#2a3f5f\"}},\"annotationdefaults\":{\"arrowcolor\":\"#2a3f5f\",\"arrowhead\":0,\"arrowwidth\":1},\"geo\":{\"bgcolor\":\"white\",\"landcolor\":\"#E5ECF6\",\"subunitcolor\":\"white\",\"showland\":true,\"showlakes\":true,\"lakecolor\":\"white\"},\"title\":{\"x\":0.05},\"mapbox\":{\"style\":\"light\"}}},\"xaxis\":{\"anchor\":\"y\",\"domain\":[0.0,1.0],\"title\":{\"text\":\"More_info about Cloud Counselage Pvt. Ltd. and their Programs\"},\"categoryorder\":\"array\",\"categoryarray\":[\"no\",\"yes\"]},\"yaxis\":{\"anchor\":\"x\",\"domain\":[0.0,1.0],\"title\":{\"text\":\"count\"}},\"legend\":{\"title\":{\"text\":\"More_info\"},\"tracegroupgap\":0},\"title\":{\"text\":\"Count of Attendee by which whether they want to know more about Cloud Counselage and their programs\"},\"barmode\":\"relative\"},                        {\"responsive\": true}                    ).then(function(){\n",
              "                            \n",
              "var gd = document.getElementById('ce727cab-c560-4b21-9c14-c75e9b97ed8c');\n",
              "var x = new MutationObserver(function (mutations, observer) {{\n",
              "        var display = window.getComputedStyle(gd).display;\n",
              "        if (!display || display === 'none') {{\n",
              "            console.log([gd, 'removed!']);\n",
              "            Plotly.purge(gd);\n",
              "            observer.disconnect();\n",
              "        }}\n",
              "}});\n",
              "\n",
              "// Listen for the removal of the full notebook cells\n",
              "var notebookContainer = gd.closest('#notebook-container');\n",
              "if (notebookContainer) {{\n",
              "    x.observe(notebookContainer, {childList: true});\n",
              "}}\n",
              "\n",
              "// Listen for the clearing of the current output cell\n",
              "var outputEl = gd.closest('.output');\n",
              "if (outputEl) {{\n",
              "    x.observe(outputEl, {childList: true});\n",
              "}}\n",
              "\n",
              "                        })                };                            </script>        </div>\n",
              "</body>\n",
              "</html>"
            ]
          },
          "metadata": {},
          "output_type": "display_data"
        }
      ],
      "source": [
        "more_info = final_df['Would you like to know more about us and our programs?'].value_counts().keys()\n",
        "count = final_df['Would you like to know more about us and our programs?'].value_counts().values\n",
        "labels = [str(val) for val in count]\n",
        "\n",
        "more_info_plot_df = pd.DataFrame({\n",
        "    'More_info': more_info,\n",
        "    'Count': count,\n",
        "})\n",
        "\n",
        "fig = px.bar(more_info_plot_df, x='More_info', y='Count', text=labels, title='Count of Attendee by which whether they want to know more about Cloud Counselage and their programs', template='plotly',color='More_info', color_discrete_sequence=px.colors.qualitative.Plotly)\n",
        "\n",
        "# Set the labels for the y-axis and x-axis\n",
        "fig.update_yaxes(title_text='count')\n",
        "fig.update_xaxes(title_text='More_info about Cloud Counselage Pvt. Ltd. and their Programs')\n",
        "\n",
        "# Show the plot\n",
        "fig.show()"
      ]
    },
    {
      "cell_type": "code",
      "execution_count": 28,
      "id": "59cac2be",
      "metadata": {
        "colab": {
          "base_uri": "https://localhost:8080/",
          "height": 542
        },
        "id": "59cac2be",
        "outputId": "b812dfde-1b24-47fb-83ae-fad012b046f2"
      },
      "outputs": [
        {
          "data": {
            "text/html": [
              "<html>\n",
              "<head><meta charset=\"utf-8\" /></head>\n",
              "<body>\n",
              "    <div>            <script src=\"https://cdnjs.cloudflare.com/ajax/libs/mathjax/2.7.5/MathJax.js?config=TeX-AMS-MML_SVG\"></script><script type=\"text/javascript\">if (window.MathJax && window.MathJax.Hub && window.MathJax.Hub.Config) {window.MathJax.Hub.Config({SVG: {font: \"STIX-Web\"}});}</script>                <script type=\"text/javascript\">window.PlotlyConfig = {MathJaxConfig: 'local'};</script>\n",
              "        <script charset=\"utf-8\" src=\"https://cdn.plot.ly/plotly-2.24.1.min.js\"></script>                <div id=\"da7a78e5-9689-4d84-b362-8df2a7869ec3\" class=\"plotly-graph-div\" style=\"height:525px; width:100%;\"></div>            <script type=\"text/javascript\">                                    window.PLOTLYENV=window.PLOTLYENV || {};                                    if (document.getElementById(\"da7a78e5-9689-4d84-b362-8df2a7869ec3\")) {                    Plotly.newPlot(                        \"da7a78e5-9689-4d84-b362-8df2a7869ec3\",                        [{\"alignmentgroup\":\"True\",\"hovertemplate\":\"More_events=%{x}\\u003cbr\\u003eCount=%{y}\\u003cbr\\u003etext=%{text}\\u003cextra\\u003e\\u003c\\u002fextra\\u003e\",\"legendgroup\":\"no\",\"marker\":{\"color\":\"#636EFA\",\"pattern\":{\"shape\":\"\"}},\"name\":\"no\",\"offsetgroup\":\"no\",\"orientation\":\"v\",\"showlegend\":true,\"text\":[\"1908\"],\"textposition\":\"auto\",\"x\":[\"no\"],\"xaxis\":\"x\",\"y\":[1908],\"yaxis\":\"y\",\"type\":\"bar\"},{\"alignmentgroup\":\"True\",\"hovertemplate\":\"More_events=%{x}\\u003cbr\\u003eCount=%{y}\\u003cbr\\u003etext=%{text}\\u003cextra\\u003e\\u003c\\u002fextra\\u003e\",\"legendgroup\":\"yes\",\"marker\":{\"color\":\"#EF553B\",\"pattern\":{\"shape\":\"\"}},\"name\":\"yes\",\"offsetgroup\":\"yes\",\"orientation\":\"v\",\"showlegend\":true,\"text\":[\"900\"],\"textposition\":\"auto\",\"x\":[\"yes\"],\"xaxis\":\"x\",\"y\":[900],\"yaxis\":\"y\",\"type\":\"bar\"}],                        {\"template\":{\"data\":{\"histogram2dcontour\":[{\"type\":\"histogram2dcontour\",\"colorbar\":{\"outlinewidth\":0,\"ticks\":\"\"},\"colorscale\":[[0.0,\"#0d0887\"],[0.1111111111111111,\"#46039f\"],[0.2222222222222222,\"#7201a8\"],[0.3333333333333333,\"#9c179e\"],[0.4444444444444444,\"#bd3786\"],[0.5555555555555556,\"#d8576b\"],[0.6666666666666666,\"#ed7953\"],[0.7777777777777778,\"#fb9f3a\"],[0.8888888888888888,\"#fdca26\"],[1.0,\"#f0f921\"]]}],\"choropleth\":[{\"type\":\"choropleth\",\"colorbar\":{\"outlinewidth\":0,\"ticks\":\"\"}}],\"histogram2d\":[{\"type\":\"histogram2d\",\"colorbar\":{\"outlinewidth\":0,\"ticks\":\"\"},\"colorscale\":[[0.0,\"#0d0887\"],[0.1111111111111111,\"#46039f\"],[0.2222222222222222,\"#7201a8\"],[0.3333333333333333,\"#9c179e\"],[0.4444444444444444,\"#bd3786\"],[0.5555555555555556,\"#d8576b\"],[0.6666666666666666,\"#ed7953\"],[0.7777777777777778,\"#fb9f3a\"],[0.8888888888888888,\"#fdca26\"],[1.0,\"#f0f921\"]]}],\"heatmap\":[{\"type\":\"heatmap\",\"colorbar\":{\"outlinewidth\":0,\"ticks\":\"\"},\"colorscale\":[[0.0,\"#0d0887\"],[0.1111111111111111,\"#46039f\"],[0.2222222222222222,\"#7201a8\"],[0.3333333333333333,\"#9c179e\"],[0.4444444444444444,\"#bd3786\"],[0.5555555555555556,\"#d8576b\"],[0.6666666666666666,\"#ed7953\"],[0.7777777777777778,\"#fb9f3a\"],[0.8888888888888888,\"#fdca26\"],[1.0,\"#f0f921\"]]}],\"heatmapgl\":[{\"type\":\"heatmapgl\",\"colorbar\":{\"outlinewidth\":0,\"ticks\":\"\"},\"colorscale\":[[0.0,\"#0d0887\"],[0.1111111111111111,\"#46039f\"],[0.2222222222222222,\"#7201a8\"],[0.3333333333333333,\"#9c179e\"],[0.4444444444444444,\"#bd3786\"],[0.5555555555555556,\"#d8576b\"],[0.6666666666666666,\"#ed7953\"],[0.7777777777777778,\"#fb9f3a\"],[0.8888888888888888,\"#fdca26\"],[1.0,\"#f0f921\"]]}],\"contourcarpet\":[{\"type\":\"contourcarpet\",\"colorbar\":{\"outlinewidth\":0,\"ticks\":\"\"}}],\"contour\":[{\"type\":\"contour\",\"colorbar\":{\"outlinewidth\":0,\"ticks\":\"\"},\"colorscale\":[[0.0,\"#0d0887\"],[0.1111111111111111,\"#46039f\"],[0.2222222222222222,\"#7201a8\"],[0.3333333333333333,\"#9c179e\"],[0.4444444444444444,\"#bd3786\"],[0.5555555555555556,\"#d8576b\"],[0.6666666666666666,\"#ed7953\"],[0.7777777777777778,\"#fb9f3a\"],[0.8888888888888888,\"#fdca26\"],[1.0,\"#f0f921\"]]}],\"surface\":[{\"type\":\"surface\",\"colorbar\":{\"outlinewidth\":0,\"ticks\":\"\"},\"colorscale\":[[0.0,\"#0d0887\"],[0.1111111111111111,\"#46039f\"],[0.2222222222222222,\"#7201a8\"],[0.3333333333333333,\"#9c179e\"],[0.4444444444444444,\"#bd3786\"],[0.5555555555555556,\"#d8576b\"],[0.6666666666666666,\"#ed7953\"],[0.7777777777777778,\"#fb9f3a\"],[0.8888888888888888,\"#fdca26\"],[1.0,\"#f0f921\"]]}],\"mesh3d\":[{\"type\":\"mesh3d\",\"colorbar\":{\"outlinewidth\":0,\"ticks\":\"\"}}],\"scatter\":[{\"fillpattern\":{\"fillmode\":\"overlay\",\"size\":10,\"solidity\":0.2},\"type\":\"scatter\"}],\"parcoords\":[{\"type\":\"parcoords\",\"line\":{\"colorbar\":{\"outlinewidth\":0,\"ticks\":\"\"}}}],\"scatterpolargl\":[{\"type\":\"scatterpolargl\",\"marker\":{\"colorbar\":{\"outlinewidth\":0,\"ticks\":\"\"}}}],\"bar\":[{\"error_x\":{\"color\":\"#2a3f5f\"},\"error_y\":{\"color\":\"#2a3f5f\"},\"marker\":{\"line\":{\"color\":\"#E5ECF6\",\"width\":0.5},\"pattern\":{\"fillmode\":\"overlay\",\"size\":10,\"solidity\":0.2}},\"type\":\"bar\"}],\"scattergeo\":[{\"type\":\"scattergeo\",\"marker\":{\"colorbar\":{\"outlinewidth\":0,\"ticks\":\"\"}}}],\"scatterpolar\":[{\"type\":\"scatterpolar\",\"marker\":{\"colorbar\":{\"outlinewidth\":0,\"ticks\":\"\"}}}],\"histogram\":[{\"marker\":{\"pattern\":{\"fillmode\":\"overlay\",\"size\":10,\"solidity\":0.2}},\"type\":\"histogram\"}],\"scattergl\":[{\"type\":\"scattergl\",\"marker\":{\"colorbar\":{\"outlinewidth\":0,\"ticks\":\"\"}}}],\"scatter3d\":[{\"type\":\"scatter3d\",\"line\":{\"colorbar\":{\"outlinewidth\":0,\"ticks\":\"\"}},\"marker\":{\"colorbar\":{\"outlinewidth\":0,\"ticks\":\"\"}}}],\"scattermapbox\":[{\"type\":\"scattermapbox\",\"marker\":{\"colorbar\":{\"outlinewidth\":0,\"ticks\":\"\"}}}],\"scatterternary\":[{\"type\":\"scatterternary\",\"marker\":{\"colorbar\":{\"outlinewidth\":0,\"ticks\":\"\"}}}],\"scattercarpet\":[{\"type\":\"scattercarpet\",\"marker\":{\"colorbar\":{\"outlinewidth\":0,\"ticks\":\"\"}}}],\"carpet\":[{\"aaxis\":{\"endlinecolor\":\"#2a3f5f\",\"gridcolor\":\"white\",\"linecolor\":\"white\",\"minorgridcolor\":\"white\",\"startlinecolor\":\"#2a3f5f\"},\"baxis\":{\"endlinecolor\":\"#2a3f5f\",\"gridcolor\":\"white\",\"linecolor\":\"white\",\"minorgridcolor\":\"white\",\"startlinecolor\":\"#2a3f5f\"},\"type\":\"carpet\"}],\"table\":[{\"cells\":{\"fill\":{\"color\":\"#EBF0F8\"},\"line\":{\"color\":\"white\"}},\"header\":{\"fill\":{\"color\":\"#C8D4E3\"},\"line\":{\"color\":\"white\"}},\"type\":\"table\"}],\"barpolar\":[{\"marker\":{\"line\":{\"color\":\"#E5ECF6\",\"width\":0.5},\"pattern\":{\"fillmode\":\"overlay\",\"size\":10,\"solidity\":0.2}},\"type\":\"barpolar\"}],\"pie\":[{\"automargin\":true,\"type\":\"pie\"}]},\"layout\":{\"autotypenumbers\":\"strict\",\"colorway\":[\"#636efa\",\"#EF553B\",\"#00cc96\",\"#ab63fa\",\"#FFA15A\",\"#19d3f3\",\"#FF6692\",\"#B6E880\",\"#FF97FF\",\"#FECB52\"],\"font\":{\"color\":\"#2a3f5f\"},\"hovermode\":\"closest\",\"hoverlabel\":{\"align\":\"left\"},\"paper_bgcolor\":\"white\",\"plot_bgcolor\":\"#E5ECF6\",\"polar\":{\"bgcolor\":\"#E5ECF6\",\"angularaxis\":{\"gridcolor\":\"white\",\"linecolor\":\"white\",\"ticks\":\"\"},\"radialaxis\":{\"gridcolor\":\"white\",\"linecolor\":\"white\",\"ticks\":\"\"}},\"ternary\":{\"bgcolor\":\"#E5ECF6\",\"aaxis\":{\"gridcolor\":\"white\",\"linecolor\":\"white\",\"ticks\":\"\"},\"baxis\":{\"gridcolor\":\"white\",\"linecolor\":\"white\",\"ticks\":\"\"},\"caxis\":{\"gridcolor\":\"white\",\"linecolor\":\"white\",\"ticks\":\"\"}},\"coloraxis\":{\"colorbar\":{\"outlinewidth\":0,\"ticks\":\"\"}},\"colorscale\":{\"sequential\":[[0.0,\"#0d0887\"],[0.1111111111111111,\"#46039f\"],[0.2222222222222222,\"#7201a8\"],[0.3333333333333333,\"#9c179e\"],[0.4444444444444444,\"#bd3786\"],[0.5555555555555556,\"#d8576b\"],[0.6666666666666666,\"#ed7953\"],[0.7777777777777778,\"#fb9f3a\"],[0.8888888888888888,\"#fdca26\"],[1.0,\"#f0f921\"]],\"sequentialminus\":[[0.0,\"#0d0887\"],[0.1111111111111111,\"#46039f\"],[0.2222222222222222,\"#7201a8\"],[0.3333333333333333,\"#9c179e\"],[0.4444444444444444,\"#bd3786\"],[0.5555555555555556,\"#d8576b\"],[0.6666666666666666,\"#ed7953\"],[0.7777777777777778,\"#fb9f3a\"],[0.8888888888888888,\"#fdca26\"],[1.0,\"#f0f921\"]],\"diverging\":[[0,\"#8e0152\"],[0.1,\"#c51b7d\"],[0.2,\"#de77ae\"],[0.3,\"#f1b6da\"],[0.4,\"#fde0ef\"],[0.5,\"#f7f7f7\"],[0.6,\"#e6f5d0\"],[0.7,\"#b8e186\"],[0.8,\"#7fbc41\"],[0.9,\"#4d9221\"],[1,\"#276419\"]]},\"xaxis\":{\"gridcolor\":\"white\",\"linecolor\":\"white\",\"ticks\":\"\",\"title\":{\"standoff\":15},\"zerolinecolor\":\"white\",\"automargin\":true,\"zerolinewidth\":2},\"yaxis\":{\"gridcolor\":\"white\",\"linecolor\":\"white\",\"ticks\":\"\",\"title\":{\"standoff\":15},\"zerolinecolor\":\"white\",\"automargin\":true,\"zerolinewidth\":2},\"scene\":{\"xaxis\":{\"backgroundcolor\":\"#E5ECF6\",\"gridcolor\":\"white\",\"linecolor\":\"white\",\"showbackground\":true,\"ticks\":\"\",\"zerolinecolor\":\"white\",\"gridwidth\":2},\"yaxis\":{\"backgroundcolor\":\"#E5ECF6\",\"gridcolor\":\"white\",\"linecolor\":\"white\",\"showbackground\":true,\"ticks\":\"\",\"zerolinecolor\":\"white\",\"gridwidth\":2},\"zaxis\":{\"backgroundcolor\":\"#E5ECF6\",\"gridcolor\":\"white\",\"linecolor\":\"white\",\"showbackground\":true,\"ticks\":\"\",\"zerolinecolor\":\"white\",\"gridwidth\":2}},\"shapedefaults\":{\"line\":{\"color\":\"#2a3f5f\"}},\"annotationdefaults\":{\"arrowcolor\":\"#2a3f5f\",\"arrowhead\":0,\"arrowwidth\":1},\"geo\":{\"bgcolor\":\"white\",\"landcolor\":\"#E5ECF6\",\"subunitcolor\":\"white\",\"showland\":true,\"showlakes\":true,\"lakecolor\":\"white\"},\"title\":{\"x\":0.05},\"mapbox\":{\"style\":\"light\"}}},\"xaxis\":{\"anchor\":\"y\",\"domain\":[0.0,1.0],\"title\":{\"text\":\"More_events about Cloud Counselage Pvt. Ltd. events\"},\"categoryorder\":\"array\",\"categoryarray\":[\"no\",\"yes\"]},\"yaxis\":{\"anchor\":\"x\",\"domain\":[0.0,1.0],\"title\":{\"text\":\"count\"}},\"legend\":{\"title\":{\"text\":\"More_events\"},\"tracegroupgap\":0},\"title\":{\"text\":\"Count of Attendee by which whether they want to know more about Cloud Counselage events\"},\"barmode\":\"relative\"},                        {\"responsive\": true}                    ).then(function(){\n",
              "                            \n",
              "var gd = document.getElementById('da7a78e5-9689-4d84-b362-8df2a7869ec3');\n",
              "var x = new MutationObserver(function (mutations, observer) {{\n",
              "        var display = window.getComputedStyle(gd).display;\n",
              "        if (!display || display === 'none') {{\n",
              "            console.log([gd, 'removed!']);\n",
              "            Plotly.purge(gd);\n",
              "            observer.disconnect();\n",
              "        }}\n",
              "}});\n",
              "\n",
              "// Listen for the removal of the full notebook cells\n",
              "var notebookContainer = gd.closest('#notebook-container');\n",
              "if (notebookContainer) {{\n",
              "    x.observe(notebookContainer, {childList: true});\n",
              "}}\n",
              "\n",
              "// Listen for the clearing of the current output cell\n",
              "var outputEl = gd.closest('.output');\n",
              "if (outputEl) {{\n",
              "    x.observe(outputEl, {childList: true});\n",
              "}}\n",
              "\n",
              "                        })                };                            </script>        </div>\n",
              "</body>\n",
              "</html>"
            ]
          },
          "metadata": {},
          "output_type": "display_data"
        }
      ],
      "source": [
        "more_events = final_df['Are you interested in knowing more about our events?'].value_counts().keys()\n",
        "count = final_df['Are you interested in knowing more about our events?'].value_counts().values\n",
        "labels = [str(val) for val in count]\n",
        "\n",
        "more_events_plot_df = pd.DataFrame({\n",
        "    'More_events': more_events,\n",
        "    'Count': count,\n",
        "})\n",
        "\n",
        "fig = px.bar(more_events_plot_df, x='More_events', y='Count', text=labels, title='Count of Attendee by which whether they want to know more about Cloud Counselage events', template='plotly',color='More_events', color_discrete_sequence=px.colors.qualitative.Plotly)\n",
        "\n",
        "# Set the labels for the y-axis and x-axis\n",
        "fig.update_yaxes(title_text='count')\n",
        "fig.update_xaxes(title_text='More_events about Cloud Counselage Pvt. Ltd. events')\n",
        "\n",
        "# Show the plot\n",
        "fig.show()"
      ]
    },
    {
      "cell_type": "code",
      "execution_count": 29,
      "id": "69e2d272",
      "metadata": {
        "colab": {
          "base_uri": "https://localhost:8080/",
          "height": 542
        },
        "id": "69e2d272",
        "outputId": "a6948b3e-6f65-439f-ed74-51461489fa4e"
      },
      "outputs": [
        {
          "data": {
            "text/html": [
              "<html>\n",
              "<head><meta charset=\"utf-8\" /></head>\n",
              "<body>\n",
              "    <div>            <script src=\"https://cdnjs.cloudflare.com/ajax/libs/mathjax/2.7.5/MathJax.js?config=TeX-AMS-MML_SVG\"></script><script type=\"text/javascript\">if (window.MathJax && window.MathJax.Hub && window.MathJax.Hub.Config) {window.MathJax.Hub.Config({SVG: {font: \"STIX-Web\"}});}</script>                <script type=\"text/javascript\">window.PlotlyConfig = {MathJaxConfig: 'local'};</script>\n",
              "        <script charset=\"utf-8\" src=\"https://cdn.plot.ly/plotly-2.24.1.min.js\"></script>                <div id=\"181a3926-e73b-4708-8509-0b563f674a5f\" class=\"plotly-graph-div\" style=\"height:525px; width:100%;\"></div>            <script type=\"text/javascript\">                                    window.PLOTLYENV=window.PLOTLYENV || {};                                    if (document.getElementById(\"181a3926-e73b-4708-8509-0b563f674a5f\")) {                    Plotly.newPlot(                        \"181a3926-e73b-4708-8509-0b563f674a5f\",                        [{\"alignmentgroup\":\"True\",\"hovertemplate\":\"Recommend=%{x}\\u003cbr\\u003eCount=%{y}\\u003cbr\\u003etext=%{text}\\u003cextra\\u003e\\u003c\\u002fextra\\u003e\",\"legendgroup\":\"no\",\"marker\":{\"color\":\"#636EFA\",\"pattern\":{\"shape\":\"\"}},\"name\":\"no\",\"offsetgroup\":\"no\",\"orientation\":\"v\",\"showlegend\":true,\"text\":[\"2761\"],\"textposition\":\"auto\",\"x\":[\"no\"],\"xaxis\":\"x\",\"y\":[2761],\"yaxis\":\"y\",\"type\":\"bar\"},{\"alignmentgroup\":\"True\",\"hovertemplate\":\"Recommend=%{x}\\u003cbr\\u003eCount=%{y}\\u003cbr\\u003etext=%{text}\\u003cextra\\u003e\\u003c\\u002fextra\\u003e\",\"legendgroup\":\"yes\",\"marker\":{\"color\":\"#EF553B\",\"pattern\":{\"shape\":\"\"}},\"name\":\"yes\",\"offsetgroup\":\"yes\",\"orientation\":\"v\",\"showlegend\":true,\"text\":[\"47\"],\"textposition\":\"auto\",\"x\":[\"yes\"],\"xaxis\":\"x\",\"y\":[47],\"yaxis\":\"y\",\"type\":\"bar\"}],                        {\"template\":{\"data\":{\"histogram2dcontour\":[{\"type\":\"histogram2dcontour\",\"colorbar\":{\"outlinewidth\":0,\"ticks\":\"\"},\"colorscale\":[[0.0,\"#0d0887\"],[0.1111111111111111,\"#46039f\"],[0.2222222222222222,\"#7201a8\"],[0.3333333333333333,\"#9c179e\"],[0.4444444444444444,\"#bd3786\"],[0.5555555555555556,\"#d8576b\"],[0.6666666666666666,\"#ed7953\"],[0.7777777777777778,\"#fb9f3a\"],[0.8888888888888888,\"#fdca26\"],[1.0,\"#f0f921\"]]}],\"choropleth\":[{\"type\":\"choropleth\",\"colorbar\":{\"outlinewidth\":0,\"ticks\":\"\"}}],\"histogram2d\":[{\"type\":\"histogram2d\",\"colorbar\":{\"outlinewidth\":0,\"ticks\":\"\"},\"colorscale\":[[0.0,\"#0d0887\"],[0.1111111111111111,\"#46039f\"],[0.2222222222222222,\"#7201a8\"],[0.3333333333333333,\"#9c179e\"],[0.4444444444444444,\"#bd3786\"],[0.5555555555555556,\"#d8576b\"],[0.6666666666666666,\"#ed7953\"],[0.7777777777777778,\"#fb9f3a\"],[0.8888888888888888,\"#fdca26\"],[1.0,\"#f0f921\"]]}],\"heatmap\":[{\"type\":\"heatmap\",\"colorbar\":{\"outlinewidth\":0,\"ticks\":\"\"},\"colorscale\":[[0.0,\"#0d0887\"],[0.1111111111111111,\"#46039f\"],[0.2222222222222222,\"#7201a8\"],[0.3333333333333333,\"#9c179e\"],[0.4444444444444444,\"#bd3786\"],[0.5555555555555556,\"#d8576b\"],[0.6666666666666666,\"#ed7953\"],[0.7777777777777778,\"#fb9f3a\"],[0.8888888888888888,\"#fdca26\"],[1.0,\"#f0f921\"]]}],\"heatmapgl\":[{\"type\":\"heatmapgl\",\"colorbar\":{\"outlinewidth\":0,\"ticks\":\"\"},\"colorscale\":[[0.0,\"#0d0887\"],[0.1111111111111111,\"#46039f\"],[0.2222222222222222,\"#7201a8\"],[0.3333333333333333,\"#9c179e\"],[0.4444444444444444,\"#bd3786\"],[0.5555555555555556,\"#d8576b\"],[0.6666666666666666,\"#ed7953\"],[0.7777777777777778,\"#fb9f3a\"],[0.8888888888888888,\"#fdca26\"],[1.0,\"#f0f921\"]]}],\"contourcarpet\":[{\"type\":\"contourcarpet\",\"colorbar\":{\"outlinewidth\":0,\"ticks\":\"\"}}],\"contour\":[{\"type\":\"contour\",\"colorbar\":{\"outlinewidth\":0,\"ticks\":\"\"},\"colorscale\":[[0.0,\"#0d0887\"],[0.1111111111111111,\"#46039f\"],[0.2222222222222222,\"#7201a8\"],[0.3333333333333333,\"#9c179e\"],[0.4444444444444444,\"#bd3786\"],[0.5555555555555556,\"#d8576b\"],[0.6666666666666666,\"#ed7953\"],[0.7777777777777778,\"#fb9f3a\"],[0.8888888888888888,\"#fdca26\"],[1.0,\"#f0f921\"]]}],\"surface\":[{\"type\":\"surface\",\"colorbar\":{\"outlinewidth\":0,\"ticks\":\"\"},\"colorscale\":[[0.0,\"#0d0887\"],[0.1111111111111111,\"#46039f\"],[0.2222222222222222,\"#7201a8\"],[0.3333333333333333,\"#9c179e\"],[0.4444444444444444,\"#bd3786\"],[0.5555555555555556,\"#d8576b\"],[0.6666666666666666,\"#ed7953\"],[0.7777777777777778,\"#fb9f3a\"],[0.8888888888888888,\"#fdca26\"],[1.0,\"#f0f921\"]]}],\"mesh3d\":[{\"type\":\"mesh3d\",\"colorbar\":{\"outlinewidth\":0,\"ticks\":\"\"}}],\"scatter\":[{\"fillpattern\":{\"fillmode\":\"overlay\",\"size\":10,\"solidity\":0.2},\"type\":\"scatter\"}],\"parcoords\":[{\"type\":\"parcoords\",\"line\":{\"colorbar\":{\"outlinewidth\":0,\"ticks\":\"\"}}}],\"scatterpolargl\":[{\"type\":\"scatterpolargl\",\"marker\":{\"colorbar\":{\"outlinewidth\":0,\"ticks\":\"\"}}}],\"bar\":[{\"error_x\":{\"color\":\"#2a3f5f\"},\"error_y\":{\"color\":\"#2a3f5f\"},\"marker\":{\"line\":{\"color\":\"#E5ECF6\",\"width\":0.5},\"pattern\":{\"fillmode\":\"overlay\",\"size\":10,\"solidity\":0.2}},\"type\":\"bar\"}],\"scattergeo\":[{\"type\":\"scattergeo\",\"marker\":{\"colorbar\":{\"outlinewidth\":0,\"ticks\":\"\"}}}],\"scatterpolar\":[{\"type\":\"scatterpolar\",\"marker\":{\"colorbar\":{\"outlinewidth\":0,\"ticks\":\"\"}}}],\"histogram\":[{\"marker\":{\"pattern\":{\"fillmode\":\"overlay\",\"size\":10,\"solidity\":0.2}},\"type\":\"histogram\"}],\"scattergl\":[{\"type\":\"scattergl\",\"marker\":{\"colorbar\":{\"outlinewidth\":0,\"ticks\":\"\"}}}],\"scatter3d\":[{\"type\":\"scatter3d\",\"line\":{\"colorbar\":{\"outlinewidth\":0,\"ticks\":\"\"}},\"marker\":{\"colorbar\":{\"outlinewidth\":0,\"ticks\":\"\"}}}],\"scattermapbox\":[{\"type\":\"scattermapbox\",\"marker\":{\"colorbar\":{\"outlinewidth\":0,\"ticks\":\"\"}}}],\"scatterternary\":[{\"type\":\"scatterternary\",\"marker\":{\"colorbar\":{\"outlinewidth\":0,\"ticks\":\"\"}}}],\"scattercarpet\":[{\"type\":\"scattercarpet\",\"marker\":{\"colorbar\":{\"outlinewidth\":0,\"ticks\":\"\"}}}],\"carpet\":[{\"aaxis\":{\"endlinecolor\":\"#2a3f5f\",\"gridcolor\":\"white\",\"linecolor\":\"white\",\"minorgridcolor\":\"white\",\"startlinecolor\":\"#2a3f5f\"},\"baxis\":{\"endlinecolor\":\"#2a3f5f\",\"gridcolor\":\"white\",\"linecolor\":\"white\",\"minorgridcolor\":\"white\",\"startlinecolor\":\"#2a3f5f\"},\"type\":\"carpet\"}],\"table\":[{\"cells\":{\"fill\":{\"color\":\"#EBF0F8\"},\"line\":{\"color\":\"white\"}},\"header\":{\"fill\":{\"color\":\"#C8D4E3\"},\"line\":{\"color\":\"white\"}},\"type\":\"table\"}],\"barpolar\":[{\"marker\":{\"line\":{\"color\":\"#E5ECF6\",\"width\":0.5},\"pattern\":{\"fillmode\":\"overlay\",\"size\":10,\"solidity\":0.2}},\"type\":\"barpolar\"}],\"pie\":[{\"automargin\":true,\"type\":\"pie\"}]},\"layout\":{\"autotypenumbers\":\"strict\",\"colorway\":[\"#636efa\",\"#EF553B\",\"#00cc96\",\"#ab63fa\",\"#FFA15A\",\"#19d3f3\",\"#FF6692\",\"#B6E880\",\"#FF97FF\",\"#FECB52\"],\"font\":{\"color\":\"#2a3f5f\"},\"hovermode\":\"closest\",\"hoverlabel\":{\"align\":\"left\"},\"paper_bgcolor\":\"white\",\"plot_bgcolor\":\"#E5ECF6\",\"polar\":{\"bgcolor\":\"#E5ECF6\",\"angularaxis\":{\"gridcolor\":\"white\",\"linecolor\":\"white\",\"ticks\":\"\"},\"radialaxis\":{\"gridcolor\":\"white\",\"linecolor\":\"white\",\"ticks\":\"\"}},\"ternary\":{\"bgcolor\":\"#E5ECF6\",\"aaxis\":{\"gridcolor\":\"white\",\"linecolor\":\"white\",\"ticks\":\"\"},\"baxis\":{\"gridcolor\":\"white\",\"linecolor\":\"white\",\"ticks\":\"\"},\"caxis\":{\"gridcolor\":\"white\",\"linecolor\":\"white\",\"ticks\":\"\"}},\"coloraxis\":{\"colorbar\":{\"outlinewidth\":0,\"ticks\":\"\"}},\"colorscale\":{\"sequential\":[[0.0,\"#0d0887\"],[0.1111111111111111,\"#46039f\"],[0.2222222222222222,\"#7201a8\"],[0.3333333333333333,\"#9c179e\"],[0.4444444444444444,\"#bd3786\"],[0.5555555555555556,\"#d8576b\"],[0.6666666666666666,\"#ed7953\"],[0.7777777777777778,\"#fb9f3a\"],[0.8888888888888888,\"#fdca26\"],[1.0,\"#f0f921\"]],\"sequentialminus\":[[0.0,\"#0d0887\"],[0.1111111111111111,\"#46039f\"],[0.2222222222222222,\"#7201a8\"],[0.3333333333333333,\"#9c179e\"],[0.4444444444444444,\"#bd3786\"],[0.5555555555555556,\"#d8576b\"],[0.6666666666666666,\"#ed7953\"],[0.7777777777777778,\"#fb9f3a\"],[0.8888888888888888,\"#fdca26\"],[1.0,\"#f0f921\"]],\"diverging\":[[0,\"#8e0152\"],[0.1,\"#c51b7d\"],[0.2,\"#de77ae\"],[0.3,\"#f1b6da\"],[0.4,\"#fde0ef\"],[0.5,\"#f7f7f7\"],[0.6,\"#e6f5d0\"],[0.7,\"#b8e186\"],[0.8,\"#7fbc41\"],[0.9,\"#4d9221\"],[1,\"#276419\"]]},\"xaxis\":{\"gridcolor\":\"white\",\"linecolor\":\"white\",\"ticks\":\"\",\"title\":{\"standoff\":15},\"zerolinecolor\":\"white\",\"automargin\":true,\"zerolinewidth\":2},\"yaxis\":{\"gridcolor\":\"white\",\"linecolor\":\"white\",\"ticks\":\"\",\"title\":{\"standoff\":15},\"zerolinecolor\":\"white\",\"automargin\":true,\"zerolinewidth\":2},\"scene\":{\"xaxis\":{\"backgroundcolor\":\"#E5ECF6\",\"gridcolor\":\"white\",\"linecolor\":\"white\",\"showbackground\":true,\"ticks\":\"\",\"zerolinecolor\":\"white\",\"gridwidth\":2},\"yaxis\":{\"backgroundcolor\":\"#E5ECF6\",\"gridcolor\":\"white\",\"linecolor\":\"white\",\"showbackground\":true,\"ticks\":\"\",\"zerolinecolor\":\"white\",\"gridwidth\":2},\"zaxis\":{\"backgroundcolor\":\"#E5ECF6\",\"gridcolor\":\"white\",\"linecolor\":\"white\",\"showbackground\":true,\"ticks\":\"\",\"zerolinecolor\":\"white\",\"gridwidth\":2}},\"shapedefaults\":{\"line\":{\"color\":\"#2a3f5f\"}},\"annotationdefaults\":{\"arrowcolor\":\"#2a3f5f\",\"arrowhead\":0,\"arrowwidth\":1},\"geo\":{\"bgcolor\":\"white\",\"landcolor\":\"#E5ECF6\",\"subunitcolor\":\"white\",\"showland\":true,\"showlakes\":true,\"lakecolor\":\"white\"},\"title\":{\"x\":0.05},\"mapbox\":{\"style\":\"light\"}}},\"xaxis\":{\"anchor\":\"y\",\"domain\":[0.0,1.0],\"title\":{\"text\":\"Recommended Cloud Counselage Pvt. Ltd.\"},\"categoryorder\":\"array\",\"categoryarray\":[\"no\",\"yes\"]},\"yaxis\":{\"anchor\":\"x\",\"domain\":[0.0,1.0],\"title\":{\"text\":\"count\"}},\"legend\":{\"title\":{\"text\":\"Recommend\"},\"tracegroupgap\":0},\"title\":{\"text\":\"Count of Attendee by which whether they have Recommended Cloud Counselage\"},\"barmode\":\"relative\"},                        {\"responsive\": true}                    ).then(function(){\n",
              "                            \n",
              "var gd = document.getElementById('181a3926-e73b-4708-8509-0b563f674a5f');\n",
              "var x = new MutationObserver(function (mutations, observer) {{\n",
              "        var display = window.getComputedStyle(gd).display;\n",
              "        if (!display || display === 'none') {{\n",
              "            console.log([gd, 'removed!']);\n",
              "            Plotly.purge(gd);\n",
              "            observer.disconnect();\n",
              "        }}\n",
              "}});\n",
              "\n",
              "// Listen for the removal of the full notebook cells\n",
              "var notebookContainer = gd.closest('#notebook-container');\n",
              "if (notebookContainer) {{\n",
              "    x.observe(notebookContainer, {childList: true});\n",
              "}}\n",
              "\n",
              "// Listen for the clearing of the current output cell\n",
              "var outputEl = gd.closest('.output');\n",
              "if (outputEl) {{\n",
              "    x.observe(outputEl, {childList: true});\n",
              "}}\n",
              "\n",
              "                        })                };                            </script>        </div>\n",
              "</body>\n",
              "</html>"
            ]
          },
          "metadata": {},
          "output_type": "display_data"
        }
      ],
      "source": [
        "recommend = final_df['Have you recommended Cloud Counselage to anyone?'].value_counts().keys()\n",
        "count = final_df['Have you recommended Cloud Counselage to anyone?'].value_counts().values\n",
        "labels = [str(val) for val in count]\n",
        "\n",
        "recommend_plot_df = pd.DataFrame({\n",
        "    'Recommend': recommend,\n",
        "    'Count': count,\n",
        "})\n",
        "\n",
        "fig = px.bar(recommend_plot_df, x='Recommend', y='Count', text=labels, title='Count of Attendee by which whether they have Recommended Cloud Counselage', template='plotly',color='Recommend', color_discrete_sequence=px.colors.qualitative.Plotly)\n",
        "\n",
        "# Set the labels for the y-axis and x-axis\n",
        "fig.update_yaxes(title_text='count')\n",
        "fig.update_xaxes(title_text='Recommended Cloud Counselage Pvt. Ltd.')\n",
        "\n",
        "# Show the plot\n",
        "fig.show()"
      ]
    },
    {
      "cell_type": "code",
      "execution_count": 30,
      "id": "5a7fddaf",
      "metadata": {
        "colab": {
          "base_uri": "https://localhost:8080/",
          "height": 542
        },
        "id": "5a7fddaf",
        "outputId": "ac5b4eb8-4ce1-4f12-c23f-29e47d7e202c"
      },
      "outputs": [
        {
          "data": {
            "text/html": [
              "<html>\n",
              "<head><meta charset=\"utf-8\" /></head>\n",
              "<body>\n",
              "    <div>            <script src=\"https://cdnjs.cloudflare.com/ajax/libs/mathjax/2.7.5/MathJax.js?config=TeX-AMS-MML_SVG\"></script><script type=\"text/javascript\">if (window.MathJax && window.MathJax.Hub && window.MathJax.Hub.Config) {window.MathJax.Hub.Config({SVG: {font: \"STIX-Web\"}});}</script>                <script type=\"text/javascript\">window.PlotlyConfig = {MathJaxConfig: 'local'};</script>\n",
              "        <script charset=\"utf-8\" src=\"https://cdn.plot.ly/plotly-2.24.1.min.js\"></script>                <div id=\"ab2f7529-f1c2-4a41-b3c3-f7d009f740bc\" class=\"plotly-graph-div\" style=\"height:525px; width:100%;\"></div>            <script type=\"text/javascript\">                                    window.PLOTLYENV=window.PLOTLYENV || {};                                    if (document.getElementById(\"ab2f7529-f1c2-4a41-b3c3-f7d009f740bc\")) {                    Plotly.newPlot(                        \"ab2f7529-f1c2-4a41-b3c3-f7d009f740bc\",                        [{\"alignmentgroup\":\"True\",\"hovertemplate\":\"Event_info=%{x}\\u003cbr\\u003eCount=%{y}\\u003cbr\\u003etext=%{text}\\u003cextra\\u003e\\u003c\\u002fextra\\u003e\",\"legendgroup\":\"Other\",\"marker\":{\"color\":\"#636EFA\",\"pattern\":{\"shape\":\"\"}},\"name\":\"Other\",\"offsetgroup\":\"Other\",\"orientation\":\"v\",\"showlegend\":true,\"text\":[\"38\"],\"textposition\":\"auto\",\"x\":[\"Other\"],\"xaxis\":\"x\",\"y\":[38],\"yaxis\":\"y\",\"type\":\"bar\"},{\"alignmentgroup\":\"True\",\"hovertemplate\":\"Event_info=%{x}\\u003cbr\\u003eCount=%{y}\\u003cbr\\u003etext=%{text}\\u003cextra\\u003e\\u003c\\u002fextra\\u003e\",\"legendgroup\":\"Whatsapp\",\"marker\":{\"color\":\"#EF553B\",\"pattern\":{\"shape\":\"\"}},\"name\":\"Whatsapp\",\"offsetgroup\":\"Whatsapp\",\"orientation\":\"v\",\"showlegend\":true,\"text\":[\"36\"],\"textposition\":\"auto\",\"x\":[\"Whatsapp\"],\"xaxis\":\"x\",\"y\":[36],\"yaxis\":\"y\",\"type\":\"bar\"},{\"alignmentgroup\":\"True\",\"hovertemplate\":\"Event_info=%{x}\\u003cbr\\u003eCount=%{y}\\u003cbr\\u003etext=%{text}\\u003cextra\\u003e\\u003c\\u002fextra\\u003e\",\"legendgroup\":\"LinkedIn\",\"marker\":{\"color\":\"#00CC96\",\"pattern\":{\"shape\":\"\"}},\"name\":\"LinkedIn\",\"offsetgroup\":\"LinkedIn\",\"orientation\":\"v\",\"showlegend\":true,\"text\":[\"14\"],\"textposition\":\"auto\",\"x\":[\"LinkedIn\"],\"xaxis\":\"x\",\"y\":[14],\"yaxis\":\"y\",\"type\":\"bar\"},{\"alignmentgroup\":\"True\",\"hovertemplate\":\"Event_info=%{x}\\u003cbr\\u003eCount=%{y}\\u003cbr\\u003etext=%{text}\\u003cextra\\u003e\\u003c\\u002fextra\\u003e\",\"legendgroup\":\"Instagram\",\"marker\":{\"color\":\"#AB63FA\",\"pattern\":{\"shape\":\"\"}},\"name\":\"Instagram\",\"offsetgroup\":\"Instagram\",\"orientation\":\"v\",\"showlegend\":true,\"text\":[\"12\"],\"textposition\":\"auto\",\"x\":[\"Instagram\"],\"xaxis\":\"x\",\"y\":[12],\"yaxis\":\"y\",\"type\":\"bar\"},{\"alignmentgroup\":\"True\",\"hovertemplate\":\"Event_info=%{x}\\u003cbr\\u003eCount=%{y}\\u003cbr\\u003etext=%{text}\\u003cextra\\u003e\\u003c\\u002fextra\\u003e\",\"legendgroup\":\"Facebook\",\"marker\":{\"color\":\"#FFA15A\",\"pattern\":{\"shape\":\"\"}},\"name\":\"Facebook\",\"offsetgroup\":\"Facebook\",\"orientation\":\"v\",\"showlegend\":true,\"text\":[\"1\"],\"textposition\":\"auto\",\"x\":[\"Facebook\"],\"xaxis\":\"x\",\"y\":[1],\"yaxis\":\"y\",\"type\":\"bar\"}],                        {\"template\":{\"data\":{\"histogram2dcontour\":[{\"type\":\"histogram2dcontour\",\"colorbar\":{\"outlinewidth\":0,\"ticks\":\"\"},\"colorscale\":[[0.0,\"#0d0887\"],[0.1111111111111111,\"#46039f\"],[0.2222222222222222,\"#7201a8\"],[0.3333333333333333,\"#9c179e\"],[0.4444444444444444,\"#bd3786\"],[0.5555555555555556,\"#d8576b\"],[0.6666666666666666,\"#ed7953\"],[0.7777777777777778,\"#fb9f3a\"],[0.8888888888888888,\"#fdca26\"],[1.0,\"#f0f921\"]]}],\"choropleth\":[{\"type\":\"choropleth\",\"colorbar\":{\"outlinewidth\":0,\"ticks\":\"\"}}],\"histogram2d\":[{\"type\":\"histogram2d\",\"colorbar\":{\"outlinewidth\":0,\"ticks\":\"\"},\"colorscale\":[[0.0,\"#0d0887\"],[0.1111111111111111,\"#46039f\"],[0.2222222222222222,\"#7201a8\"],[0.3333333333333333,\"#9c179e\"],[0.4444444444444444,\"#bd3786\"],[0.5555555555555556,\"#d8576b\"],[0.6666666666666666,\"#ed7953\"],[0.7777777777777778,\"#fb9f3a\"],[0.8888888888888888,\"#fdca26\"],[1.0,\"#f0f921\"]]}],\"heatmap\":[{\"type\":\"heatmap\",\"colorbar\":{\"outlinewidth\":0,\"ticks\":\"\"},\"colorscale\":[[0.0,\"#0d0887\"],[0.1111111111111111,\"#46039f\"],[0.2222222222222222,\"#7201a8\"],[0.3333333333333333,\"#9c179e\"],[0.4444444444444444,\"#bd3786\"],[0.5555555555555556,\"#d8576b\"],[0.6666666666666666,\"#ed7953\"],[0.7777777777777778,\"#fb9f3a\"],[0.8888888888888888,\"#fdca26\"],[1.0,\"#f0f921\"]]}],\"heatmapgl\":[{\"type\":\"heatmapgl\",\"colorbar\":{\"outlinewidth\":0,\"ticks\":\"\"},\"colorscale\":[[0.0,\"#0d0887\"],[0.1111111111111111,\"#46039f\"],[0.2222222222222222,\"#7201a8\"],[0.3333333333333333,\"#9c179e\"],[0.4444444444444444,\"#bd3786\"],[0.5555555555555556,\"#d8576b\"],[0.6666666666666666,\"#ed7953\"],[0.7777777777777778,\"#fb9f3a\"],[0.8888888888888888,\"#fdca26\"],[1.0,\"#f0f921\"]]}],\"contourcarpet\":[{\"type\":\"contourcarpet\",\"colorbar\":{\"outlinewidth\":0,\"ticks\":\"\"}}],\"contour\":[{\"type\":\"contour\",\"colorbar\":{\"outlinewidth\":0,\"ticks\":\"\"},\"colorscale\":[[0.0,\"#0d0887\"],[0.1111111111111111,\"#46039f\"],[0.2222222222222222,\"#7201a8\"],[0.3333333333333333,\"#9c179e\"],[0.4444444444444444,\"#bd3786\"],[0.5555555555555556,\"#d8576b\"],[0.6666666666666666,\"#ed7953\"],[0.7777777777777778,\"#fb9f3a\"],[0.8888888888888888,\"#fdca26\"],[1.0,\"#f0f921\"]]}],\"surface\":[{\"type\":\"surface\",\"colorbar\":{\"outlinewidth\":0,\"ticks\":\"\"},\"colorscale\":[[0.0,\"#0d0887\"],[0.1111111111111111,\"#46039f\"],[0.2222222222222222,\"#7201a8\"],[0.3333333333333333,\"#9c179e\"],[0.4444444444444444,\"#bd3786\"],[0.5555555555555556,\"#d8576b\"],[0.6666666666666666,\"#ed7953\"],[0.7777777777777778,\"#fb9f3a\"],[0.8888888888888888,\"#fdca26\"],[1.0,\"#f0f921\"]]}],\"mesh3d\":[{\"type\":\"mesh3d\",\"colorbar\":{\"outlinewidth\":0,\"ticks\":\"\"}}],\"scatter\":[{\"fillpattern\":{\"fillmode\":\"overlay\",\"size\":10,\"solidity\":0.2},\"type\":\"scatter\"}],\"parcoords\":[{\"type\":\"parcoords\",\"line\":{\"colorbar\":{\"outlinewidth\":0,\"ticks\":\"\"}}}],\"scatterpolargl\":[{\"type\":\"scatterpolargl\",\"marker\":{\"colorbar\":{\"outlinewidth\":0,\"ticks\":\"\"}}}],\"bar\":[{\"error_x\":{\"color\":\"#2a3f5f\"},\"error_y\":{\"color\":\"#2a3f5f\"},\"marker\":{\"line\":{\"color\":\"#E5ECF6\",\"width\":0.5},\"pattern\":{\"fillmode\":\"overlay\",\"size\":10,\"solidity\":0.2}},\"type\":\"bar\"}],\"scattergeo\":[{\"type\":\"scattergeo\",\"marker\":{\"colorbar\":{\"outlinewidth\":0,\"ticks\":\"\"}}}],\"scatterpolar\":[{\"type\":\"scatterpolar\",\"marker\":{\"colorbar\":{\"outlinewidth\":0,\"ticks\":\"\"}}}],\"histogram\":[{\"marker\":{\"pattern\":{\"fillmode\":\"overlay\",\"size\":10,\"solidity\":0.2}},\"type\":\"histogram\"}],\"scattergl\":[{\"type\":\"scattergl\",\"marker\":{\"colorbar\":{\"outlinewidth\":0,\"ticks\":\"\"}}}],\"scatter3d\":[{\"type\":\"scatter3d\",\"line\":{\"colorbar\":{\"outlinewidth\":0,\"ticks\":\"\"}},\"marker\":{\"colorbar\":{\"outlinewidth\":0,\"ticks\":\"\"}}}],\"scattermapbox\":[{\"type\":\"scattermapbox\",\"marker\":{\"colorbar\":{\"outlinewidth\":0,\"ticks\":\"\"}}}],\"scatterternary\":[{\"type\":\"scatterternary\",\"marker\":{\"colorbar\":{\"outlinewidth\":0,\"ticks\":\"\"}}}],\"scattercarpet\":[{\"type\":\"scattercarpet\",\"marker\":{\"colorbar\":{\"outlinewidth\":0,\"ticks\":\"\"}}}],\"carpet\":[{\"aaxis\":{\"endlinecolor\":\"#2a3f5f\",\"gridcolor\":\"white\",\"linecolor\":\"white\",\"minorgridcolor\":\"white\",\"startlinecolor\":\"#2a3f5f\"},\"baxis\":{\"endlinecolor\":\"#2a3f5f\",\"gridcolor\":\"white\",\"linecolor\":\"white\",\"minorgridcolor\":\"white\",\"startlinecolor\":\"#2a3f5f\"},\"type\":\"carpet\"}],\"table\":[{\"cells\":{\"fill\":{\"color\":\"#EBF0F8\"},\"line\":{\"color\":\"white\"}},\"header\":{\"fill\":{\"color\":\"#C8D4E3\"},\"line\":{\"color\":\"white\"}},\"type\":\"table\"}],\"barpolar\":[{\"marker\":{\"line\":{\"color\":\"#E5ECF6\",\"width\":0.5},\"pattern\":{\"fillmode\":\"overlay\",\"size\":10,\"solidity\":0.2}},\"type\":\"barpolar\"}],\"pie\":[{\"automargin\":true,\"type\":\"pie\"}]},\"layout\":{\"autotypenumbers\":\"strict\",\"colorway\":[\"#636efa\",\"#EF553B\",\"#00cc96\",\"#ab63fa\",\"#FFA15A\",\"#19d3f3\",\"#FF6692\",\"#B6E880\",\"#FF97FF\",\"#FECB52\"],\"font\":{\"color\":\"#2a3f5f\"},\"hovermode\":\"closest\",\"hoverlabel\":{\"align\":\"left\"},\"paper_bgcolor\":\"white\",\"plot_bgcolor\":\"#E5ECF6\",\"polar\":{\"bgcolor\":\"#E5ECF6\",\"angularaxis\":{\"gridcolor\":\"white\",\"linecolor\":\"white\",\"ticks\":\"\"},\"radialaxis\":{\"gridcolor\":\"white\",\"linecolor\":\"white\",\"ticks\":\"\"}},\"ternary\":{\"bgcolor\":\"#E5ECF6\",\"aaxis\":{\"gridcolor\":\"white\",\"linecolor\":\"white\",\"ticks\":\"\"},\"baxis\":{\"gridcolor\":\"white\",\"linecolor\":\"white\",\"ticks\":\"\"},\"caxis\":{\"gridcolor\":\"white\",\"linecolor\":\"white\",\"ticks\":\"\"}},\"coloraxis\":{\"colorbar\":{\"outlinewidth\":0,\"ticks\":\"\"}},\"colorscale\":{\"sequential\":[[0.0,\"#0d0887\"],[0.1111111111111111,\"#46039f\"],[0.2222222222222222,\"#7201a8\"],[0.3333333333333333,\"#9c179e\"],[0.4444444444444444,\"#bd3786\"],[0.5555555555555556,\"#d8576b\"],[0.6666666666666666,\"#ed7953\"],[0.7777777777777778,\"#fb9f3a\"],[0.8888888888888888,\"#fdca26\"],[1.0,\"#f0f921\"]],\"sequentialminus\":[[0.0,\"#0d0887\"],[0.1111111111111111,\"#46039f\"],[0.2222222222222222,\"#7201a8\"],[0.3333333333333333,\"#9c179e\"],[0.4444444444444444,\"#bd3786\"],[0.5555555555555556,\"#d8576b\"],[0.6666666666666666,\"#ed7953\"],[0.7777777777777778,\"#fb9f3a\"],[0.8888888888888888,\"#fdca26\"],[1.0,\"#f0f921\"]],\"diverging\":[[0,\"#8e0152\"],[0.1,\"#c51b7d\"],[0.2,\"#de77ae\"],[0.3,\"#f1b6da\"],[0.4,\"#fde0ef\"],[0.5,\"#f7f7f7\"],[0.6,\"#e6f5d0\"],[0.7,\"#b8e186\"],[0.8,\"#7fbc41\"],[0.9,\"#4d9221\"],[1,\"#276419\"]]},\"xaxis\":{\"gridcolor\":\"white\",\"linecolor\":\"white\",\"ticks\":\"\",\"title\":{\"standoff\":15},\"zerolinecolor\":\"white\",\"automargin\":true,\"zerolinewidth\":2},\"yaxis\":{\"gridcolor\":\"white\",\"linecolor\":\"white\",\"ticks\":\"\",\"title\":{\"standoff\":15},\"zerolinecolor\":\"white\",\"automargin\":true,\"zerolinewidth\":2},\"scene\":{\"xaxis\":{\"backgroundcolor\":\"#E5ECF6\",\"gridcolor\":\"white\",\"linecolor\":\"white\",\"showbackground\":true,\"ticks\":\"\",\"zerolinecolor\":\"white\",\"gridwidth\":2},\"yaxis\":{\"backgroundcolor\":\"#E5ECF6\",\"gridcolor\":\"white\",\"linecolor\":\"white\",\"showbackground\":true,\"ticks\":\"\",\"zerolinecolor\":\"white\",\"gridwidth\":2},\"zaxis\":{\"backgroundcolor\":\"#E5ECF6\",\"gridcolor\":\"white\",\"linecolor\":\"white\",\"showbackground\":true,\"ticks\":\"\",\"zerolinecolor\":\"white\",\"gridwidth\":2}},\"shapedefaults\":{\"line\":{\"color\":\"#2a3f5f\"}},\"annotationdefaults\":{\"arrowcolor\":\"#2a3f5f\",\"arrowhead\":0,\"arrowwidth\":1},\"geo\":{\"bgcolor\":\"white\",\"landcolor\":\"#E5ECF6\",\"subunitcolor\":\"white\",\"showland\":true,\"showlakes\":true,\"lakecolor\":\"white\"},\"title\":{\"x\":0.05},\"mapbox\":{\"style\":\"light\"}}},\"xaxis\":{\"anchor\":\"y\",\"domain\":[0.0,1.0],\"title\":{\"text\":\"Event Information Platform\\u002fSource\"},\"categoryorder\":\"array\",\"categoryarray\":[\"Other\",\"Whatsapp\",\"LinkedIn\",\"Instagram\",\"Facebook\"]},\"yaxis\":{\"anchor\":\"x\",\"domain\":[0.0,1.0],\"title\":{\"text\":\"count\"}},\"legend\":{\"title\":{\"text\":\"Event_info\"},\"tracegroupgap\":0},\"title\":{\"text\":\"Count of Attendee by Event Information Platform\\u002fSource\"},\"barmode\":\"relative\"},                        {\"responsive\": true}                    ).then(function(){\n",
              "                            \n",
              "var gd = document.getElementById('ab2f7529-f1c2-4a41-b3c3-f7d009f740bc');\n",
              "var x = new MutationObserver(function (mutations, observer) {{\n",
              "        var display = window.getComputedStyle(gd).display;\n",
              "        if (!display || display === 'none') {{\n",
              "            console.log([gd, 'removed!']);\n",
              "            Plotly.purge(gd);\n",
              "            observer.disconnect();\n",
              "        }}\n",
              "}});\n",
              "\n",
              "// Listen for the removal of the full notebook cells\n",
              "var notebookContainer = gd.closest('#notebook-container');\n",
              "if (notebookContainer) {{\n",
              "    x.observe(notebookContainer, {childList: true});\n",
              "}}\n",
              "\n",
              "// Listen for the clearing of the current output cell\n",
              "var outputEl = gd.closest('.output');\n",
              "if (outputEl) {{\n",
              "    x.observe(outputEl, {childList: true});\n",
              "}}\n",
              "\n",
              "                        })                };                            </script>        </div>\n",
              "</body>\n",
              "</html>"
            ]
          },
          "metadata": {},
          "output_type": "display_data"
        }
      ],
      "source": [
        "event_info = final_df['How did you come to know about this event?'].value_counts().keys()\n",
        "count = final_df['How did you come to know about this event?'].value_counts().values\n",
        "labels = [str(val) for val in count]\n",
        "\n",
        "event_info_plot_df = pd.DataFrame({\n",
        "    'Event_info': event_info,\n",
        "    'Count': count,\n",
        "})\n",
        "\n",
        "fig = px.bar(event_info_plot_df, x='Event_info', y='Count', text=labels, title='Count of Attendee by Event Information Platform/Source', template='plotly',color='Event_info', color_discrete_sequence=px.colors.qualitative.Plotly)\n",
        "\n",
        "# Set the labels for the y-axis and x-axis\n",
        "fig.update_yaxes(title_text='count')\n",
        "fig.update_xaxes(title_text='Event Information Platform/Source')\n",
        "\n",
        "# Show the plot\n",
        "fig.show()"
      ]
    },
    {
      "cell_type": "markdown",
      "id": "7ed079e2",
      "metadata": {
        "id": "7ed079e2"
      },
      "source": [
        "## 6. Let's use the 'Created' , 'Academic Year' and 'What is your current academic year?' columns to predict the Graduation Year of the attendee"
      ]
    },
    {
      "cell_type": "code",
      "execution_count": 31,
      "id": "9a5a61d2",
      "metadata": {
        "colab": {
          "base_uri": "https://localhost:8080/"
        },
        "id": "9a5a61d2",
        "outputId": "2388e554-1c4c-4df2-c629-1445ede495a6"
      },
      "outputs": [
        {
          "data": {
            "text/plain": [
              "Academic Year\n",
              "3.0    512\n",
              "2.0    295\n",
              "4.0    214\n",
              "1.0     62\n",
              "Name: count, dtype: int64"
            ]
          },
          "execution_count": 31,
          "metadata": {},
          "output_type": "execute_result"
        }
      ],
      "source": [
        "final_df['Academic Year'].value_counts()"
      ]
    },
    {
      "cell_type": "code",
      "execution_count": 32,
      "id": "ab4232b2",
      "metadata": {
        "colab": {
          "base_uri": "https://localhost:8080/"
        },
        "id": "ab4232b2",
        "outputId": "d2f20139-8461-4b58-d827-854275635ea4"
      },
      "outputs": [
        {
          "data": {
            "text/plain": [
              "What is your current academic year?\n",
              "3rd Year      21\n",
              "Final Year    19\n",
              "2nd Year      10\n",
              "1st Year       4\n",
              "Name: count, dtype: int64"
            ]
          },
          "execution_count": 32,
          "metadata": {},
          "output_type": "execute_result"
        }
      ],
      "source": [
        "final_df['What is your current academic year?'].value_counts()"
      ]
    },
    {
      "cell_type": "markdown",
      "id": "ab3a7f8d",
      "metadata": {
        "id": "ab3a7f8d"
      },
      "source": [
        "#### Replacing values in 'What is your current academic year?' column: -\n",
        "#### <ul><li>3rd Year to 3</li><li>Final Year to 4</li><li>2nd Year to 2</li><li>1st Year to 1</li></ul>"
      ]
    },
    {
      "cell_type": "code",
      "execution_count": 33,
      "id": "56eb3509",
      "metadata": {
        "id": "56eb3509"
      },
      "outputs": [],
      "source": [
        "final_df['What is your current academic year?'] = final_df['What is your current academic year?'].replace({\n",
        "    '3rd Year': 3,\n",
        "    'Final Year': 4,\n",
        "    '2nd Year': 2,\n",
        "    '1st Year': 1\n",
        "})"
      ]
    },
    {
      "cell_type": "markdown",
      "id": "c04e35b5",
      "metadata": {
        "id": "c04e35b5"
      },
      "source": [
        "#### Replacing null values to 0"
      ]
    },
    {
      "cell_type": "code",
      "execution_count": 34,
      "id": "3c5dbbff",
      "metadata": {
        "id": "3c5dbbff"
      },
      "outputs": [],
      "source": [
        "final_df['What is your current academic year?'] = final_df['What is your current academic year?'].fillna(0)"
      ]
    },
    {
      "cell_type": "code",
      "execution_count": 35,
      "id": "80d79735",
      "metadata": {
        "id": "80d79735"
      },
      "outputs": [],
      "source": [
        "final_df['What is your current academic year?'] = final_df['What is your current academic year?'].astype(int)"
      ]
    },
    {
      "cell_type": "markdown",
      "id": "82cd3366",
      "metadata": {
        "id": "82cd3366"
      },
      "source": [
        "#### Replacing values in 'Academic Year' column to their int data type from their original float data type"
      ]
    },
    {
      "cell_type": "markdown",
      "id": "92801317",
      "metadata": {
        "id": "92801317"
      },
      "source": [
        "##### Replacing null values to 0"
      ]
    },
    {
      "cell_type": "code",
      "execution_count": 36,
      "id": "6389ae8f",
      "metadata": {
        "id": "6389ae8f"
      },
      "outputs": [],
      "source": [
        "final_df['Academic Year'] = final_df['Academic Year'].fillna(0)"
      ]
    },
    {
      "cell_type": "code",
      "execution_count": 37,
      "id": "5c81c7de",
      "metadata": {
        "id": "5c81c7de"
      },
      "outputs": [],
      "source": [
        "final_df['Academic Year'] = final_df['Academic Year'].astype(int)"
      ]
    },
    {
      "cell_type": "code",
      "execution_count": 38,
      "id": "5549bfad",
      "metadata": {
        "colab": {
          "base_uri": "https://localhost:8080/",
          "height": 953
        },
        "id": "5549bfad",
        "outputId": "7a0da00b-38fb-4653-8bad-17a28166a61f"
      },
      "outputs": [
        {
          "data": {
            "application/vnd.google.colaboratory.intrinsic+json": {
              "repr_error": "0",
              "type": "dataframe"
            },
            "text/html": [
              "\n",
              "  <div id=\"df-0100ddb3-be8c-46cc-bd73-f5f62f082d9f\" class=\"colab-df-container\">\n",
              "    <div>\n",
              "<style scoped>\n",
              "    .dataframe tbody tr th:only-of-type {\n",
              "        vertical-align: middle;\n",
              "    }\n",
              "\n",
              "    .dataframe tbody tr th {\n",
              "        vertical-align: top;\n",
              "    }\n",
              "\n",
              "    .dataframe thead th {\n",
              "        text-align: right;\n",
              "    }\n",
              "</style>\n",
              "<table border=\"1\" class=\"dataframe\">\n",
              "  <thead>\n",
              "    <tr style=\"text-align: right;\">\n",
              "      <th></th>\n",
              "      <th>ID</th>\n",
              "      <th>First Name</th>\n",
              "      <th>Email</th>\n",
              "      <th>Gender</th>\n",
              "      <th>City</th>\n",
              "      <th>Created</th>\n",
              "      <th>Academic Year</th>\n",
              "      <th>What is your current academic year?</th>\n",
              "      <th>Company Name/ College Name</th>\n",
              "      <th>Would you like to know more about us and our programs?</th>\n",
              "      <th>Are you interested in knowing more about our events?</th>\n",
              "      <th>Have you recommended Cloud Counselage to anyone?</th>\n",
              "      <th>How did you come to know about this event?</th>\n",
              "      <th>Branch</th>\n",
              "      <th>College</th>\n",
              "    </tr>\n",
              "  </thead>\n",
              "  <tbody>\n",
              "    <tr>\n",
              "      <th>5237</th>\n",
              "      <td>26036</td>\n",
              "      <td>ANJANA</td>\n",
              "      <td>anjana@xyz.com</td>\n",
              "      <td>NaN</td>\n",
              "      <td>NaN</td>\n",
              "      <td>11/19/2019 10:59:56 am</td>\n",
              "      <td>0</td>\n",
              "      <td>0</td>\n",
              "      <td>NaN</td>\n",
              "      <td>no</td>\n",
              "      <td>no</td>\n",
              "      <td>no</td>\n",
              "      <td>NaN</td>\n",
              "      <td>NaN</td>\n",
              "      <td>NaN</td>\n",
              "    </tr>\n",
              "    <tr>\n",
              "      <th>5238</th>\n",
              "      <td>26032</td>\n",
              "      <td>Gajrotar</td>\n",
              "      <td>gajrotar@xyz.com</td>\n",
              "      <td>NaN</td>\n",
              "      <td>NaN</td>\n",
              "      <td>11/18/2019 08:43:13 pm</td>\n",
              "      <td>0</td>\n",
              "      <td>0</td>\n",
              "      <td>NaN</td>\n",
              "      <td>no</td>\n",
              "      <td>no</td>\n",
              "      <td>no</td>\n",
              "      <td>NaN</td>\n",
              "      <td>NaN</td>\n",
              "      <td>NaN</td>\n",
              "    </tr>\n",
              "    <tr>\n",
              "      <th>5240</th>\n",
              "      <td>26028</td>\n",
              "      <td>Nihal</td>\n",
              "      <td>nihal@xyz.com</td>\n",
              "      <td>NaN</td>\n",
              "      <td>NaN</td>\n",
              "      <td>11/17/2019 01:34:49 pm</td>\n",
              "      <td>0</td>\n",
              "      <td>0</td>\n",
              "      <td>NaN</td>\n",
              "      <td>no</td>\n",
              "      <td>no</td>\n",
              "      <td>no</td>\n",
              "      <td>NaN</td>\n",
              "      <td>NaN</td>\n",
              "      <td>NaN</td>\n",
              "    </tr>\n",
              "    <tr>\n",
              "      <th>5245</th>\n",
              "      <td>25960</td>\n",
              "      <td>Akshinsinh</td>\n",
              "      <td>akshinsinh@xyz.com</td>\n",
              "      <td>NaN</td>\n",
              "      <td>NaN</td>\n",
              "      <td>10/25/2019 10:09:13 am</td>\n",
              "      <td>3</td>\n",
              "      <td>0</td>\n",
              "      <td>NaN</td>\n",
              "      <td>no</td>\n",
              "      <td>no</td>\n",
              "      <td>no</td>\n",
              "      <td>NaN</td>\n",
              "      <td>NaN</td>\n",
              "      <td>SIES Graduate School of Technology SIES Gradua...</td>\n",
              "    </tr>\n",
              "    <tr>\n",
              "      <th>5246</th>\n",
              "      <td>25956</td>\n",
              "      <td>Charmi</td>\n",
              "      <td>charmi@xyz.com</td>\n",
              "      <td>NaN</td>\n",
              "      <td>NaN</td>\n",
              "      <td>10/23/2019 07:06:38 pm</td>\n",
              "      <td>0</td>\n",
              "      <td>0</td>\n",
              "      <td>NaN</td>\n",
              "      <td>no</td>\n",
              "      <td>no</td>\n",
              "      <td>no</td>\n",
              "      <td>NaN</td>\n",
              "      <td>NaN</td>\n",
              "      <td>NaN</td>\n",
              "    </tr>\n",
              "    <tr>\n",
              "      <th>5250</th>\n",
              "      <td>25940</td>\n",
              "      <td>vraj</td>\n",
              "      <td>vraj@xyz.com</td>\n",
              "      <td>NaN</td>\n",
              "      <td>NaN</td>\n",
              "      <td>10/18/2019 01:03:15 pm</td>\n",
              "      <td>0</td>\n",
              "      <td>0</td>\n",
              "      <td>NaN</td>\n",
              "      <td>no</td>\n",
              "      <td>no</td>\n",
              "      <td>no</td>\n",
              "      <td>NaN</td>\n",
              "      <td>NaN</td>\n",
              "      <td>NaN</td>\n",
              "    </tr>\n",
              "    <tr>\n",
              "      <th>5255</th>\n",
              "      <td>25920</td>\n",
              "      <td>Hemil</td>\n",
              "      <td>hemil@xyz.com</td>\n",
              "      <td>NaN</td>\n",
              "      <td>NaN</td>\n",
              "      <td>10/16/2019 01:37:18 pm</td>\n",
              "      <td>3</td>\n",
              "      <td>0</td>\n",
              "      <td>NaN</td>\n",
              "      <td>no</td>\n",
              "      <td>no</td>\n",
              "      <td>no</td>\n",
              "      <td>NaN</td>\n",
              "      <td>NaN</td>\n",
              "      <td>Others Don Bosco College of Engineering</td>\n",
              "    </tr>\n",
              "    <tr>\n",
              "      <th>5256</th>\n",
              "      <td>25918</td>\n",
              "      <td>Shitij</td>\n",
              "      <td>shitij@xyz.com</td>\n",
              "      <td>NaN</td>\n",
              "      <td>NaN</td>\n",
              "      <td>10/16/2019 01:35:50 pm</td>\n",
              "      <td>3</td>\n",
              "      <td>0</td>\n",
              "      <td>NaN</td>\n",
              "      <td>no</td>\n",
              "      <td>no</td>\n",
              "      <td>no</td>\n",
              "      <td>NaN</td>\n",
              "      <td>NaN</td>\n",
              "      <td>Others Don Bosco College Of Engineering Goa</td>\n",
              "    </tr>\n",
              "    <tr>\n",
              "      <th>5258</th>\n",
              "      <td>25914</td>\n",
              "      <td>dirgh</td>\n",
              "      <td>dirgh@xyz.com</td>\n",
              "      <td>NaN</td>\n",
              "      <td>NaN</td>\n",
              "      <td>10/16/2019 11:28:11 am</td>\n",
              "      <td>0</td>\n",
              "      <td>0</td>\n",
              "      <td>NaN</td>\n",
              "      <td>no</td>\n",
              "      <td>no</td>\n",
              "      <td>no</td>\n",
              "      <td>NaN</td>\n",
              "      <td>NaN</td>\n",
              "      <td>NaN</td>\n",
              "    </tr>\n",
              "    <tr>\n",
              "      <th>5260</th>\n",
              "      <td>25910</td>\n",
              "      <td>UTkarsha</td>\n",
              "      <td>utkarsha@xyz.com</td>\n",
              "      <td>NaN</td>\n",
              "      <td>NaN</td>\n",
              "      <td>10/16/2019 10:22:55 am</td>\n",
              "      <td>0</td>\n",
              "      <td>0</td>\n",
              "      <td>NaN</td>\n",
              "      <td>no</td>\n",
              "      <td>no</td>\n",
              "      <td>no</td>\n",
              "      <td>NaN</td>\n",
              "      <td>NaN</td>\n",
              "      <td>NaN</td>\n",
              "    </tr>\n",
              "  </tbody>\n",
              "</table>\n",
              "</div>\n",
              "    <div class=\"colab-df-buttons\">\n",
              "\n",
              "  <div class=\"colab-df-container\">\n",
              "    <button class=\"colab-df-convert\" onclick=\"convertToInteractive('df-0100ddb3-be8c-46cc-bd73-f5f62f082d9f')\"\n",
              "            title=\"Convert this dataframe to an interactive table.\"\n",
              "            style=\"display:none;\">\n",
              "\n",
              "  <svg xmlns=\"http://www.w3.org/2000/svg\" height=\"24px\" viewBox=\"0 -960 960 960\">\n",
              "    <path d=\"M120-120v-720h720v720H120Zm60-500h600v-160H180v160Zm220 220h160v-160H400v160Zm0 220h160v-160H400v160ZM180-400h160v-160H180v160Zm440 0h160v-160H620v160ZM180-180h160v-160H180v160Zm440 0h160v-160H620v160Z\"/>\n",
              "  </svg>\n",
              "    </button>\n",
              "\n",
              "  <style>\n",
              "    .colab-df-container {\n",
              "      display:flex;\n",
              "      gap: 12px;\n",
              "    }\n",
              "\n",
              "    .colab-df-convert {\n",
              "      background-color: #E8F0FE;\n",
              "      border: none;\n",
              "      border-radius: 50%;\n",
              "      cursor: pointer;\n",
              "      display: none;\n",
              "      fill: #1967D2;\n",
              "      height: 32px;\n",
              "      padding: 0 0 0 0;\n",
              "      width: 32px;\n",
              "    }\n",
              "\n",
              "    .colab-df-convert:hover {\n",
              "      background-color: #E2EBFA;\n",
              "      box-shadow: 0px 1px 2px rgba(60, 64, 67, 0.3), 0px 1px 3px 1px rgba(60, 64, 67, 0.15);\n",
              "      fill: #174EA6;\n",
              "    }\n",
              "\n",
              "    .colab-df-buttons div {\n",
              "      margin-bottom: 4px;\n",
              "    }\n",
              "\n",
              "    [theme=dark] .colab-df-convert {\n",
              "      background-color: #3B4455;\n",
              "      fill: #D2E3FC;\n",
              "    }\n",
              "\n",
              "    [theme=dark] .colab-df-convert:hover {\n",
              "      background-color: #434B5C;\n",
              "      box-shadow: 0px 1px 3px 1px rgba(0, 0, 0, 0.15);\n",
              "      filter: drop-shadow(0px 1px 2px rgba(0, 0, 0, 0.3));\n",
              "      fill: #FFFFFF;\n",
              "    }\n",
              "  </style>\n",
              "\n",
              "    <script>\n",
              "      const buttonEl =\n",
              "        document.querySelector('#df-0100ddb3-be8c-46cc-bd73-f5f62f082d9f button.colab-df-convert');\n",
              "      buttonEl.style.display =\n",
              "        google.colab.kernel.accessAllowed ? 'block' : 'none';\n",
              "\n",
              "      async function convertToInteractive(key) {\n",
              "        const element = document.querySelector('#df-0100ddb3-be8c-46cc-bd73-f5f62f082d9f');\n",
              "        const dataTable =\n",
              "          await google.colab.kernel.invokeFunction('convertToInteractive',\n",
              "                                                    [key], {});\n",
              "        if (!dataTable) return;\n",
              "\n",
              "        const docLinkHtml = 'Like what you see? Visit the ' +\n",
              "          '<a target=\"_blank\" href=https://colab.research.google.com/notebooks/data_table.ipynb>data table notebook</a>'\n",
              "          + ' to learn more about interactive tables.';\n",
              "        element.innerHTML = '';\n",
              "        dataTable['output_type'] = 'display_data';\n",
              "        await google.colab.output.renderOutput(dataTable, element);\n",
              "        const docLink = document.createElement('div');\n",
              "        docLink.innerHTML = docLinkHtml;\n",
              "        element.appendChild(docLink);\n",
              "      }\n",
              "    </script>\n",
              "  </div>\n",
              "\n",
              "\n",
              "<div id=\"df-18ca505b-be3a-4abd-b074-d94362f7d619\">\n",
              "  <button class=\"colab-df-quickchart\" onclick=\"quickchart('df-18ca505b-be3a-4abd-b074-d94362f7d619')\"\n",
              "            title=\"Suggest charts\"\n",
              "            style=\"display:none;\">\n",
              "\n",
              "<svg xmlns=\"http://www.w3.org/2000/svg\" height=\"24px\"viewBox=\"0 0 24 24\"\n",
              "     width=\"24px\">\n",
              "    <g>\n",
              "        <path d=\"M19 3H5c-1.1 0-2 .9-2 2v14c0 1.1.9 2 2 2h14c1.1 0 2-.9 2-2V5c0-1.1-.9-2-2-2zM9 17H7v-7h2v7zm4 0h-2V7h2v10zm4 0h-2v-4h2v4z\"/>\n",
              "    </g>\n",
              "</svg>\n",
              "  </button>\n",
              "\n",
              "<style>\n",
              "  .colab-df-quickchart {\n",
              "      --bg-color: #E8F0FE;\n",
              "      --fill-color: #1967D2;\n",
              "      --hover-bg-color: #E2EBFA;\n",
              "      --hover-fill-color: #174EA6;\n",
              "      --disabled-fill-color: #AAA;\n",
              "      --disabled-bg-color: #DDD;\n",
              "  }\n",
              "\n",
              "  [theme=dark] .colab-df-quickchart {\n",
              "      --bg-color: #3B4455;\n",
              "      --fill-color: #D2E3FC;\n",
              "      --hover-bg-color: #434B5C;\n",
              "      --hover-fill-color: #FFFFFF;\n",
              "      --disabled-bg-color: #3B4455;\n",
              "      --disabled-fill-color: #666;\n",
              "  }\n",
              "\n",
              "  .colab-df-quickchart {\n",
              "    background-color: var(--bg-color);\n",
              "    border: none;\n",
              "    border-radius: 50%;\n",
              "    cursor: pointer;\n",
              "    display: none;\n",
              "    fill: var(--fill-color);\n",
              "    height: 32px;\n",
              "    padding: 0;\n",
              "    width: 32px;\n",
              "  }\n",
              "\n",
              "  .colab-df-quickchart:hover {\n",
              "    background-color: var(--hover-bg-color);\n",
              "    box-shadow: 0 1px 2px rgba(60, 64, 67, 0.3), 0 1px 3px 1px rgba(60, 64, 67, 0.15);\n",
              "    fill: var(--button-hover-fill-color);\n",
              "  }\n",
              "\n",
              "  .colab-df-quickchart-complete:disabled,\n",
              "  .colab-df-quickchart-complete:disabled:hover {\n",
              "    background-color: var(--disabled-bg-color);\n",
              "    fill: var(--disabled-fill-color);\n",
              "    box-shadow: none;\n",
              "  }\n",
              "\n",
              "  .colab-df-spinner {\n",
              "    border: 2px solid var(--fill-color);\n",
              "    border-color: transparent;\n",
              "    border-bottom-color: var(--fill-color);\n",
              "    animation:\n",
              "      spin 1s steps(1) infinite;\n",
              "  }\n",
              "\n",
              "  @keyframes spin {\n",
              "    0% {\n",
              "      border-color: transparent;\n",
              "      border-bottom-color: var(--fill-color);\n",
              "      border-left-color: var(--fill-color);\n",
              "    }\n",
              "    20% {\n",
              "      border-color: transparent;\n",
              "      border-left-color: var(--fill-color);\n",
              "      border-top-color: var(--fill-color);\n",
              "    }\n",
              "    30% {\n",
              "      border-color: transparent;\n",
              "      border-left-color: var(--fill-color);\n",
              "      border-top-color: var(--fill-color);\n",
              "      border-right-color: var(--fill-color);\n",
              "    }\n",
              "    40% {\n",
              "      border-color: transparent;\n",
              "      border-right-color: var(--fill-color);\n",
              "      border-top-color: var(--fill-color);\n",
              "    }\n",
              "    60% {\n",
              "      border-color: transparent;\n",
              "      border-right-color: var(--fill-color);\n",
              "    }\n",
              "    80% {\n",
              "      border-color: transparent;\n",
              "      border-right-color: var(--fill-color);\n",
              "      border-bottom-color: var(--fill-color);\n",
              "    }\n",
              "    90% {\n",
              "      border-color: transparent;\n",
              "      border-bottom-color: var(--fill-color);\n",
              "    }\n",
              "  }\n",
              "</style>\n",
              "\n",
              "  <script>\n",
              "    async function quickchart(key) {\n",
              "      const quickchartButtonEl =\n",
              "        document.querySelector('#' + key + ' button');\n",
              "      quickchartButtonEl.disabled = true;  // To prevent multiple clicks.\n",
              "      quickchartButtonEl.classList.add('colab-df-spinner');\n",
              "      try {\n",
              "        const charts = await google.colab.kernel.invokeFunction(\n",
              "            'suggestCharts', [key], {});\n",
              "      } catch (error) {\n",
              "        console.error('Error during call to suggestCharts:', error);\n",
              "      }\n",
              "      quickchartButtonEl.classList.remove('colab-df-spinner');\n",
              "      quickchartButtonEl.classList.add('colab-df-quickchart-complete');\n",
              "    }\n",
              "    (() => {\n",
              "      let quickchartButtonEl =\n",
              "        document.querySelector('#df-18ca505b-be3a-4abd-b074-d94362f7d619 button');\n",
              "      quickchartButtonEl.style.display =\n",
              "        google.colab.kernel.accessAllowed ? 'block' : 'none';\n",
              "    })();\n",
              "  </script>\n",
              "</div>\n",
              "\n",
              "    </div>\n",
              "  </div>\n"
            ],
            "text/plain": [
              "         ID  First Name               Email Gender City  \\\n",
              "5237  26036      ANJANA      anjana@xyz.com    NaN  NaN   \n",
              "5238  26032    Gajrotar    gajrotar@xyz.com    NaN  NaN   \n",
              "5240  26028       Nihal       nihal@xyz.com    NaN  NaN   \n",
              "5245  25960  Akshinsinh  akshinsinh@xyz.com    NaN  NaN   \n",
              "5246  25956      Charmi      charmi@xyz.com    NaN  NaN   \n",
              "5250  25940        vraj        vraj@xyz.com    NaN  NaN   \n",
              "5255  25920       Hemil       hemil@xyz.com    NaN  NaN   \n",
              "5256  25918      Shitij      shitij@xyz.com    NaN  NaN   \n",
              "5258  25914       dirgh       dirgh@xyz.com    NaN  NaN   \n",
              "5260  25910    UTkarsha    utkarsha@xyz.com    NaN  NaN   \n",
              "\n",
              "                     Created  Academic Year  \\\n",
              "5237  11/19/2019 10:59:56 am              0   \n",
              "5238  11/18/2019 08:43:13 pm              0   \n",
              "5240  11/17/2019 01:34:49 pm              0   \n",
              "5245  10/25/2019 10:09:13 am              3   \n",
              "5246  10/23/2019 07:06:38 pm              0   \n",
              "5250  10/18/2019 01:03:15 pm              0   \n",
              "5255  10/16/2019 01:37:18 pm              3   \n",
              "5256  10/16/2019 01:35:50 pm              3   \n",
              "5258  10/16/2019 11:28:11 am              0   \n",
              "5260  10/16/2019 10:22:55 am              0   \n",
              "\n",
              "      What is your current academic year? Company Name/ College Name  \\\n",
              "5237                                    0                        NaN   \n",
              "5238                                    0                        NaN   \n",
              "5240                                    0                        NaN   \n",
              "5245                                    0                        NaN   \n",
              "5246                                    0                        NaN   \n",
              "5250                                    0                        NaN   \n",
              "5255                                    0                        NaN   \n",
              "5256                                    0                        NaN   \n",
              "5258                                    0                        NaN   \n",
              "5260                                    0                        NaN   \n",
              "\n",
              "     Would you like to know more about us and our programs?  \\\n",
              "5237                                                 no       \n",
              "5238                                                 no       \n",
              "5240                                                 no       \n",
              "5245                                                 no       \n",
              "5246                                                 no       \n",
              "5250                                                 no       \n",
              "5255                                                 no       \n",
              "5256                                                 no       \n",
              "5258                                                 no       \n",
              "5260                                                 no       \n",
              "\n",
              "     Are you interested in knowing more about our events?  \\\n",
              "5237                                                 no     \n",
              "5238                                                 no     \n",
              "5240                                                 no     \n",
              "5245                                                 no     \n",
              "5246                                                 no     \n",
              "5250                                                 no     \n",
              "5255                                                 no     \n",
              "5256                                                 no     \n",
              "5258                                                 no     \n",
              "5260                                                 no     \n",
              "\n",
              "     Have you recommended Cloud Counselage to anyone?  \\\n",
              "5237                                               no   \n",
              "5238                                               no   \n",
              "5240                                               no   \n",
              "5245                                               no   \n",
              "5246                                               no   \n",
              "5250                                               no   \n",
              "5255                                               no   \n",
              "5256                                               no   \n",
              "5258                                               no   \n",
              "5260                                               no   \n",
              "\n",
              "     How did you come to know about this event? Branch  \\\n",
              "5237                                        NaN    NaN   \n",
              "5238                                        NaN    NaN   \n",
              "5240                                        NaN    NaN   \n",
              "5245                                        NaN    NaN   \n",
              "5246                                        NaN    NaN   \n",
              "5250                                        NaN    NaN   \n",
              "5255                                        NaN    NaN   \n",
              "5256                                        NaN    NaN   \n",
              "5258                                        NaN    NaN   \n",
              "5260                                        NaN    NaN   \n",
              "\n",
              "                                                College  \n",
              "5237                                                NaN  \n",
              "5238                                                NaN  \n",
              "5240                                                NaN  \n",
              "5245  SIES Graduate School of Technology SIES Gradua...  \n",
              "5246                                                NaN  \n",
              "5250                                                NaN  \n",
              "5255            Others Don Bosco College of Engineering  \n",
              "5256        Others Don Bosco College Of Engineering Goa  \n",
              "5258                                                NaN  \n",
              "5260                                                NaN  "
            ]
          },
          "execution_count": 38,
          "metadata": {},
          "output_type": "execute_result"
        }
      ],
      "source": [
        "final_df.tail(10)"
      ]
    },
    {
      "cell_type": "code",
      "execution_count": 39,
      "id": "fc736f0d",
      "metadata": {
        "colab": {
          "base_uri": "https://localhost:8080/"
        },
        "id": "fc736f0d",
        "outputId": "9c9d3832-4b7e-43bf-f9e9-23fde77a31e2"
      },
      "outputs": [
        {
          "data": {
            "text/plain": [
              "Academic Year\n",
              "0    1725\n",
              "3     512\n",
              "2     295\n",
              "4     214\n",
              "1      62\n",
              "Name: count, dtype: int64"
            ]
          },
          "execution_count": 39,
          "metadata": {},
          "output_type": "execute_result"
        }
      ],
      "source": [
        "final_df['Academic Year'].value_counts()"
      ]
    },
    {
      "cell_type": "code",
      "execution_count": 40,
      "id": "e1f38a69",
      "metadata": {
        "colab": {
          "base_uri": "https://localhost:8080/"
        },
        "id": "e1f38a69",
        "outputId": "c69ad44d-97be-41a6-c9fb-5a2d83147cc5"
      },
      "outputs": [
        {
          "data": {
            "text/plain": [
              "What is your current academic year?\n",
              "0    2754\n",
              "3      21\n",
              "4      19\n",
              "2      10\n",
              "1       4\n",
              "Name: count, dtype: int64"
            ]
          },
          "execution_count": 40,
          "metadata": {},
          "output_type": "execute_result"
        }
      ],
      "source": [
        "final_df['What is your current academic year?'].value_counts()"
      ]
    },
    {
      "cell_type": "markdown",
      "id": "cba5a6dc",
      "metadata": {
        "id": "cba5a6dc"
      },
      "source": [
        "#### We have add values to 'Academic Year' column from 'What is your current academic year?' column where 'Academic Year' column was 0 (Null) and 'What is your current academic year?' column was non-zero (Non-Null)"
      ]
    },
    {
      "cell_type": "code",
      "execution_count": 41,
      "id": "ab1b07cb",
      "metadata": {
        "id": "ab1b07cb"
      },
      "outputs": [],
      "source": [
        "final_df.loc[final_df['Academic Year'] == 0, 'Academic Year'] += final_df['What is your current academic year?']"
      ]
    },
    {
      "cell_type": "code",
      "execution_count": 42,
      "id": "0acc094c",
      "metadata": {
        "colab": {
          "base_uri": "https://localhost:8080/"
        },
        "id": "0acc094c",
        "outputId": "bd2feb1b-57cc-45a9-fbf8-e186cfb3da54"
      },
      "outputs": [
        {
          "data": {
            "text/plain": [
              "Academic Year\n",
              "0    1710\n",
              "3     515\n",
              "2     297\n",
              "4     221\n",
              "1      65\n",
              "Name: count, dtype: int64"
            ]
          },
          "execution_count": 42,
          "metadata": {},
          "output_type": "execute_result"
        }
      ],
      "source": [
        "final_df['Academic Year'].value_counts()"
      ]
    },
    {
      "cell_type": "markdown",
      "id": "af2688c7",
      "metadata": {
        "id": "af2688c7"
      },
      "source": [
        "#### Hence, we can now drop the 'What is your current academic year?' column from the dataset"
      ]
    },
    {
      "cell_type": "code",
      "execution_count": 43,
      "id": "fe59aa4e",
      "metadata": {
        "id": "fe59aa4e"
      },
      "outputs": [],
      "source": [
        "final_df = final_df.drop('What is your current academic year?', axis=1)"
      ]
    },
    {
      "cell_type": "markdown",
      "id": "0608e348",
      "metadata": {
        "id": "0608e348"
      },
      "source": [
        "#### Now, let's extract Month, Year from the 'Created' column of the dataset, using the datetime module"
      ]
    },
    {
      "cell_type": "code",
      "execution_count": 44,
      "id": "c60ed084",
      "metadata": {
        "colab": {
          "base_uri": "https://localhost:8080/"
        },
        "id": "c60ed084",
        "outputId": "a628fbef-a3e4-42bb-a918-25b137c2cddd"
      },
      "outputs": [
        {
          "name": "stderr",
          "output_type": "stream",
          "text": [
            "<ipython-input-44-354308497516>:1: UserWarning:\n",
            "\n",
            "Could not infer format, so each element will be parsed individually, falling back to `dateutil`. To ensure parsing is consistent and as-expected, please specify a format.\n",
            "\n"
          ]
        }
      ],
      "source": [
        "final_df['Created'] = pd.to_datetime(final_df['Created'])"
      ]
    },
    {
      "cell_type": "code",
      "execution_count": 45,
      "id": "f9f74528",
      "metadata": {
        "id": "f9f74528"
      },
      "outputs": [],
      "source": [
        "final_df['Month'] = final_df['Created'].dt.month\n",
        "final_df['Year'] = final_df['Created'].dt.year"
      ]
    },
    {
      "cell_type": "code",
      "execution_count": 46,
      "id": "ccc17038",
      "metadata": {
        "colab": {
          "base_uri": "https://localhost:8080/",
          "height": 484
        },
        "id": "ccc17038",
        "outputId": "c9806a80-8c71-4926-ea6d-e5ee4a6786cd"
      },
      "outputs": [
        {
          "data": {
            "application/vnd.google.colaboratory.intrinsic+json": {
              "summary": "{\n  \"name\": \"final_df\",\n  \"rows\": 2808,\n  \"fields\": [\n    {\n      \"column\": \"ID\",\n      \"properties\": {\n        \"dtype\": \"number\",\n        \"std\": 14440,\n        \"min\": 25910,\n        \"max\": 68112,\n        \"num_unique_values\": 2808,\n        \"samples\": [\n          38986,\n          32150,\n          31996\n        ],\n        \"semantic_type\": \"\",\n        \"description\": \"\"\n      }\n    },\n    {\n      \"column\": \"First Name\",\n      \"properties\": {\n        \"dtype\": \"string\",\n        \"num_unique_values\": 2808,\n        \"samples\": [\n          \"Jordan\",\n          \"MADHUKAR\",\n          \"Rahmatullah\"\n        ],\n        \"semantic_type\": \"\",\n        \"description\": \"\"\n      }\n    },\n    {\n      \"column\": \"Email\",\n      \"properties\": {\n        \"dtype\": \"string\",\n        \"num_unique_values\": 2808,\n        \"samples\": [\n          \"jordan@xyz.com\",\n          \"madhukar@xyz.com\",\n          \"rahmatullah@xyz.com\"\n        ],\n        \"semantic_type\": \"\",\n        \"description\": \"\"\n      }\n    },\n    {\n      \"column\": \"Gender\",\n      \"properties\": {\n        \"dtype\": \"category\",\n        \"num_unique_values\": 2,\n        \"samples\": [\n          \"Male\",\n          \"Female\"\n        ],\n        \"semantic_type\": \"\",\n        \"description\": \"\"\n      }\n    },\n    {\n      \"column\": \"City\",\n      \"properties\": {\n        \"dtype\": \"category\",\n        \"num_unique_values\": 19,\n        \"samples\": [\n          \"Frankfurt\",\n          \"Nagpur\"\n        ],\n        \"semantic_type\": \"\",\n        \"description\": \"\"\n      }\n    },\n    {\n      \"column\": \"Created\",\n      \"properties\": {\n        \"dtype\": \"date\",\n        \"min\": \"2019-10-16 10:22:55\",\n        \"max\": \"2022-04-27 13:41:38\",\n        \"num_unique_values\": 2798,\n        \"samples\": [\n          \"2020-04-29 11:06:40\",\n          \"2020-02-26 20:16:02\"\n        ],\n        \"semantic_type\": \"\",\n        \"description\": \"\"\n      }\n    },\n    {\n      \"column\": \"Academic Year\",\n      \"properties\": {\n        \"dtype\": \"number\",\n        \"std\": 1,\n        \"min\": 0,\n        \"max\": 4,\n        \"num_unique_values\": 5,\n        \"samples\": [\n          3,\n          4\n        ],\n        \"semantic_type\": \"\",\n        \"description\": \"\"\n      }\n    },\n    {\n      \"column\": \"Company Name/ College Name\",\n      \"properties\": {\n        \"dtype\": \"category\",\n        \"num_unique_values\": 129,\n        \"samples\": [\n          \"Swami Keshvanand Institute of Technology\",\n          \"Welingkar Institute of Management, Mumbai\"\n        ],\n        \"semantic_type\": \"\",\n        \"description\": \"\"\n      }\n    },\n    {\n      \"column\": \"Would you like to know more about us and our programs?\",\n      \"properties\": {\n        \"dtype\": \"category\",\n        \"num_unique_values\": 2,\n        \"samples\": [\n          \"no\",\n          \"yes\"\n        ],\n        \"semantic_type\": \"\",\n        \"description\": \"\"\n      }\n    },\n    {\n      \"column\": \"Are you interested in knowing more about our events?\",\n      \"properties\": {\n        \"dtype\": \"category\",\n        \"num_unique_values\": 2,\n        \"samples\": [\n          \"no\",\n          \"yes\"\n        ],\n        \"semantic_type\": \"\",\n        \"description\": \"\"\n      }\n    },\n    {\n      \"column\": \"Have you recommended Cloud Counselage to anyone?\",\n      \"properties\": {\n        \"dtype\": \"category\",\n        \"num_unique_values\": 2,\n        \"samples\": [\n          \"yes\",\n          \"no\"\n        ],\n        \"semantic_type\": \"\",\n        \"description\": \"\"\n      }\n    },\n    {\n      \"column\": \"How did you come to know about this event?\",\n      \"properties\": {\n        \"dtype\": \"category\",\n        \"num_unique_values\": 5,\n        \"samples\": [\n          \"Instagram\",\n          \"Facebook\"\n        ],\n        \"semantic_type\": \"\",\n        \"description\": \"\"\n      }\n    },\n    {\n      \"column\": \"Branch\",\n      \"properties\": {\n        \"dtype\": \"category\",\n        \"num_unique_values\": 133,\n        \"samples\": [\n          \"Other Computer Technology\",\n          \"Other electronics engineering\"\n        ],\n        \"semantic_type\": \"\",\n        \"description\": \"\"\n      }\n    },\n    {\n      \"column\": \"College\",\n      \"properties\": {\n        \"dtype\": \"category\",\n        \"num_unique_values\": 410,\n        \"samples\": [\n          \"Others Pune Vidya Bhawan\",\n          \"Veermata Jijabai Technological Institute Veermata Jijabai Technological Institute\"\n        ],\n        \"semantic_type\": \"\",\n        \"description\": \"\"\n      }\n    },\n    {\n      \"column\": \"Month\",\n      \"properties\": {\n        \"dtype\": \"int32\",\n        \"num_unique_values\": 12,\n        \"samples\": [\n          9,\n          10\n        ],\n        \"semantic_type\": \"\",\n        \"description\": \"\"\n      }\n    },\n    {\n      \"column\": \"Year\",\n      \"properties\": {\n        \"dtype\": \"int32\",\n        \"num_unique_values\": 4,\n        \"samples\": [\n          2021,\n          2019\n        ],\n        \"semantic_type\": \"\",\n        \"description\": \"\"\n      }\n    }\n  ]\n}",
              "type": "dataframe",
              "variable_name": "final_df"
            },
            "text/html": [
              "\n",
              "  <div id=\"df-45ef2132-6880-4c0f-884a-c634e5a73619\" class=\"colab-df-container\">\n",
              "    <div>\n",
              "<style scoped>\n",
              "    .dataframe tbody tr th:only-of-type {\n",
              "        vertical-align: middle;\n",
              "    }\n",
              "\n",
              "    .dataframe tbody tr th {\n",
              "        vertical-align: top;\n",
              "    }\n",
              "\n",
              "    .dataframe thead th {\n",
              "        text-align: right;\n",
              "    }\n",
              "</style>\n",
              "<table border=\"1\" class=\"dataframe\">\n",
              "  <thead>\n",
              "    <tr style=\"text-align: right;\">\n",
              "      <th></th>\n",
              "      <th>ID</th>\n",
              "      <th>First Name</th>\n",
              "      <th>Email</th>\n",
              "      <th>Gender</th>\n",
              "      <th>City</th>\n",
              "      <th>Created</th>\n",
              "      <th>Academic Year</th>\n",
              "      <th>Company Name/ College Name</th>\n",
              "      <th>Would you like to know more about us and our programs?</th>\n",
              "      <th>Are you interested in knowing more about our events?</th>\n",
              "      <th>Have you recommended Cloud Counselage to anyone?</th>\n",
              "      <th>How did you come to know about this event?</th>\n",
              "      <th>Branch</th>\n",
              "      <th>College</th>\n",
              "      <th>Month</th>\n",
              "      <th>Year</th>\n",
              "    </tr>\n",
              "  </thead>\n",
              "  <tbody>\n",
              "    <tr>\n",
              "      <th>0</th>\n",
              "      <td>68112</td>\n",
              "      <td>ANIKET</td>\n",
              "      <td>aniket@xyz.com</td>\n",
              "      <td>NaN</td>\n",
              "      <td>NaN</td>\n",
              "      <td>2022-04-27 13:41:38</td>\n",
              "      <td>0</td>\n",
              "      <td>NaN</td>\n",
              "      <td>yes</td>\n",
              "      <td>yes</td>\n",
              "      <td>no</td>\n",
              "      <td>NaN</td>\n",
              "      <td>NaN</td>\n",
              "      <td>NaN</td>\n",
              "      <td>4</td>\n",
              "      <td>2022</td>\n",
              "    </tr>\n",
              "    <tr>\n",
              "      <th>1</th>\n",
              "      <td>68110</td>\n",
              "      <td>Dhanshree</td>\n",
              "      <td>dhanshree@xyz.com</td>\n",
              "      <td>NaN</td>\n",
              "      <td>NaN</td>\n",
              "      <td>2022-04-22 16:08:38</td>\n",
              "      <td>0</td>\n",
              "      <td>NaN</td>\n",
              "      <td>yes</td>\n",
              "      <td>yes</td>\n",
              "      <td>no</td>\n",
              "      <td>NaN</td>\n",
              "      <td>NaN</td>\n",
              "      <td>NaN</td>\n",
              "      <td>4</td>\n",
              "      <td>2022</td>\n",
              "    </tr>\n",
              "    <tr>\n",
              "      <th>2</th>\n",
              "      <td>68108</td>\n",
              "      <td>Dhiraj</td>\n",
              "      <td>dhiraj@xyz.com</td>\n",
              "      <td>NaN</td>\n",
              "      <td>NaN</td>\n",
              "      <td>2022-04-16 22:31:59</td>\n",
              "      <td>0</td>\n",
              "      <td>NaN</td>\n",
              "      <td>yes</td>\n",
              "      <td>yes</td>\n",
              "      <td>no</td>\n",
              "      <td>NaN</td>\n",
              "      <td>NaN</td>\n",
              "      <td>NaN</td>\n",
              "      <td>4</td>\n",
              "      <td>2022</td>\n",
              "    </tr>\n",
              "    <tr>\n",
              "      <th>3</th>\n",
              "      <td>68106</td>\n",
              "      <td>Pooja</td>\n",
              "      <td>pooja@xyz.com</td>\n",
              "      <td>NaN</td>\n",
              "      <td>NaN</td>\n",
              "      <td>2022-04-13 22:05:15</td>\n",
              "      <td>0</td>\n",
              "      <td>NaN</td>\n",
              "      <td>yes</td>\n",
              "      <td>yes</td>\n",
              "      <td>no</td>\n",
              "      <td>NaN</td>\n",
              "      <td>NaN</td>\n",
              "      <td>NaN</td>\n",
              "      <td>4</td>\n",
              "      <td>2022</td>\n",
              "    </tr>\n",
              "    <tr>\n",
              "      <th>4</th>\n",
              "      <td>68090</td>\n",
              "      <td>Aayush</td>\n",
              "      <td>aayush@xyz.com</td>\n",
              "      <td>NaN</td>\n",
              "      <td>NaN</td>\n",
              "      <td>2022-03-26 19:02:48</td>\n",
              "      <td>0</td>\n",
              "      <td>NaN</td>\n",
              "      <td>yes</td>\n",
              "      <td>yes</td>\n",
              "      <td>no</td>\n",
              "      <td>NaN</td>\n",
              "      <td>NaN</td>\n",
              "      <td>NaN</td>\n",
              "      <td>3</td>\n",
              "      <td>2022</td>\n",
              "    </tr>\n",
              "  </tbody>\n",
              "</table>\n",
              "</div>\n",
              "    <div class=\"colab-df-buttons\">\n",
              "\n",
              "  <div class=\"colab-df-container\">\n",
              "    <button class=\"colab-df-convert\" onclick=\"convertToInteractive('df-45ef2132-6880-4c0f-884a-c634e5a73619')\"\n",
              "            title=\"Convert this dataframe to an interactive table.\"\n",
              "            style=\"display:none;\">\n",
              "\n",
              "  <svg xmlns=\"http://www.w3.org/2000/svg\" height=\"24px\" viewBox=\"0 -960 960 960\">\n",
              "    <path d=\"M120-120v-720h720v720H120Zm60-500h600v-160H180v160Zm220 220h160v-160H400v160Zm0 220h160v-160H400v160ZM180-400h160v-160H180v160Zm440 0h160v-160H620v160ZM180-180h160v-160H180v160Zm440 0h160v-160H620v160Z\"/>\n",
              "  </svg>\n",
              "    </button>\n",
              "\n",
              "  <style>\n",
              "    .colab-df-container {\n",
              "      display:flex;\n",
              "      gap: 12px;\n",
              "    }\n",
              "\n",
              "    .colab-df-convert {\n",
              "      background-color: #E8F0FE;\n",
              "      border: none;\n",
              "      border-radius: 50%;\n",
              "      cursor: pointer;\n",
              "      display: none;\n",
              "      fill: #1967D2;\n",
              "      height: 32px;\n",
              "      padding: 0 0 0 0;\n",
              "      width: 32px;\n",
              "    }\n",
              "\n",
              "    .colab-df-convert:hover {\n",
              "      background-color: #E2EBFA;\n",
              "      box-shadow: 0px 1px 2px rgba(60, 64, 67, 0.3), 0px 1px 3px 1px rgba(60, 64, 67, 0.15);\n",
              "      fill: #174EA6;\n",
              "    }\n",
              "\n",
              "    .colab-df-buttons div {\n",
              "      margin-bottom: 4px;\n",
              "    }\n",
              "\n",
              "    [theme=dark] .colab-df-convert {\n",
              "      background-color: #3B4455;\n",
              "      fill: #D2E3FC;\n",
              "    }\n",
              "\n",
              "    [theme=dark] .colab-df-convert:hover {\n",
              "      background-color: #434B5C;\n",
              "      box-shadow: 0px 1px 3px 1px rgba(0, 0, 0, 0.15);\n",
              "      filter: drop-shadow(0px 1px 2px rgba(0, 0, 0, 0.3));\n",
              "      fill: #FFFFFF;\n",
              "    }\n",
              "  </style>\n",
              "\n",
              "    <script>\n",
              "      const buttonEl =\n",
              "        document.querySelector('#df-45ef2132-6880-4c0f-884a-c634e5a73619 button.colab-df-convert');\n",
              "      buttonEl.style.display =\n",
              "        google.colab.kernel.accessAllowed ? 'block' : 'none';\n",
              "\n",
              "      async function convertToInteractive(key) {\n",
              "        const element = document.querySelector('#df-45ef2132-6880-4c0f-884a-c634e5a73619');\n",
              "        const dataTable =\n",
              "          await google.colab.kernel.invokeFunction('convertToInteractive',\n",
              "                                                    [key], {});\n",
              "        if (!dataTable) return;\n",
              "\n",
              "        const docLinkHtml = 'Like what you see? Visit the ' +\n",
              "          '<a target=\"_blank\" href=https://colab.research.google.com/notebooks/data_table.ipynb>data table notebook</a>'\n",
              "          + ' to learn more about interactive tables.';\n",
              "        element.innerHTML = '';\n",
              "        dataTable['output_type'] = 'display_data';\n",
              "        await google.colab.output.renderOutput(dataTable, element);\n",
              "        const docLink = document.createElement('div');\n",
              "        docLink.innerHTML = docLinkHtml;\n",
              "        element.appendChild(docLink);\n",
              "      }\n",
              "    </script>\n",
              "  </div>\n",
              "\n",
              "\n",
              "<div id=\"df-a70ef255-2a8d-42b2-b01c-0b6cacf8e13c\">\n",
              "  <button class=\"colab-df-quickchart\" onclick=\"quickchart('df-a70ef255-2a8d-42b2-b01c-0b6cacf8e13c')\"\n",
              "            title=\"Suggest charts\"\n",
              "            style=\"display:none;\">\n",
              "\n",
              "<svg xmlns=\"http://www.w3.org/2000/svg\" height=\"24px\"viewBox=\"0 0 24 24\"\n",
              "     width=\"24px\">\n",
              "    <g>\n",
              "        <path d=\"M19 3H5c-1.1 0-2 .9-2 2v14c0 1.1.9 2 2 2h14c1.1 0 2-.9 2-2V5c0-1.1-.9-2-2-2zM9 17H7v-7h2v7zm4 0h-2V7h2v10zm4 0h-2v-4h2v4z\"/>\n",
              "    </g>\n",
              "</svg>\n",
              "  </button>\n",
              "\n",
              "<style>\n",
              "  .colab-df-quickchart {\n",
              "      --bg-color: #E8F0FE;\n",
              "      --fill-color: #1967D2;\n",
              "      --hover-bg-color: #E2EBFA;\n",
              "      --hover-fill-color: #174EA6;\n",
              "      --disabled-fill-color: #AAA;\n",
              "      --disabled-bg-color: #DDD;\n",
              "  }\n",
              "\n",
              "  [theme=dark] .colab-df-quickchart {\n",
              "      --bg-color: #3B4455;\n",
              "      --fill-color: #D2E3FC;\n",
              "      --hover-bg-color: #434B5C;\n",
              "      --hover-fill-color: #FFFFFF;\n",
              "      --disabled-bg-color: #3B4455;\n",
              "      --disabled-fill-color: #666;\n",
              "  }\n",
              "\n",
              "  .colab-df-quickchart {\n",
              "    background-color: var(--bg-color);\n",
              "    border: none;\n",
              "    border-radius: 50%;\n",
              "    cursor: pointer;\n",
              "    display: none;\n",
              "    fill: var(--fill-color);\n",
              "    height: 32px;\n",
              "    padding: 0;\n",
              "    width: 32px;\n",
              "  }\n",
              "\n",
              "  .colab-df-quickchart:hover {\n",
              "    background-color: var(--hover-bg-color);\n",
              "    box-shadow: 0 1px 2px rgba(60, 64, 67, 0.3), 0 1px 3px 1px rgba(60, 64, 67, 0.15);\n",
              "    fill: var(--button-hover-fill-color);\n",
              "  }\n",
              "\n",
              "  .colab-df-quickchart-complete:disabled,\n",
              "  .colab-df-quickchart-complete:disabled:hover {\n",
              "    background-color: var(--disabled-bg-color);\n",
              "    fill: var(--disabled-fill-color);\n",
              "    box-shadow: none;\n",
              "  }\n",
              "\n",
              "  .colab-df-spinner {\n",
              "    border: 2px solid var(--fill-color);\n",
              "    border-color: transparent;\n",
              "    border-bottom-color: var(--fill-color);\n",
              "    animation:\n",
              "      spin 1s steps(1) infinite;\n",
              "  }\n",
              "\n",
              "  @keyframes spin {\n",
              "    0% {\n",
              "      border-color: transparent;\n",
              "      border-bottom-color: var(--fill-color);\n",
              "      border-left-color: var(--fill-color);\n",
              "    }\n",
              "    20% {\n",
              "      border-color: transparent;\n",
              "      border-left-color: var(--fill-color);\n",
              "      border-top-color: var(--fill-color);\n",
              "    }\n",
              "    30% {\n",
              "      border-color: transparent;\n",
              "      border-left-color: var(--fill-color);\n",
              "      border-top-color: var(--fill-color);\n",
              "      border-right-color: var(--fill-color);\n",
              "    }\n",
              "    40% {\n",
              "      border-color: transparent;\n",
              "      border-right-color: var(--fill-color);\n",
              "      border-top-color: var(--fill-color);\n",
              "    }\n",
              "    60% {\n",
              "      border-color: transparent;\n",
              "      border-right-color: var(--fill-color);\n",
              "    }\n",
              "    80% {\n",
              "      border-color: transparent;\n",
              "      border-right-color: var(--fill-color);\n",
              "      border-bottom-color: var(--fill-color);\n",
              "    }\n",
              "    90% {\n",
              "      border-color: transparent;\n",
              "      border-bottom-color: var(--fill-color);\n",
              "    }\n",
              "  }\n",
              "</style>\n",
              "\n",
              "  <script>\n",
              "    async function quickchart(key) {\n",
              "      const quickchartButtonEl =\n",
              "        document.querySelector('#' + key + ' button');\n",
              "      quickchartButtonEl.disabled = true;  // To prevent multiple clicks.\n",
              "      quickchartButtonEl.classList.add('colab-df-spinner');\n",
              "      try {\n",
              "        const charts = await google.colab.kernel.invokeFunction(\n",
              "            'suggestCharts', [key], {});\n",
              "      } catch (error) {\n",
              "        console.error('Error during call to suggestCharts:', error);\n",
              "      }\n",
              "      quickchartButtonEl.classList.remove('colab-df-spinner');\n",
              "      quickchartButtonEl.classList.add('colab-df-quickchart-complete');\n",
              "    }\n",
              "    (() => {\n",
              "      let quickchartButtonEl =\n",
              "        document.querySelector('#df-a70ef255-2a8d-42b2-b01c-0b6cacf8e13c button');\n",
              "      quickchartButtonEl.style.display =\n",
              "        google.colab.kernel.accessAllowed ? 'block' : 'none';\n",
              "    })();\n",
              "  </script>\n",
              "</div>\n",
              "\n",
              "    </div>\n",
              "  </div>\n"
            ],
            "text/plain": [
              "      ID First Name              Email Gender City             Created  \\\n",
              "0  68112     ANIKET     aniket@xyz.com    NaN  NaN 2022-04-27 13:41:38   \n",
              "1  68110  Dhanshree  dhanshree@xyz.com    NaN  NaN 2022-04-22 16:08:38   \n",
              "2  68108     Dhiraj     dhiraj@xyz.com    NaN  NaN 2022-04-16 22:31:59   \n",
              "3  68106      Pooja      pooja@xyz.com    NaN  NaN 2022-04-13 22:05:15   \n",
              "4  68090     Aayush     aayush@xyz.com    NaN  NaN 2022-03-26 19:02:48   \n",
              "\n",
              "   Academic Year Company Name/ College Name  \\\n",
              "0              0                        NaN   \n",
              "1              0                        NaN   \n",
              "2              0                        NaN   \n",
              "3              0                        NaN   \n",
              "4              0                        NaN   \n",
              "\n",
              "  Would you like to know more about us and our programs?  \\\n",
              "0                                                yes       \n",
              "1                                                yes       \n",
              "2                                                yes       \n",
              "3                                                yes       \n",
              "4                                                yes       \n",
              "\n",
              "  Are you interested in knowing more about our events?  \\\n",
              "0                                                yes     \n",
              "1                                                yes     \n",
              "2                                                yes     \n",
              "3                                                yes     \n",
              "4                                                yes     \n",
              "\n",
              "  Have you recommended Cloud Counselage to anyone?  \\\n",
              "0                                               no   \n",
              "1                                               no   \n",
              "2                                               no   \n",
              "3                                               no   \n",
              "4                                               no   \n",
              "\n",
              "  How did you come to know about this event? Branch College  Month  Year  \n",
              "0                                        NaN    NaN     NaN      4  2022  \n",
              "1                                        NaN    NaN     NaN      4  2022  \n",
              "2                                        NaN    NaN     NaN      4  2022  \n",
              "3                                        NaN    NaN     NaN      4  2022  \n",
              "4                                        NaN    NaN     NaN      3  2022  "
            ]
          },
          "execution_count": 46,
          "metadata": {},
          "output_type": "execute_result"
        }
      ],
      "source": [
        "final_df.head()"
      ]
    },
    {
      "cell_type": "markdown",
      "id": "9f42559e",
      "metadata": {
        "id": "9f42559e"
      },
      "source": [
        "### <p style='color:red'>Since the data was provided for Engineering colleges attendees so , they have 4 years of curriculum and 8 semesters.</p>"
      ]
    },
    {
      "cell_type": "code",
      "execution_count": 47,
      "id": "9311207b",
      "metadata": {
        "id": "9311207b"
      },
      "outputs": [],
      "source": [
        "final_df['Year'] = final_df['Year'].astype(int)"
      ]
    },
    {
      "cell_type": "code",
      "execution_count": 48,
      "id": "793a3c33",
      "metadata": {
        "id": "793a3c33"
      },
      "outputs": [],
      "source": [
        "year_of_grad = []\n",
        "for i in range(len(final_df)):\n",
        "    academic_year = final_df.iloc[i]['Academic Year']\n",
        "    current_year = final_df.iloc[i]['Year']\n",
        "    if academic_year != 0:\n",
        "        if academic_year == 1:\n",
        "            year_of_grad.append(3 + current_year)\n",
        "        elif academic_year == 2:\n",
        "            year_of_grad.append(2 + current_year)\n",
        "        elif academic_year == 3:\n",
        "            year_of_grad.append(1 + current_year)\n",
        "        elif academic_year == 4:\n",
        "            year_of_grad.append(current_year)\n",
        "    else:\n",
        "        year_of_grad.append(0)"
      ]
    },
    {
      "cell_type": "code",
      "execution_count": 49,
      "id": "e4462033",
      "metadata": {
        "id": "e4462033"
      },
      "outputs": [],
      "source": [
        "final_df['Year of Graduation'] = year_of_grad"
      ]
    },
    {
      "cell_type": "code",
      "execution_count": 50,
      "id": "6df92c80",
      "metadata": {
        "colab": {
          "base_uri": "https://localhost:8080/"
        },
        "id": "6df92c80",
        "outputId": "b2c6c2a2-219f-45be-da77-0ffd00e47856"
      },
      "outputs": [
        {
          "data": {
            "text/plain": [
              "Year of Graduation\n",
              "0       1710\n",
              "2021     430\n",
              "2022     344\n",
              "2020     151\n",
              "2023     149\n",
              "2024      21\n",
              "2019       3\n",
              "Name: count, dtype: int64"
            ]
          },
          "execution_count": 50,
          "metadata": {},
          "output_type": "execute_result"
        }
      ],
      "source": [
        "final_df['Year of Graduation'].value_counts()"
      ]
    },
    {
      "cell_type": "markdown",
      "id": "80b95cf6",
      "metadata": {
        "id": "80b95cf6"
      },
      "source": [
        "#### Replacing 0 as a Blank in 'Year of Graduation'"
      ]
    },
    {
      "cell_type": "code",
      "execution_count": 51,
      "id": "ba50785f",
      "metadata": {
        "id": "ba50785f"
      },
      "outputs": [],
      "source": [
        "final_df['Year of Graduation'] = final_df['Year of Graduation'].replace({0 : ' '})"
      ]
    },
    {
      "cell_type": "code",
      "execution_count": 52,
      "id": "ae0e9782",
      "metadata": {
        "id": "ae0e9782"
      },
      "outputs": [],
      "source": [
        "final_df.to_excel('Predicted Year of Graduation.xlsx')\n",
        "final_df.to_csv('Predicted Year of Graduation.csv')"
      ]
    },
    {
      "cell_type": "code",
      "execution_count": 52,
      "id": "78594fc5",
      "metadata": {
        "id": "78594fc5"
      },
      "outputs": [],
      "source": []
    }
  ],
  "metadata": {
    "colab": {
      "provenance": []
    },
    "kernelspec": {
      "display_name": "Python 3 (ipykernel)",
      "language": "python",
      "name": "python3"
    },
    "language_info": {
      "codemirror_mode": {
        "name": "ipython",
        "version": 3
      },
      "file_extension": ".py",
      "mimetype": "text/x-python",
      "name": "python",
      "nbconvert_exporter": "python",
      "pygments_lexer": "ipython3",
      "version": "3.9.13"
    }
  },
  "nbformat": 4,
  "nbformat_minor": 5
}
